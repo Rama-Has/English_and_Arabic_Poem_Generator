{
  "nbformat": 4,
  "nbformat_minor": 0,
  "metadata": {
    "colab": {
      "provenance": [],
      "gpuType": "T4",
      "authorship_tag": "ABX9TyMILeZ+DZEfc2rL+73p8MGb",
      "include_colab_link": true
    },
    "kernelspec": {
      "name": "python3",
      "display_name": "Python 3"
    },
    "language_info": {
      "name": "python"
    },
    "accelerator": "GPU",
    "gpuClass": "standard"
  },
  "cells": [
    {
      "cell_type": "markdown",
      "metadata": {
        "id": "view-in-github",
        "colab_type": "text"
      },
      "source": [
        "<a href=\"https://colab.research.google.com/github/Rama-Has/Poem_Generator_Rama_Hasiba_12010022/blob/main/English_Poem_Generator_NLP_Final_Project.ipynb\" target=\"_parent\"><img src=\"https://colab.research.google.com/assets/colab-badge.svg\" alt=\"Open In Colab\"/></a>"
      ]
    },
    {
      "cell_type": "code",
      "source": [
        "from google.colab import files\n",
        "import io\n",
        "import numpy as np\n",
        "import pandas as pd\n",
        "import matplotlib.pyplot as plt\n",
        "import tensorflow.keras.utils as ku\n",
        "from wordcloud import WordCloud\n",
        "from tensorflow.keras.preprocessing.sequence import pad_sequences\n",
        "from tensorflow.keras.layers import Embedding, LSTM, Dense, Dropout, Bidirectional\n",
        "from tensorflow.keras.preprocessing.text import Tokenizer\n",
        "from tensorflow.keras.models import Sequential\n",
        "from tensorflow.keras.optimizers import Adam\n",
        "from tensorflow.keras import regularizers\n",
        "from keras.models import load_model  "
      ],
      "metadata": {
        "id": "7gbDUxVQ8I2G"
      },
      "execution_count": 1,
      "outputs": []
    },
    {
      "cell_type": "markdown",
      "source": [
        "# Building the Text Generator\n",
        "\n",
        "1. Load the data then perform some EDA.\n",
        "2. Creating the corpus"
      ],
      "metadata": {
        "id": "QjFrtuf673NL"
      }
    },
    {
      "cell_type": "markdown",
      "source": [
        "> `1. Load the data then perform some EDA.`"
      ],
      "metadata": {
        "id": "xwd4R2Sl9WEb"
      }
    },
    {
      "cell_type": "code",
      "source": [
        "from google.colab import drive\n",
        "drive.mount('/content/drive') \n",
        "# image_name = os.listdir('/content/imgs/Images')"
      ],
      "metadata": {
        "id": "8WnbI5nTiEvg"
      },
      "execution_count": null,
      "outputs": []
    },
    {
      "cell_type": "code",
      "source": [
        "uploaded_txt = files.upload()"
      ],
      "metadata": {
        "colab": {
          "base_uri": "https://localhost:8080/",
          "height": 73
        },
        "id": "w0SK35Gs75_L",
        "outputId": "3fbb62c3-3254-438b-de4c-748666c710d0"
      },
      "execution_count": null,
      "outputs": [
        {
          "output_type": "display_data",
          "data": {
            "text/plain": [
              "<IPython.core.display.HTML object>"
            ],
            "text/html": [
              "\n",
              "     <input type=\"file\" id=\"files-c3c18a30-dc56-4478-811c-5821447626a0\" name=\"files[]\" multiple disabled\n",
              "        style=\"border:none\" />\n",
              "     <output id=\"result-c3c18a30-dc56-4478-811c-5821447626a0\">\n",
              "      Upload widget is only available when the cell has been executed in the\n",
              "      current browser session. Please rerun this cell to enable.\n",
              "      </output>\n",
              "      <script>// Copyright 2017 Google LLC\n",
              "//\n",
              "// Licensed under the Apache License, Version 2.0 (the \"License\");\n",
              "// you may not use this file except in compliance with the License.\n",
              "// You may obtain a copy of the License at\n",
              "//\n",
              "//      http://www.apache.org/licenses/LICENSE-2.0\n",
              "//\n",
              "// Unless required by applicable law or agreed to in writing, software\n",
              "// distributed under the License is distributed on an \"AS IS\" BASIS,\n",
              "// WITHOUT WARRANTIES OR CONDITIONS OF ANY KIND, either express or implied.\n",
              "// See the License for the specific language governing permissions and\n",
              "// limitations under the License.\n",
              "\n",
              "/**\n",
              " * @fileoverview Helpers for google.colab Python module.\n",
              " */\n",
              "(function(scope) {\n",
              "function span(text, styleAttributes = {}) {\n",
              "  const element = document.createElement('span');\n",
              "  element.textContent = text;\n",
              "  for (const key of Object.keys(styleAttributes)) {\n",
              "    element.style[key] = styleAttributes[key];\n",
              "  }\n",
              "  return element;\n",
              "}\n",
              "\n",
              "// Max number of bytes which will be uploaded at a time.\n",
              "const MAX_PAYLOAD_SIZE = 100 * 1024;\n",
              "\n",
              "function _uploadFiles(inputId, outputId) {\n",
              "  const steps = uploadFilesStep(inputId, outputId);\n",
              "  const outputElement = document.getElementById(outputId);\n",
              "  // Cache steps on the outputElement to make it available for the next call\n",
              "  // to uploadFilesContinue from Python.\n",
              "  outputElement.steps = steps;\n",
              "\n",
              "  return _uploadFilesContinue(outputId);\n",
              "}\n",
              "\n",
              "// This is roughly an async generator (not supported in the browser yet),\n",
              "// where there are multiple asynchronous steps and the Python side is going\n",
              "// to poll for completion of each step.\n",
              "// This uses a Promise to block the python side on completion of each step,\n",
              "// then passes the result of the previous step as the input to the next step.\n",
              "function _uploadFilesContinue(outputId) {\n",
              "  const outputElement = document.getElementById(outputId);\n",
              "  const steps = outputElement.steps;\n",
              "\n",
              "  const next = steps.next(outputElement.lastPromiseValue);\n",
              "  return Promise.resolve(next.value.promise).then((value) => {\n",
              "    // Cache the last promise value to make it available to the next\n",
              "    // step of the generator.\n",
              "    outputElement.lastPromiseValue = value;\n",
              "    return next.value.response;\n",
              "  });\n",
              "}\n",
              "\n",
              "/**\n",
              " * Generator function which is called between each async step of the upload\n",
              " * process.\n",
              " * @param {string} inputId Element ID of the input file picker element.\n",
              " * @param {string} outputId Element ID of the output display.\n",
              " * @return {!Iterable<!Object>} Iterable of next steps.\n",
              " */\n",
              "function* uploadFilesStep(inputId, outputId) {\n",
              "  const inputElement = document.getElementById(inputId);\n",
              "  inputElement.disabled = false;\n",
              "\n",
              "  const outputElement = document.getElementById(outputId);\n",
              "  outputElement.innerHTML = '';\n",
              "\n",
              "  const pickedPromise = new Promise((resolve) => {\n",
              "    inputElement.addEventListener('change', (e) => {\n",
              "      resolve(e.target.files);\n",
              "    });\n",
              "  });\n",
              "\n",
              "  const cancel = document.createElement('button');\n",
              "  inputElement.parentElement.appendChild(cancel);\n",
              "  cancel.textContent = 'Cancel upload';\n",
              "  const cancelPromise = new Promise((resolve) => {\n",
              "    cancel.onclick = () => {\n",
              "      resolve(null);\n",
              "    };\n",
              "  });\n",
              "\n",
              "  // Wait for the user to pick the files.\n",
              "  const files = yield {\n",
              "    promise: Promise.race([pickedPromise, cancelPromise]),\n",
              "    response: {\n",
              "      action: 'starting',\n",
              "    }\n",
              "  };\n",
              "\n",
              "  cancel.remove();\n",
              "\n",
              "  // Disable the input element since further picks are not allowed.\n",
              "  inputElement.disabled = true;\n",
              "\n",
              "  if (!files) {\n",
              "    return {\n",
              "      response: {\n",
              "        action: 'complete',\n",
              "      }\n",
              "    };\n",
              "  }\n",
              "\n",
              "  for (const file of files) {\n",
              "    const li = document.createElement('li');\n",
              "    li.append(span(file.name, {fontWeight: 'bold'}));\n",
              "    li.append(span(\n",
              "        `(${file.type || 'n/a'}) - ${file.size} bytes, ` +\n",
              "        `last modified: ${\n",
              "            file.lastModifiedDate ? file.lastModifiedDate.toLocaleDateString() :\n",
              "                                    'n/a'} - `));\n",
              "    const percent = span('0% done');\n",
              "    li.appendChild(percent);\n",
              "\n",
              "    outputElement.appendChild(li);\n",
              "\n",
              "    const fileDataPromise = new Promise((resolve) => {\n",
              "      const reader = new FileReader();\n",
              "      reader.onload = (e) => {\n",
              "        resolve(e.target.result);\n",
              "      };\n",
              "      reader.readAsArrayBuffer(file);\n",
              "    });\n",
              "    // Wait for the data to be ready.\n",
              "    let fileData = yield {\n",
              "      promise: fileDataPromise,\n",
              "      response: {\n",
              "        action: 'continue',\n",
              "      }\n",
              "    };\n",
              "\n",
              "    // Use a chunked sending to avoid message size limits. See b/62115660.\n",
              "    let position = 0;\n",
              "    do {\n",
              "      const length = Math.min(fileData.byteLength - position, MAX_PAYLOAD_SIZE);\n",
              "      const chunk = new Uint8Array(fileData, position, length);\n",
              "      position += length;\n",
              "\n",
              "      const base64 = btoa(String.fromCharCode.apply(null, chunk));\n",
              "      yield {\n",
              "        response: {\n",
              "          action: 'append',\n",
              "          file: file.name,\n",
              "          data: base64,\n",
              "        },\n",
              "      };\n",
              "\n",
              "      let percentDone = fileData.byteLength === 0 ?\n",
              "          100 :\n",
              "          Math.round((position / fileData.byteLength) * 100);\n",
              "      percent.textContent = `${percentDone}% done`;\n",
              "\n",
              "    } while (position < fileData.byteLength);\n",
              "  }\n",
              "\n",
              "  // All done.\n",
              "  yield {\n",
              "    response: {\n",
              "      action: 'complete',\n",
              "    }\n",
              "  };\n",
              "}\n",
              "\n",
              "scope.google = scope.google || {};\n",
              "scope.google.colab = scope.google.colab || {};\n",
              "scope.google.colab._files = {\n",
              "  _uploadFiles,\n",
              "  _uploadFilesContinue,\n",
              "};\n",
              "})(self);\n",
              "</script> "
            ]
          },
          "metadata": {}
        },
        {
          "output_type": "stream",
          "name": "stdout",
          "text": [
            "Saving poem.txt to poem.txt\n"
          ]
        }
      ]
    },
    {
      "cell_type": "code",
      "source": [
        "# txt_data = uploaded_txt['poem.txt'].decode(\"utf-8\")\n",
        "txt_data = open('/content/poem.txt', 'r').read()"
      ],
      "metadata": {
        "id": "90j5E3GG-Bq8"
      },
      "execution_count": 8,
      "outputs": []
    },
    {
      "cell_type": "code",
      "source": [
        "uploaded_csv = files.upload()"
      ],
      "metadata": {
        "colab": {
          "base_uri": "https://localhost:8080/",
          "height": 73
        },
        "id": "NJIstE_Xhr8i",
        "outputId": "58001157-7e29-4cb1-b4ea-d51b8a5d6c55"
      },
      "execution_count": null,
      "outputs": [
        {
          "output_type": "display_data",
          "data": {
            "text/plain": [
              "<IPython.core.display.HTML object>"
            ],
            "text/html": [
              "\n",
              "     <input type=\"file\" id=\"files-38160975-c7dd-4807-ab89-0057b7f95c73\" name=\"files[]\" multiple disabled\n",
              "        style=\"border:none\" />\n",
              "     <output id=\"result-38160975-c7dd-4807-ab89-0057b7f95c73\">\n",
              "      Upload widget is only available when the cell has been executed in the\n",
              "      current browser session. Please rerun this cell to enable.\n",
              "      </output>\n",
              "      <script>// Copyright 2017 Google LLC\n",
              "//\n",
              "// Licensed under the Apache License, Version 2.0 (the \"License\");\n",
              "// you may not use this file except in compliance with the License.\n",
              "// You may obtain a copy of the License at\n",
              "//\n",
              "//      http://www.apache.org/licenses/LICENSE-2.0\n",
              "//\n",
              "// Unless required by applicable law or agreed to in writing, software\n",
              "// distributed under the License is distributed on an \"AS IS\" BASIS,\n",
              "// WITHOUT WARRANTIES OR CONDITIONS OF ANY KIND, either express or implied.\n",
              "// See the License for the specific language governing permissions and\n",
              "// limitations under the License.\n",
              "\n",
              "/**\n",
              " * @fileoverview Helpers for google.colab Python module.\n",
              " */\n",
              "(function(scope) {\n",
              "function span(text, styleAttributes = {}) {\n",
              "  const element = document.createElement('span');\n",
              "  element.textContent = text;\n",
              "  for (const key of Object.keys(styleAttributes)) {\n",
              "    element.style[key] = styleAttributes[key];\n",
              "  }\n",
              "  return element;\n",
              "}\n",
              "\n",
              "// Max number of bytes which will be uploaded at a time.\n",
              "const MAX_PAYLOAD_SIZE = 100 * 1024;\n",
              "\n",
              "function _uploadFiles(inputId, outputId) {\n",
              "  const steps = uploadFilesStep(inputId, outputId);\n",
              "  const outputElement = document.getElementById(outputId);\n",
              "  // Cache steps on the outputElement to make it available for the next call\n",
              "  // to uploadFilesContinue from Python.\n",
              "  outputElement.steps = steps;\n",
              "\n",
              "  return _uploadFilesContinue(outputId);\n",
              "}\n",
              "\n",
              "// This is roughly an async generator (not supported in the browser yet),\n",
              "// where there are multiple asynchronous steps and the Python side is going\n",
              "// to poll for completion of each step.\n",
              "// This uses a Promise to block the python side on completion of each step,\n",
              "// then passes the result of the previous step as the input to the next step.\n",
              "function _uploadFilesContinue(outputId) {\n",
              "  const outputElement = document.getElementById(outputId);\n",
              "  const steps = outputElement.steps;\n",
              "\n",
              "  const next = steps.next(outputElement.lastPromiseValue);\n",
              "  return Promise.resolve(next.value.promise).then((value) => {\n",
              "    // Cache the last promise value to make it available to the next\n",
              "    // step of the generator.\n",
              "    outputElement.lastPromiseValue = value;\n",
              "    return next.value.response;\n",
              "  });\n",
              "}\n",
              "\n",
              "/**\n",
              " * Generator function which is called between each async step of the upload\n",
              " * process.\n",
              " * @param {string} inputId Element ID of the input file picker element.\n",
              " * @param {string} outputId Element ID of the output display.\n",
              " * @return {!Iterable<!Object>} Iterable of next steps.\n",
              " */\n",
              "function* uploadFilesStep(inputId, outputId) {\n",
              "  const inputElement = document.getElementById(inputId);\n",
              "  inputElement.disabled = false;\n",
              "\n",
              "  const outputElement = document.getElementById(outputId);\n",
              "  outputElement.innerHTML = '';\n",
              "\n",
              "  const pickedPromise = new Promise((resolve) => {\n",
              "    inputElement.addEventListener('change', (e) => {\n",
              "      resolve(e.target.files);\n",
              "    });\n",
              "  });\n",
              "\n",
              "  const cancel = document.createElement('button');\n",
              "  inputElement.parentElement.appendChild(cancel);\n",
              "  cancel.textContent = 'Cancel upload';\n",
              "  const cancelPromise = new Promise((resolve) => {\n",
              "    cancel.onclick = () => {\n",
              "      resolve(null);\n",
              "    };\n",
              "  });\n",
              "\n",
              "  // Wait for the user to pick the files.\n",
              "  const files = yield {\n",
              "    promise: Promise.race([pickedPromise, cancelPromise]),\n",
              "    response: {\n",
              "      action: 'starting',\n",
              "    }\n",
              "  };\n",
              "\n",
              "  cancel.remove();\n",
              "\n",
              "  // Disable the input element since further picks are not allowed.\n",
              "  inputElement.disabled = true;\n",
              "\n",
              "  if (!files) {\n",
              "    return {\n",
              "      response: {\n",
              "        action: 'complete',\n",
              "      }\n",
              "    };\n",
              "  }\n",
              "\n",
              "  for (const file of files) {\n",
              "    const li = document.createElement('li');\n",
              "    li.append(span(file.name, {fontWeight: 'bold'}));\n",
              "    li.append(span(\n",
              "        `(${file.type || 'n/a'}) - ${file.size} bytes, ` +\n",
              "        `last modified: ${\n",
              "            file.lastModifiedDate ? file.lastModifiedDate.toLocaleDateString() :\n",
              "                                    'n/a'} - `));\n",
              "    const percent = span('0% done');\n",
              "    li.appendChild(percent);\n",
              "\n",
              "    outputElement.appendChild(li);\n",
              "\n",
              "    const fileDataPromise = new Promise((resolve) => {\n",
              "      const reader = new FileReader();\n",
              "      reader.onload = (e) => {\n",
              "        resolve(e.target.result);\n",
              "      };\n",
              "      reader.readAsArrayBuffer(file);\n",
              "    });\n",
              "    // Wait for the data to be ready.\n",
              "    let fileData = yield {\n",
              "      promise: fileDataPromise,\n",
              "      response: {\n",
              "        action: 'continue',\n",
              "      }\n",
              "    };\n",
              "\n",
              "    // Use a chunked sending to avoid message size limits. See b/62115660.\n",
              "    let position = 0;\n",
              "    do {\n",
              "      const length = Math.min(fileData.byteLength - position, MAX_PAYLOAD_SIZE);\n",
              "      const chunk = new Uint8Array(fileData, position, length);\n",
              "      position += length;\n",
              "\n",
              "      const base64 = btoa(String.fromCharCode.apply(null, chunk));\n",
              "      yield {\n",
              "        response: {\n",
              "          action: 'append',\n",
              "          file: file.name,\n",
              "          data: base64,\n",
              "        },\n",
              "      };\n",
              "\n",
              "      let percentDone = fileData.byteLength === 0 ?\n",
              "          100 :\n",
              "          Math.round((position / fileData.byteLength) * 100);\n",
              "      percent.textContent = `${percentDone}% done`;\n",
              "\n",
              "    } while (position < fileData.byteLength);\n",
              "  }\n",
              "\n",
              "  // All done.\n",
              "  yield {\n",
              "    response: {\n",
              "      action: 'complete',\n",
              "    }\n",
              "  };\n",
              "}\n",
              "\n",
              "scope.google = scope.google || {};\n",
              "scope.google.colab = scope.google.colab || {};\n",
              "scope.google.colab._files = {\n",
              "  _uploadFiles,\n",
              "  _uploadFilesContinue,\n",
              "};\n",
              "})(self);\n",
              "</script> "
            ]
          },
          "metadata": {}
        },
        {
          "output_type": "stream",
          "name": "stdout",
          "text": [
            "Saving merged_data.csv to merged_data.csv\n"
          ]
        }
      ]
    },
    {
      "cell_type": "code",
      "source": [
        "import io\n",
        "# csv_data = pd.read_csv(io.BytesIO(uploaded_csv['merged_data.csv']))\n",
        "csv_data = pd.read_csv('/content/merged_data.csv') "
      ],
      "metadata": {
        "id": "S7focYDKkLHe"
      },
      "execution_count": 10,
      "outputs": []
    },
    {
      "cell_type": "code",
      "source": [
        "csv_data = csv_data[['Verse']]\n",
        "csv_data"
      ],
      "metadata": {
        "id": "xPbV-2OxlNi_",
        "outputId": "45872445-452e-49cc-9111-e29a9ecde79b",
        "colab": {
          "base_uri": "https://localhost:8080/",
          "height": 423
        }
      },
      "execution_count": 11,
      "outputs": [
        {
          "output_type": "execute_result",
          "data": {
            "text/plain": [
              "                                                    Verse\n",
              "0               ah why this boding start this sudden pain\n",
              "1        that wings my pulse and shoots from vein to vein\n",
              "2               what mean regardless of yon midnight bell\n",
              "3          these earthborn visions saddening o'er my cell\n",
              "4       what strange disorder prompts these thoughts t...\n",
              "...                                                   ...\n",
              "198997                  were mellow music matchd with him\n",
              "198998                     o life as futile then as frail\n",
              "198999                o for thy voice to soothe and bless\n",
              "199000                     what hope of answer or redress\n",
              "199001                    behind the veil behind the veil\n",
              "\n",
              "[199002 rows x 1 columns]"
            ],
            "text/html": [
              "\n",
              "  <div id=\"df-36e02945-4d1f-434f-af2f-578089060927\">\n",
              "    <div class=\"colab-df-container\">\n",
              "      <div>\n",
              "<style scoped>\n",
              "    .dataframe tbody tr th:only-of-type {\n",
              "        vertical-align: middle;\n",
              "    }\n",
              "\n",
              "    .dataframe tbody tr th {\n",
              "        vertical-align: top;\n",
              "    }\n",
              "\n",
              "    .dataframe thead th {\n",
              "        text-align: right;\n",
              "    }\n",
              "</style>\n",
              "<table border=\"1\" class=\"dataframe\">\n",
              "  <thead>\n",
              "    <tr style=\"text-align: right;\">\n",
              "      <th></th>\n",
              "      <th>Verse</th>\n",
              "    </tr>\n",
              "  </thead>\n",
              "  <tbody>\n",
              "    <tr>\n",
              "      <th>0</th>\n",
              "      <td>ah why this boding start this sudden pain</td>\n",
              "    </tr>\n",
              "    <tr>\n",
              "      <th>1</th>\n",
              "      <td>that wings my pulse and shoots from vein to vein</td>\n",
              "    </tr>\n",
              "    <tr>\n",
              "      <th>2</th>\n",
              "      <td>what mean regardless of yon midnight bell</td>\n",
              "    </tr>\n",
              "    <tr>\n",
              "      <th>3</th>\n",
              "      <td>these earthborn visions saddening o'er my cell</td>\n",
              "    </tr>\n",
              "    <tr>\n",
              "      <th>4</th>\n",
              "      <td>what strange disorder prompts these thoughts t...</td>\n",
              "    </tr>\n",
              "    <tr>\n",
              "      <th>...</th>\n",
              "      <td>...</td>\n",
              "    </tr>\n",
              "    <tr>\n",
              "      <th>198997</th>\n",
              "      <td>were mellow music matchd with him</td>\n",
              "    </tr>\n",
              "    <tr>\n",
              "      <th>198998</th>\n",
              "      <td>o life as futile then as frail</td>\n",
              "    </tr>\n",
              "    <tr>\n",
              "      <th>198999</th>\n",
              "      <td>o for thy voice to soothe and bless</td>\n",
              "    </tr>\n",
              "    <tr>\n",
              "      <th>199000</th>\n",
              "      <td>what hope of answer or redress</td>\n",
              "    </tr>\n",
              "    <tr>\n",
              "      <th>199001</th>\n",
              "      <td>behind the veil behind the veil</td>\n",
              "    </tr>\n",
              "  </tbody>\n",
              "</table>\n",
              "<p>199002 rows × 1 columns</p>\n",
              "</div>\n",
              "      <button class=\"colab-df-convert\" onclick=\"convertToInteractive('df-36e02945-4d1f-434f-af2f-578089060927')\"\n",
              "              title=\"Convert this dataframe to an interactive table.\"\n",
              "              style=\"display:none;\">\n",
              "        \n",
              "  <svg xmlns=\"http://www.w3.org/2000/svg\" height=\"24px\"viewBox=\"0 0 24 24\"\n",
              "       width=\"24px\">\n",
              "    <path d=\"M0 0h24v24H0V0z\" fill=\"none\"/>\n",
              "    <path d=\"M18.56 5.44l.94 2.06.94-2.06 2.06-.94-2.06-.94-.94-2.06-.94 2.06-2.06.94zm-11 1L8.5 8.5l.94-2.06 2.06-.94-2.06-.94L8.5 2.5l-.94 2.06-2.06.94zm10 10l.94 2.06.94-2.06 2.06-.94-2.06-.94-.94-2.06-.94 2.06-2.06.94z\"/><path d=\"M17.41 7.96l-1.37-1.37c-.4-.4-.92-.59-1.43-.59-.52 0-1.04.2-1.43.59L10.3 9.45l-7.72 7.72c-.78.78-.78 2.05 0 2.83L4 21.41c.39.39.9.59 1.41.59.51 0 1.02-.2 1.41-.59l7.78-7.78 2.81-2.81c.8-.78.8-2.07 0-2.86zM5.41 20L4 18.59l7.72-7.72 1.47 1.35L5.41 20z\"/>\n",
              "  </svg>\n",
              "      </button>\n",
              "      \n",
              "  <style>\n",
              "    .colab-df-container {\n",
              "      display:flex;\n",
              "      flex-wrap:wrap;\n",
              "      gap: 12px;\n",
              "    }\n",
              "\n",
              "    .colab-df-convert {\n",
              "      background-color: #E8F0FE;\n",
              "      border: none;\n",
              "      border-radius: 50%;\n",
              "      cursor: pointer;\n",
              "      display: none;\n",
              "      fill: #1967D2;\n",
              "      height: 32px;\n",
              "      padding: 0 0 0 0;\n",
              "      width: 32px;\n",
              "    }\n",
              "\n",
              "    .colab-df-convert:hover {\n",
              "      background-color: #E2EBFA;\n",
              "      box-shadow: 0px 1px 2px rgba(60, 64, 67, 0.3), 0px 1px 3px 1px rgba(60, 64, 67, 0.15);\n",
              "      fill: #174EA6;\n",
              "    }\n",
              "\n",
              "    [theme=dark] .colab-df-convert {\n",
              "      background-color: #3B4455;\n",
              "      fill: #D2E3FC;\n",
              "    }\n",
              "\n",
              "    [theme=dark] .colab-df-convert:hover {\n",
              "      background-color: #434B5C;\n",
              "      box-shadow: 0px 1px 3px 1px rgba(0, 0, 0, 0.15);\n",
              "      filter: drop-shadow(0px 1px 2px rgba(0, 0, 0, 0.3));\n",
              "      fill: #FFFFFF;\n",
              "    }\n",
              "  </style>\n",
              "\n",
              "      <script>\n",
              "        const buttonEl =\n",
              "          document.querySelector('#df-36e02945-4d1f-434f-af2f-578089060927 button.colab-df-convert');\n",
              "        buttonEl.style.display =\n",
              "          google.colab.kernel.accessAllowed ? 'block' : 'none';\n",
              "\n",
              "        async function convertToInteractive(key) {\n",
              "          const element = document.querySelector('#df-36e02945-4d1f-434f-af2f-578089060927');\n",
              "          const dataTable =\n",
              "            await google.colab.kernel.invokeFunction('convertToInteractive',\n",
              "                                                     [key], {});\n",
              "          if (!dataTable) return;\n",
              "\n",
              "          const docLinkHtml = 'Like what you see? Visit the ' +\n",
              "            '<a target=\"_blank\" href=https://colab.research.google.com/notebooks/data_table.ipynb>data table notebook</a>'\n",
              "            + ' to learn more about interactive tables.';\n",
              "          element.innerHTML = '';\n",
              "          dataTable['output_type'] = 'display_data';\n",
              "          await google.colab.output.renderOutput(dataTable, element);\n",
              "          const docLink = document.createElement('div');\n",
              "          docLink.innerHTML = docLinkHtml;\n",
              "          element.appendChild(docLink);\n",
              "        }\n",
              "      </script>\n",
              "    </div>\n",
              "  </div>\n",
              "  "
            ]
          },
          "metadata": {},
          "execution_count": 11
        }
      ]
    },
    {
      "cell_type": "code",
      "source": [
        "# print(txt_data)"
      ],
      "metadata": {
        "id": "KdIuA4eg-aCf"
      },
      "execution_count": 12,
      "outputs": []
    },
    {
      "cell_type": "markdown",
      "source": [
        "> `2. Creating the corpus`\n",
        "\n",
        "* Text Preprocessing:\n",
        "\n",
        "\n",
        "    a. Make the text consistant by converting it to a lower case.\n",
        "\n",
        "    b. Tokenize the text using tensorflow tokenizer."
      ],
      "metadata": {
        "id": "IoA2TS-FBygO"
      }
    },
    {
      "cell_type": "code",
      "source": [
        "#Generating the corpus by splitting the text into lines.\n",
        "corpus = txt_data.lower().split(\"\\n\")"
      ],
      "metadata": {
        "id": "3hXkttDBBoMe"
      },
      "execution_count": 21,
      "outputs": []
    },
    {
      "cell_type": "code",
      "source": [
        "corpus[0: 3]"
      ],
      "metadata": {
        "colab": {
          "base_uri": "https://localhost:8080/"
        },
        "id": "kObfJixG_q-X",
        "outputId": "631c117a-7e14-40bc-9e8d-b54cb1477b45"
      },
      "execution_count": 22,
      "outputs": [
        {
          "output_type": "execute_result",
          "data": {
            "text/plain": [
              "['stay, i said', 'to the cut flowers.', 'they bowed']"
            ]
          },
          "metadata": {},
          "execution_count": 22
        }
      ]
    },
    {
      "cell_type": "code",
      "source": [
        "csv_poem_lines = [sentence.lower() for sentence in csv_data['Verse'].to_list()[0: 10000]]"
      ],
      "metadata": {
        "id": "Yp6DDuOc-t8S"
      },
      "execution_count": 14,
      "outputs": []
    },
    {
      "cell_type": "code",
      "source": [
        "csv_poem_lines[0: 5]"
      ],
      "metadata": {
        "colab": {
          "base_uri": "https://localhost:8080/"
        },
        "id": "DYkiepgF_PTK",
        "outputId": "903524e2-bd09-423f-bf16-e7159328f8f4"
      },
      "execution_count": 19,
      "outputs": [
        {
          "output_type": "execute_result",
          "data": {
            "text/plain": [
              "['ah why this boding start this sudden pain',\n",
              " 'that wings my pulse and shoots from vein to vein',\n",
              " 'what mean regardless of yon midnight bell',\n",
              " \"these earthborn visions saddening o'er my cell\",\n",
              " 'what strange disorder prompts these thoughts to glow']"
            ]
          },
          "metadata": {},
          "execution_count": 19
        }
      ]
    },
    {
      "cell_type": "code",
      "source": [
        "corpus = corpus + csv_poem_lines"
      ],
      "metadata": {
        "id": "tLHcevYNnhO3"
      },
      "execution_count": 23,
      "outputs": []
    },
    {
      "cell_type": "code",
      "source": [
        "print(f'There are a atotal of {len(corpus)} poem line in the dataset')"
      ],
      "metadata": {
        "colab": {
          "base_uri": "https://localhost:8080/"
        },
        "id": "HCwGwWvjqrnL",
        "outputId": "7df54da1-285a-46ee-bf36-9f61dd3c1672"
      },
      "execution_count": 24,
      "outputs": [
        {
          "output_type": "stream",
          "name": "stdout",
          "text": [
            "There are a atotal of 12478 poem line in the dataset\n"
          ]
        }
      ]
    },
    {
      "cell_type": "code",
      "source": [
        "corpus[0: 3]"
      ],
      "metadata": {
        "colab": {
          "base_uri": "https://localhost:8080/"
        },
        "id": "2UcQveDAvxvE",
        "outputId": "2ef6369c-8360-4cc4-a9d2-d899843b686a"
      },
      "execution_count": 25,
      "outputs": [
        {
          "output_type": "execute_result",
          "data": {
            "text/plain": [
              "['stay, i said', 'to the cut flowers.', 'they bowed']"
            ]
          },
          "metadata": {},
          "execution_count": 25
        }
      ]
    },
    {
      "cell_type": "code",
      "source": [
        "#get the length of each linem where length represent number of characters in that line \n",
        "line_length = [len(line) for line in corpus]\n",
        "line_length[0: 5]     "
      ],
      "metadata": {
        "colab": {
          "base_uri": "https://localhost:8080/"
        },
        "id": "HtrmXo69vM_o",
        "outputId": "d61aed2f-829d-423a-d9fa-d89e58da3372"
      },
      "execution_count": 26,
      "outputs": [
        {
          "output_type": "execute_result",
          "data": {
            "text/plain": [
              "[12, 19, 10, 18, 27]"
            ]
          },
          "metadata": {},
          "execution_count": 26
        }
      ]
    },
    {
      "cell_type": "code",
      "source": [
        "# !pip install seaborn"
      ],
      "metadata": {
        "id": "QeOFy3LYwYRD"
      },
      "execution_count": 27,
      "outputs": []
    },
    {
      "cell_type": "code",
      "source": [
        "import seaborn as sb"
      ],
      "metadata": {
        "id": "RpEp_fzYweSJ"
      },
      "execution_count": 28,
      "outputs": []
    },
    {
      "cell_type": "code",
      "source": [
        "# creating a figure\n",
        "\n",
        "f, (ax_box, ax_hist) = plt.subplots(2, sharex=True, gridspec_kw={\"height_ratios\": (.15, .85)})\n",
        "f.set_figheight(8)\n",
        "f.set_figwidth(12)\n",
        "f.tight_layout()\n",
        "f.suptitle('Line length distribution', y=1.02, fontsize=24)\n",
        "\n",
        "# # assigning a graph to each axis\n",
        "\n",
        "sb.boxplot(x = line_length, ax=ax_box, )\n",
        "# sb.histplot(data=data, x=\"quote_length\", ax=ax_hist)\n",
        "# ax_hist.set_xlabel('Quote length')\n",
        "# ax_box.set_xlabel('')\n",
        "\n",
        "plt.show()"
      ],
      "metadata": {
        "colab": {
          "base_uri": "https://localhost:8080/",
          "height": 567
        },
        "id": "MSwwWu6awEjW",
        "outputId": "e383e056-19a5-42d6-ca0b-061d2cb73213"
      },
      "execution_count": 29,
      "outputs": [
        {
          "output_type": "display_data",
          "data": {
            "text/plain": [
              "<Figure size 1200x800 with 2 Axes>"
            ],
            "image/png": "[encoded data removed]"
          },
          "metadata": {}
        }
      ]
    },
    {
      "cell_type": "code",
      "source": [
        "# Generating the wordCloud ti visiualize the text\n",
        "wordcloud = WordCloud(max_font_size=50,\n",
        "                      max_words=100,\n",
        "                      background_color=\"black\").generate(\" \".join(corpus))\n",
        " \n",
        "# Plotting the WordCloud\n",
        "plt.figure(figsize=(8, 4))\n",
        "plt.imshow(wordcloud, interpolation='bilinear')\n",
        "plt.axis(\"off\")\n",
        "plt.savefig(\"WordCloud.png\")\n",
        "plt.show()"
      ],
      "metadata": {
        "colab": {
          "base_uri": "https://localhost:8080/",
          "height": 345
        },
        "id": "yegsrGL5q7MZ",
        "outputId": "1bc5ba05-c763-44bf-f49b-623cb8ec7f99"
      },
      "execution_count": 30,
      "outputs": [
        {
          "output_type": "display_data",
          "data": {
            "text/plain": [
              "<Figure size 800x400 with 1 Axes>"
            ],
            "image/png": "[encoded data removed]"
          },
          "metadata": {}
        }
      ]
    },
    {
      "cell_type": "markdown",
      "source": [
        "> b. Tokenize the text using tensorflow tokenizer."
      ],
      "metadata": {
        "id": "BJqCGWGtDsL3"
      }
    },
    {
      "cell_type": "code",
      "source": [
        "# Fitting the Tokenizer on the Corpus\n",
        "tokenizer = Tokenizer()\n",
        "tokenizer.fit_on_texts(corpus)"
      ],
      "metadata": {
        "id": "YAzfbousCaPC"
      },
      "execution_count": 31,
      "outputs": []
    },
    {
      "cell_type": "code",
      "source": [
        "# Vocabulary count of the corpus\n",
        "number_of_words = len(tokenizer.word_index)\n",
        " \n",
        "print(\"number of words:\\n\", number_of_words)"
      ],
      "metadata": {
        "colab": {
          "base_uri": "https://localhost:8080/"
        },
        "id": "dSck7sYUOD5x",
        "outputId": "f3f84368-0eec-45d6-86a7-192e19f7d84d"
      },
      "execution_count": 32,
      "outputs": [
        {
          "output_type": "stream",
          "name": "stdout",
          "text": [
            "number of words:\n",
            " 11966\n"
          ]
        }
      ]
    },
    {
      "cell_type": "markdown",
      "source": [
        "3. Vectorization"
      ],
      "metadata": {
        "id": "l64GAE7tHfUU"
      }
    },
    {
      "cell_type": "markdown",
      "source": [
        "    a. Generate embedding for every sentence in the corpus.\n",
        "\n",
        "    b. Convert every sentence to embedding using text_to_sequence() from keras.\n",
        "\n",
        "    c. Pad all embeddings to the maximum embedded length, by filling zeros. So all embeddings have the same length."
      ],
      "metadata": {
        "id": "Cbit8HNfJEX6"
      }
    },
    {
      "cell_type": "code",
      "source": [
        "# Generate the n gram sequences. \n",
        "input_sequences = []\n",
        "for line in corpus:\n",
        "    token_list = tokenizer.texts_to_sequences([line])[0]\n",
        "    \n",
        "    for i in range(1, len(token_list)):\n",
        "        n_gram_sequence = token_list[:i+1]\n",
        "        input_sequences.append(n_gram_sequence)"
      ],
      "metadata": {
        "id": "yKABpAupLej7"
      },
      "execution_count": 33,
      "outputs": []
    },
    {
      "cell_type": "code",
      "source": [
        "#Get the value of maximum length among sequences.\n",
        "max_sequence_len = max([len(sequence) for sequence in input_sequences])\n",
        "\n",
        "#Pad sentences\n",
        "input_sequences = np.array(pad_sequences(input_sequences,\n",
        "                                         maxlen=max_sequence_len,\n",
        "                                         padding='pre'))\n",
        "\n",
        "predictors, label = input_sequences[:, :-1], input_sequences[:, -1]\n",
        "\n",
        "#convert label values to one hot encoded list\n",
        "label = ku.to_categorical(label, num_classes = number_of_words + 1)"
      ],
      "metadata": {
        "id": "r0Tgf4-sDykI"
      },
      "execution_count": 34,
      "outputs": []
    },
    {
      "cell_type": "code",
      "source": [
        "#Embeddings    \n",
        "predictors[0:5]"
      ],
      "metadata": {
        "colab": {
          "base_uri": "https://localhost:8080/"
        },
        "id": "DLj25mJ4QK-c",
        "outputId": "e0f2c7ef-f2d0-42df-c7d3-1ee721bccda3"
      },
      "execution_count": 35,
      "outputs": [
        {
          "output_type": "execute_result",
          "data": {
            "text/plain": [
              "array([[   0,    0,    0,    0,    0,    0,    0,    0,    0,    0,    0,\n",
              "           0,    0,    0,  506],\n",
              "       [   0,    0,    0,    0,    0,    0,    0,    0,    0,    0,    0,\n",
              "           0,    0,  506,    8],\n",
              "       [   0,    0,    0,    0,    0,    0,    0,    0,    0,    0,    0,\n",
              "           0,    0,    0,    3],\n",
              "       [   0,    0,    0,    0,    0,    0,    0,    0,    0,    0,    0,\n",
              "           0,    0,    3,    1],\n",
              "       [   0,    0,    0,    0,    0,    0,    0,    0,    0,    0,    0,\n",
              "           0,    3,    1, 1553]], dtype=int32)"
            ]
          },
          "metadata": {},
          "execution_count": 35
        }
      ]
    },
    {
      "cell_type": "markdown",
      "source": [
        "> 4. Building the Bi-directional LSTM Model."
      ],
      "metadata": {
        "id": "usRJV_W7RbFQ"
      }
    },
    {
      "cell_type": "code",
      "source": [
        "max_sequence_len"
      ],
      "metadata": {
        "colab": {
          "base_uri": "https://localhost:8080/"
        },
        "id": "WA0T7QcT5T7M",
        "outputId": "738df181-1cd0-4714-dd0e-1d82b8208fa5"
      },
      "execution_count": 36,
      "outputs": [
        {
          "output_type": "execute_result",
          "data": {
            "text/plain": [
              "16"
            ]
          },
          "metadata": {},
          "execution_count": 36
        }
      ]
    },
    {
      "cell_type": "code",
      "source": [
        "# Create a sequential model\n",
        "model = Sequential()\n",
        "\n",
        "# Add an embedding layer\n",
        "model.add(Embedding(number_of_words+1, 100, input_length = max_sequence_len-1))\n",
        "\n",
        "# Add a bidirectional LSTM layer\n",
        "model.add(Bidirectional(LSTM(150, return_sequences=True)))\n",
        "\n",
        "# Add a dropout layer for regularization\n",
        "model.add(Dropout(0.2))\n",
        "\n",
        "# Add another LSTM layer\n",
        "# model.add(LSTM(100, return_sequences=True))  # Add return_sequences=True to allows the second LATM layer to return \n",
        "#sequences instead of just the final hidden state. \n",
        "\n",
        "# Add another LSTM layer\n",
        "model.add(LSTM(100))\n",
        "\n",
        "# Add a dense layer with ReLU activation \n",
        "model.add(Dense(number_of_words + 1/2, activation='relu'))\n",
        "\n",
        "# Add a dense output layer with softmax activation\n",
        "model.add(Dense(number_of_words + 1, activation='softmax'))\n",
        "\n",
        "# Compile the model\n",
        "model.compile(loss='categorical_crossentropy', optimizer='adam', metrics=['accuracy'])\n"
      ],
      "metadata": {
        "id": "MadXLHe21yqa"
      },
      "execution_count": 37,
      "outputs": []
    },
    {
      "cell_type": "code",
      "source": [
        "print(model.summary())"
      ],
      "metadata": {
        "colab": {
          "base_uri": "https://localhost:8080/"
        },
        "id": "3ZY7UuvuSptG",
        "outputId": "385d5f1d-b5f3-4e21-9b67-f27e647cb2e9"
      },
      "execution_count": 38,
      "outputs": [
        {
          "output_type": "stream",
          "name": "stdout",
          "text": [
            "Model: \"sequential\"\n",
            "_________________________________________________________________\n",
            " Layer (type)                Output Shape              Param #   \n",
            "=================================================================\n",
            " embedding (Embedding)       (None, 15, 100)           1196700   \n",
            "                                                                 \n",
            " bidirectional (Bidirectiona  (None, 15, 300)          301200    \n",
            " l)                                                              \n",
            "                                                                 \n",
            " dropout (Dropout)           (None, 15, 300)           0         \n",
            "                                                                 \n",
            " lstm_1 (LSTM)               (None, 15, 100)           160400    \n",
            "                                                                 \n",
            " lstm_2 (LSTM)               (None, 100)               80400     \n",
            "                                                                 \n",
            " dense (Dense)               (None, 11966)             1208566   \n",
            "                                                                 \n",
            " dense_1 (Dense)             (None, 11967)             143209089 \n",
            "                                                                 \n",
            "=================================================================\n",
            "Total params: 146,156,355\n",
            "Trainable params: 146,156,355\n",
            "Non-trainable params: 0\n",
            "_________________________________________________________________\n",
            "None\n"
          ]
        }
      ]
    },
    {
      "cell_type": "code",
      "source": [
        "history = model.fit(predictors, label, epochs=100, verbose=1)"
      ],
      "metadata": {
        "colab": {
          "base_uri": "https://localhost:8080/"
        },
        "id": "6qu7ZRjoROTT",
        "outputId": "644fb991-337b-452a-c6ea-b2184c555d96"
      },
      "execution_count": 39,
      "outputs": [
        {
          "output_type": "stream",
          "name": "stdout",
          "text": [
            "Epoch 1/100\n",
            "2461/2461 [==============================] - 128s 47ms/step - loss: 7.4216 - accuracy: 0.0592\n",
            "Epoch 2/100\n",
            "2461/2461 [==============================] - 105s 43ms/step - loss: 6.9710 - accuracy: 0.0700\n",
            "Epoch 3/100\n",
            "2461/2461 [==============================] - 105s 43ms/step - loss: 6.6458 - accuracy: 0.0797\n",
            "Epoch 4/100\n",
            "2461/2461 [==============================] - 105s 43ms/step - loss: 6.3757 - accuracy: 0.0865\n",
            "Epoch 5/100\n",
            "2461/2461 [==============================] - 105s 43ms/step - loss: 6.1154 - accuracy: 0.0949\n",
            "Epoch 6/100\n",
            "2461/2461 [==============================] - 105s 43ms/step - loss: 5.8558 - accuracy: 0.1026\n",
            "Epoch 7/100\n",
            "2461/2461 [==============================] - 105s 43ms/step - loss: 5.5995 - accuracy: 0.1100\n",
            "Epoch 8/100\n",
            "2461/2461 [==============================] - 105s 43ms/step - loss: 5.3503 - accuracy: 0.1198\n",
            "Epoch 9/100\n",
            "2461/2461 [==============================] - 106s 43ms/step - loss: 5.0938 - accuracy: 0.1306\n",
            "Epoch 10/100\n",
            "2461/2461 [==============================] - 105s 43ms/step - loss: 4.8384 - accuracy: 0.1437\n",
            "Epoch 11/100\n",
            "2461/2461 [==============================] - 105s 43ms/step - loss: 4.5672 - accuracy: 0.1627\n",
            "Epoch 12/100\n",
            "2461/2461 [==============================] - 105s 43ms/step - loss: 4.2763 - accuracy: 0.1870\n",
            "Epoch 13/100\n",
            "2461/2461 [==============================] - 105s 43ms/step - loss: 3.9731 - accuracy: 0.2180\n",
            "Epoch 14/100\n",
            "2461/2461 [==============================] - 105s 43ms/step - loss: 3.6609 - accuracy: 0.2594\n",
            "Epoch 15/100\n",
            "2461/2461 [==============================] - 106s 43ms/step - loss: 3.3594 - accuracy: 0.3039\n",
            "Epoch 16/100\n",
            "2461/2461 [==============================] - 106s 43ms/step - loss: 3.0818 - accuracy: 0.3463\n",
            "Epoch 17/100\n",
            "2461/2461 [==============================] - 106s 43ms/step - loss: 2.8380 - accuracy: 0.3878\n",
            "Epoch 18/100\n",
            "2461/2461 [==============================] - 105s 43ms/step - loss: 2.6287 - accuracy: 0.4224\n",
            "Epoch 19/100\n",
            "2461/2461 [==============================] - 105s 43ms/step - loss: 2.4355 - accuracy: 0.4584\n",
            "Epoch 20/100\n",
            "2461/2461 [==============================] - 106s 43ms/step - loss: 2.2591 - accuracy: 0.4896\n",
            "Epoch 21/100\n",
            "2461/2461 [==============================] - 106s 43ms/step - loss: 2.1057 - accuracy: 0.5193\n",
            "Epoch 22/100\n",
            "2461/2461 [==============================] - 106s 43ms/step - loss: 1.9663 - accuracy: 0.5467\n",
            "Epoch 23/100\n",
            "2461/2461 [==============================] - 106s 43ms/step - loss: 1.8462 - accuracy: 0.5726\n",
            "Epoch 24/100\n",
            "2461/2461 [==============================] - 105s 43ms/step - loss: 1.7344 - accuracy: 0.5971\n",
            "Epoch 25/100\n",
            "2461/2461 [==============================] - 106s 43ms/step - loss: 1.6426 - accuracy: 0.6165\n",
            "Epoch 26/100\n",
            "2461/2461 [==============================] - 105s 43ms/step - loss: 1.5615 - accuracy: 0.6345\n",
            "Epoch 27/100\n",
            "2461/2461 [==============================] - 105s 43ms/step - loss: 1.4878 - accuracy: 0.6515\n",
            "Epoch 28/100\n",
            "2461/2461 [==============================] - 106s 43ms/step - loss: 1.4274 - accuracy: 0.6655\n",
            "Epoch 29/100\n",
            "2461/2461 [==============================] - 105s 42ms/step - loss: 1.3594 - accuracy: 0.6817\n",
            "Epoch 30/100\n",
            "2461/2461 [==============================] - 105s 43ms/step - loss: 1.3169 - accuracy: 0.6916\n",
            "Epoch 31/100\n",
            "2461/2461 [==============================] - 105s 43ms/step - loss: 1.2655 - accuracy: 0.7036\n",
            "Epoch 32/100\n",
            "2461/2461 [==============================] - 105s 43ms/step - loss: 1.2375 - accuracy: 0.7096\n",
            "Epoch 33/100\n",
            "2461/2461 [==============================] - 105s 43ms/step - loss: 1.2001 - accuracy: 0.7205\n",
            "Epoch 34/100\n",
            "2461/2461 [==============================] - 104s 42ms/step - loss: 1.1657 - accuracy: 0.7275\n",
            "Epoch 35/100\n",
            "2461/2461 [==============================] - 104s 42ms/step - loss: 1.1386 - accuracy: 0.7338\n",
            "Epoch 36/100\n",
            "2461/2461 [==============================] - 104s 42ms/step - loss: 1.1125 - accuracy: 0.7391\n",
            "Epoch 37/100\n",
            "2461/2461 [==============================] - 105s 43ms/step - loss: 1.0945 - accuracy: 0.7450\n",
            "Epoch 38/100\n",
            "2461/2461 [==============================] - 105s 43ms/step - loss: 1.0709 - accuracy: 0.7496\n",
            "Epoch 39/100\n",
            "2461/2461 [==============================] - 105s 43ms/step - loss: 1.0559 - accuracy: 0.7539\n",
            "Epoch 40/100\n",
            "2461/2461 [==============================] - 106s 43ms/step - loss: 1.0364 - accuracy: 0.7587\n",
            "Epoch 41/100\n",
            "2461/2461 [==============================] - 105s 43ms/step - loss: 1.0223 - accuracy: 0.7613\n",
            "Epoch 42/100\n",
            "2461/2461 [==============================] - 105s 43ms/step - loss: 1.0085 - accuracy: 0.7650\n",
            "Epoch 43/100\n",
            "2461/2461 [==============================] - 105s 43ms/step - loss: 1.0001 - accuracy: 0.7674\n",
            "Epoch 44/100\n",
            "2461/2461 [==============================] - 105s 43ms/step - loss: 0.9872 - accuracy: 0.7708\n",
            "Epoch 45/100\n",
            "2461/2461 [==============================] - 105s 43ms/step - loss: 0.9697 - accuracy: 0.7740\n",
            "Epoch 46/100\n",
            "2461/2461 [==============================] - 105s 43ms/step - loss: 0.9650 - accuracy: 0.7758\n",
            "Epoch 47/100\n",
            "2461/2461 [==============================] - 105s 43ms/step - loss: 0.9568 - accuracy: 0.7761\n",
            "Epoch 48/100\n",
            "2461/2461 [==============================] - 105s 43ms/step - loss: 0.9444 - accuracy: 0.7790\n",
            "Epoch 49/100\n",
            "2461/2461 [==============================] - 105s 43ms/step - loss: 0.9410 - accuracy: 0.7805\n",
            "Epoch 50/100\n",
            "2461/2461 [==============================] - 105s 43ms/step - loss: 0.9276 - accuracy: 0.7846\n",
            "Epoch 51/100\n",
            "2461/2461 [==============================] - 105s 43ms/step - loss: 0.9237 - accuracy: 0.7853\n",
            "Epoch 52/100\n",
            "2461/2461 [==============================] - 105s 43ms/step - loss: 0.9157 - accuracy: 0.7861\n",
            "Epoch 53/100\n",
            "2461/2461 [==============================] - 105s 43ms/step - loss: 0.9098 - accuracy: 0.7874\n",
            "Epoch 54/100\n",
            "2461/2461 [==============================] - 105s 43ms/step - loss: 0.9048 - accuracy: 0.7876\n",
            "Epoch 55/100\n",
            "2461/2461 [==============================] - 105s 43ms/step - loss: 0.8975 - accuracy: 0.7897\n",
            "Epoch 56/100\n",
            "2461/2461 [==============================] - 105s 43ms/step - loss: 0.8912 - accuracy: 0.7911\n",
            "Epoch 57/100\n",
            "2461/2461 [==============================] - 106s 43ms/step - loss: 0.8859 - accuracy: 0.7921\n",
            "Epoch 58/100\n",
            "2461/2461 [==============================] - 105s 43ms/step - loss: 0.8878 - accuracy: 0.7915\n",
            "Epoch 59/100\n",
            "2461/2461 [==============================] - 105s 43ms/step - loss: 0.8774 - accuracy: 0.7944\n",
            "Epoch 60/100\n",
            "2461/2461 [==============================] - 105s 43ms/step - loss: 0.8753 - accuracy: 0.7948\n",
            "Epoch 61/100\n",
            "2461/2461 [==============================] - 105s 43ms/step - loss: 0.8670 - accuracy: 0.7958\n",
            "Epoch 62/100\n",
            "2461/2461 [==============================] - 105s 43ms/step - loss: 0.8656 - accuracy: 0.7974\n",
            "Epoch 63/100\n",
            "2461/2461 [==============================] - 105s 43ms/step - loss: 0.8628 - accuracy: 0.7973\n",
            "Epoch 64/100\n",
            "2461/2461 [==============================] - 105s 43ms/step - loss: 0.8595 - accuracy: 0.7975\n",
            "Epoch 65/100\n",
            "2461/2461 [==============================] - 105s 43ms/step - loss: 0.8530 - accuracy: 0.7996\n",
            "Epoch 66/100\n",
            "2461/2461 [==============================] - 105s 43ms/step - loss: 0.8502 - accuracy: 0.8006\n",
            "Epoch 67/100\n",
            "2461/2461 [==============================] - 105s 43ms/step - loss: 0.8503 - accuracy: 0.8001\n",
            "Epoch 68/100\n",
            "2461/2461 [==============================] - 105s 43ms/step - loss: 0.8462 - accuracy: 0.8000\n",
            "Epoch 69/100\n",
            "2461/2461 [==============================] - 105s 43ms/step - loss: 0.8418 - accuracy: 0.8010\n",
            "Epoch 70/100\n",
            "2461/2461 [==============================] - 105s 43ms/step - loss: 0.8416 - accuracy: 0.8015\n",
            "Epoch 71/100\n",
            "2461/2461 [==============================] - 106s 43ms/step - loss: 0.8392 - accuracy: 0.8023\n",
            "Epoch 72/100\n",
            "2461/2461 [==============================] - 105s 43ms/step - loss: 0.8319 - accuracy: 0.8032\n",
            "Epoch 73/100\n",
            "2461/2461 [==============================] - 105s 43ms/step - loss: 0.8328 - accuracy: 0.8025\n",
            "Epoch 74/100\n",
            "2461/2461 [==============================] - 106s 43ms/step - loss: 0.8295 - accuracy: 0.8034\n",
            "Epoch 75/100\n",
            "2461/2461 [==============================] - 105s 43ms/step - loss: 0.8310 - accuracy: 0.8034\n",
            "Epoch 76/100\n",
            "2461/2461 [==============================] - 106s 43ms/step - loss: 0.8213 - accuracy: 0.8053\n",
            "Epoch 77/100\n",
            "2461/2461 [==============================] - 106s 43ms/step - loss: 0.8221 - accuracy: 0.8049\n",
            "Epoch 78/100\n",
            "2461/2461 [==============================] - 105s 43ms/step - loss: 0.8224 - accuracy: 0.8046\n",
            "Epoch 79/100\n",
            "2461/2461 [==============================] - 105s 43ms/step - loss: 0.8181 - accuracy: 0.8064\n",
            "Epoch 80/100\n",
            "2461/2461 [==============================] - 106s 43ms/step - loss: 0.8164 - accuracy: 0.8053\n",
            "Epoch 81/100\n",
            "2461/2461 [==============================] - 105s 43ms/step - loss: 0.8152 - accuracy: 0.8073\n",
            "Epoch 82/100\n",
            "2461/2461 [==============================] - 106s 43ms/step - loss: 0.8093 - accuracy: 0.8077\n",
            "Epoch 83/100\n",
            "2461/2461 [==============================] - 105s 43ms/step - loss: 0.8092 - accuracy: 0.8072\n",
            "Epoch 84/100\n",
            "2461/2461 [==============================] - 105s 43ms/step - loss: 0.8105 - accuracy: 0.8075\n",
            "Epoch 85/100\n",
            "2461/2461 [==============================] - 105s 43ms/step - loss: 0.8080 - accuracy: 0.8074\n",
            "Epoch 86/100\n",
            "2461/2461 [==============================] - 105s 43ms/step - loss: 0.8060 - accuracy: 0.8078\n",
            "Epoch 87/100\n",
            "2461/2461 [==============================] - 106s 43ms/step - loss: 0.8046 - accuracy: 0.8080\n",
            "Epoch 88/100\n",
            "2461/2461 [==============================] - 105s 43ms/step - loss: 0.8038 - accuracy: 0.8090\n",
            "Epoch 89/100\n",
            "2461/2461 [==============================] - 103s 42ms/step - loss: 0.8042 - accuracy: 0.8087\n",
            "Epoch 90/100\n",
            "2461/2461 [==============================] - 103s 42ms/step - loss: 0.8021 - accuracy: 0.8086\n",
            "Epoch 91/100\n",
            "2461/2461 [==============================] - 103s 42ms/step - loss: 0.7954 - accuracy: 0.8103\n",
            "Epoch 92/100\n",
            "2461/2461 [==============================] - 103s 42ms/step - loss: 0.8025 - accuracy: 0.8075\n",
            "Epoch 93/100\n",
            "2461/2461 [==============================] - 103s 42ms/step - loss: 0.7932 - accuracy: 0.8097\n",
            "Epoch 94/100\n",
            "2461/2461 [==============================] - 104s 42ms/step - loss: 0.7939 - accuracy: 0.8102\n",
            "Epoch 95/100\n",
            "2461/2461 [==============================] - 103s 42ms/step - loss: 0.7934 - accuracy: 0.8096\n",
            "Epoch 96/100\n",
            "2461/2461 [==============================] - 104s 42ms/step - loss: 0.7926 - accuracy: 0.8102\n",
            "Epoch 97/100\n",
            "2461/2461 [==============================] - 104s 42ms/step - loss: 0.7896 - accuracy: 0.8115\n",
            "Epoch 98/100\n",
            "2461/2461 [==============================] - 104s 42ms/step - loss: 0.7910 - accuracy: 0.8111\n",
            "Epoch 99/100\n",
            "2461/2461 [==============================] - 104s 42ms/step - loss: 0.7869 - accuracy: 0.8115\n",
            "Epoch 100/100\n",
            "2461/2461 [==============================] - 104s 42ms/step - loss: 0.7866 - accuracy: 0.8119\n"
          ]
        }
      ]
    },
    {
      "cell_type": "code",
      "source": [
        "# Save model\n",
        "model.save(\"/content/model_with_2_lstm\") "
      ],
      "metadata": {
        "colab": {
          "base_uri": "https://localhost:8080/"
        },
        "id": "dT72S8ZIXze3",
        "outputId": "f9705e78-5d76-4461-d983-a9be5bd704a7"
      },
      "execution_count": 40,
      "outputs": [
        {
          "output_type": "stream",
          "name": "stderr",
          "text": [
            "WARNING:absl:Found untraced functions such as lstm_cell_3_layer_call_fn, lstm_cell_3_layer_call_and_return_conditional_losses, lstm_cell_4_layer_call_fn, lstm_cell_4_layer_call_and_return_conditional_losses, lstm_cell_1_layer_call_fn while saving (showing 5 of 8). These functions will not be directly callable after loading.\n"
          ]
        }
      ]
    },
    {
      "cell_type": "code",
      "source": [
        "import zipfile\n",
        "import os\n",
        "\n",
        "folder_path = '/content/model_with_2_lstm'  # Replace with the path to your folder\n",
        "zip_path = '/content/model_with_2_lstm.zip'\n",
        "# Create a ZIP file containing the folder\n",
        "with zipfile.ZipFile(zip_path, 'w', zipfile.ZIP_DEFLATED) as zipf:\n",
        "    for root, dirs, files in os.walk(folder_path):\n",
        "        for file in files:\n",
        "            file_path = os.path.join(root, file)\n",
        "            zipf.write(file_path, os.path.relpath(file_path, folder_path))\n"
      ],
      "metadata": {
        "id": "T8oopMcQq7ie"
      },
      "execution_count": 44,
      "outputs": []
    },
    {
      "cell_type": "code",
      "source": [
        "from google.colab import files\n",
        "\n",
        "# Download the ZIP file\n",
        "files.download('/content/model_with_2_lstm.zip')\n"
      ],
      "metadata": {
        "colab": {
          "base_uri": "https://localhost:8080/",
          "height": 34
        },
        "id": "1RWioa4zqtPv",
        "outputId": "2318f043-5534-4dd5-bec7-cc0115db20c2"
      },
      "execution_count": 45,
      "outputs": [
        {
          "output_type": "display_data",
          "data": {
            "text/plain": [
              "<IPython.core.display.Javascript object>"
            ],
            "application/javascript": [
              "\n",
              "    async function download(id, filename, size) {\n",
              "      if (!google.colab.kernel.accessAllowed) {\n",
              "        return;\n",
              "      }\n",
              "      const div = document.createElement('div');\n",
              "      const label = document.createElement('label');\n",
              "      label.textContent = `Downloading \"${filename}\": `;\n",
              "      div.appendChild(label);\n",
              "      const progress = document.createElement('progress');\n",
              "      progress.max = size;\n",
              "      div.appendChild(progress);\n",
              "      document.body.appendChild(div);\n",
              "\n",
              "      const buffers = [];\n",
              "      let downloaded = 0;\n",
              "\n",
              "      const channel = await google.colab.kernel.comms.open(id);\n",
              "      // Send a message to notify the kernel that we're ready.\n",
              "      channel.send({})\n",
              "\n",
              "      for await (const message of channel.messages) {\n",
              "        // Send a message to notify the kernel that we're ready.\n",
              "        channel.send({})\n",
              "        if (message.buffers) {\n",
              "          for (const buffer of message.buffers) {\n",
              "            buffers.push(buffer);\n",
              "            downloaded += buffer.byteLength;\n",
              "            progress.value = downloaded;\n",
              "          }\n",
              "        }\n",
              "      }\n",
              "      const blob = new Blob(buffers, {type: 'application/binary'});\n",
              "      const a = document.createElement('a');\n",
              "      a.href = window.URL.createObjectURL(blob);\n",
              "      a.download = filename;\n",
              "      div.appendChild(a);\n",
              "      a.click();\n",
              "      div.remove();\n",
              "    }\n",
              "  "
            ]
          },
          "metadata": {}
        },
        {
          "output_type": "display_data",
          "data": {
            "text/plain": [
              "<IPython.core.display.Javascript object>"
            ],
            "application/javascript": [
              "download(\"download_e5511370-83d3-4cf5-bc9e-2f3558237f21\", \"model_with_2_lstm.zip\", 766311309)"
            ]
          },
          "metadata": {}
        }
      ]
    },
    {
      "cell_type": "code",
      "source": [
        "seed_text = \"is\"\n",
        "next_words = 25\n",
        "ouptut_text = \"\"\n",
        " \n",
        "for _ in range(next_words):\n",
        "    token_list = tokenizer.texts_to_sequences([seed_text])[0]\n",
        "    token_list = pad_sequences(\n",
        "        [token_list], maxlen=max_sequence_len-1,\n",
        "      padding='pre')\n",
        "    predicted = np.argmax(model.predict(token_list,\n",
        "                                        verbose=0), axis=-1)\n",
        "    output_word = \"\"\n",
        "     \n",
        "    for word, index in tokenizer.word_index.items():\n",
        "        if index == predicted:\n",
        "            output_word = word\n",
        "            break\n",
        "             \n",
        "    seed_text += \" \" + output_word\n",
        "     \n",
        "print(seed_text)"
      ],
      "metadata": {
        "colab": {
          "base_uri": "https://localhost:8080/"
        },
        "id": "P8T0ZLghTPx1",
        "outputId": "929fe38a-dc61-4bb1-bce4-4bbda5103b53"
      },
      "execution_count": 48,
      "outputs": [
        {
          "output_type": "stream",
          "name": "stdout",
          "text": [
            "is the slipdoor and slowlyrising ghost roofs the west blows the covers buttoned down me entangled in side side by side james end i mourn your\n"
          ]
        }
      ]
    },
    {
      "cell_type": "code",
      "source": [],
      "metadata": {
        "id": "Velo5KRLZesZ"
      },
      "execution_count": null,
      "outputs": []
    },
    {
      "cell_type": "code",
      "source": [
        "# Save model\n",
        "model.save(\"/content/model\") "
      ],
      "metadata": {
        "colab": {
          "base_uri": "https://localhost:8080/"
        },
        "id": "Wi0IsYGjpjm-",
        "outputId": "80c1b0ff-0d3a-4f90-bd2b-1c3052ad207c"
      },
      "execution_count": null,
      "outputs": [
        {
          "output_type": "stream",
          "name": "stderr",
          "text": [
            "WARNING:absl:Found untraced functions such as lstm_cell_3_layer_call_fn, lstm_cell_3_layer_call_and_return_conditional_losses, lstm_cell_1_layer_call_fn, lstm_cell_1_layer_call_and_return_conditional_losses, lstm_cell_2_layer_call_fn while saving (showing 5 of 6). These functions will not be directly callable after loading.\n"
          ]
        }
      ]
    },
    {
      "cell_type": "code",
      "source": [
        "from google.colab import drive\n",
        "drive.mount('/content/drive') "
      ],
      "metadata": {
        "colab": {
          "base_uri": "https://localhost:8080/"
        },
        "id": "tgCw_yzYptU_",
        "outputId": "89b71629-3af1-4953-8353-716c617ed1ce"
      },
      "execution_count": null,
      "outputs": [
        {
          "output_type": "stream",
          "name": "stdout",
          "text": [
            "Mounted at /content/drive\n"
          ]
        }
      ]
    },
    {
      "cell_type": "code",
      "source": [
        "from google.colab import files\n",
        "\n",
        "# # Assuming your model files are saved in a directory called 'model'\n",
        "# model_dir = '\"/content/model'\n",
        "\n",
        "# # Create a zip file containing the model directory\n",
        "# !zip -r model.zip $model_dir\n",
        "\n",
        "# Download the zip file\n",
        "files.download('/content/model')"
      ],
      "metadata": {
        "colab": {
          "base_uri": "https://localhost:8080/",
          "height": 34
        },
        "id": "4XrDfrNKr7eJ",
        "outputId": "b301dea2-fc53-4431-f70c-6d055179235c"
      },
      "execution_count": null,
      "outputs": [
        {
          "output_type": "display_data",
          "data": {
            "text/plain": [
              "<IPython.core.display.Javascript object>"
            ],
            "application/javascript": [
              "\n",
              "    async function download(id, filename, size) {\n",
              "      if (!google.colab.kernel.accessAllowed) {\n",
              "        return;\n",
              "      }\n",
              "      const div = document.createElement('div');\n",
              "      const label = document.createElement('label');\n",
              "      label.textContent = `Downloading \"${filename}\": `;\n",
              "      div.appendChild(label);\n",
              "      const progress = document.createElement('progress');\n",
              "      progress.max = size;\n",
              "      div.appendChild(progress);\n",
              "      document.body.appendChild(div);\n",
              "\n",
              "      const buffers = [];\n",
              "      let downloaded = 0;\n",
              "\n",
              "      const channel = await google.colab.kernel.comms.open(id);\n",
              "      // Send a message to notify the kernel that we're ready.\n",
              "      channel.send({})\n",
              "\n",
              "      for await (const message of channel.messages) {\n",
              "        // Send a message to notify the kernel that we're ready.\n",
              "        channel.send({})\n",
              "        if (message.buffers) {\n",
              "          for (const buffer of message.buffers) {\n",
              "            buffers.push(buffer);\n",
              "            downloaded += buffer.byteLength;\n",
              "            progress.value = downloaded;\n",
              "          }\n",
              "        }\n",
              "      }\n",
              "      const blob = new Blob(buffers, {type: 'application/binary'});\n",
              "      const a = document.createElement('a');\n",
              "      a.href = window.URL.createObjectURL(blob);\n",
              "      a.download = filename;\n",
              "      div.appendChild(a);\n",
              "      a.click();\n",
              "      div.remove();\n",
              "    }\n",
              "  "
            ]
          },
          "metadata": {}
        },
        {
          "output_type": "display_data",
          "data": {
            "text/plain": [
              "<IPython.core.display.Javascript object>"
            ],
            "application/javascript": [
              "download(\"download_7ea2627e-b537-4ef6-bed8-a9c3e7cba853\", \"model\", 4096)"
            ]
          },
          "metadata": {}
        }
      ]
    },
    {
      "cell_type": "code",
      "source": [
        "import shutil\n",
        "import os\n",
        "\n",
        "# Folder path to be downloaded\n",
        "folder_path = '/content/model'\n",
        "\n",
        "# Zip archive path\n",
        "zip_path = '/content/model.zip'\n",
        "\n",
        "# Create a zip archive of the folder\n",
        "shutil.make_archive('/content/model', 'zip', folder_path)\n",
        "\n",
        "# Rename the zip archive to the desired name\n",
        "os.rename('/content/model.zip', zip_path)\n",
        "\n",
        "# Download the zip archive\n",
        "from google.colab import files\n",
        "files.download(zip_path)"
      ],
      "metadata": {
        "colab": {
          "base_uri": "https://localhost:8080/",
          "height": 17
        },
        "id": "-1NpwzYqttBH",
        "outputId": "af7e92c0-9ec8-47eb-d9ad-9ce76830da18"
      },
      "execution_count": null,
      "outputs": [
        {
          "output_type": "display_data",
          "data": {
            "text/plain": [
              "<IPython.core.display.Javascript object>"
            ],
            "application/javascript": [
              "\n",
              "    async function download(id, filename, size) {\n",
              "      if (!google.colab.kernel.accessAllowed) {\n",
              "        return;\n",
              "      }\n",
              "      const div = document.createElement('div');\n",
              "      const label = document.createElement('label');\n",
              "      label.textContent = `Downloading \"${filename}\": `;\n",
              "      div.appendChild(label);\n",
              "      const progress = document.createElement('progress');\n",
              "      progress.max = size;\n",
              "      div.appendChild(progress);\n",
              "      document.body.appendChild(div);\n",
              "\n",
              "      const buffers = [];\n",
              "      let downloaded = 0;\n",
              "\n",
              "      const channel = await google.colab.kernel.comms.open(id);\n",
              "      // Send a message to notify the kernel that we're ready.\n",
              "      channel.send({})\n",
              "\n",
              "      for await (const message of channel.messages) {\n",
              "        // Send a message to notify the kernel that we're ready.\n",
              "        channel.send({})\n",
              "        if (message.buffers) {\n",
              "          for (const buffer of message.buffers) {\n",
              "            buffers.push(buffer);\n",
              "            downloaded += buffer.byteLength;\n",
              "            progress.value = downloaded;\n",
              "          }\n",
              "        }\n",
              "      }\n",
              "      const blob = new Blob(buffers, {type: 'application/binary'});\n",
              "      const a = document.createElement('a');\n",
              "      a.href = window.URL.createObjectURL(blob);\n",
              "      a.download = filename;\n",
              "      div.appendChild(a);\n",
              "      a.click();\n",
              "      div.remove();\n",
              "    }\n",
              "  "
            ]
          },
          "metadata": {}
        },
        {
          "output_type": "display_data",
          "data": {
            "text/plain": [
              "<IPython.core.display.Javascript object>"
            ],
            "application/javascript": [
              "download(\"download_15c82677-2b7f-4c2f-a2f8-b62feb981e86\", \"model.zip\", 79181642)"
            ]
          },
          "metadata": {}
        }
      ]
    },
    {
      "cell_type": "code",
      "source": [
        "import numpy as np\n",
        "import pandas as pd\n",
        "import matplotlib.pyplot as plt\n",
        "import tensorflow.keras.utils as ku\n",
        "from wordcloud import WordCloud\n",
        "from tensorflow.keras.preprocessing.sequence import pad_sequences\n",
        "from tensorflow.keras.layers import Embedding, LSTM, Dense, Dropout, Bidirectional\n",
        "from tensorflow.keras.preprocessing.text import Tokenizer\n",
        "from tensorflow.keras.models import Sequential\n",
        "from tensorflow.keras.optimizers import Adam\n",
        "from tensorflow.keras import regularizers\n"
      ],
      "metadata": {
        "id": "hWZ19AFJxAKy"
      },
      "execution_count": null,
      "outputs": []
    },
    {
      "cell_type": "code",
      "source": [
        "# Reading the text data file\n",
        "data = open('./poem.txt', encoding=\"utf8\").read()\n",
        "\n",
        "# EDA: Generating WordCloud to visualize\n",
        "# the text\n",
        "wordcloud = WordCloud(max_font_size=50,\n",
        "\t\t\t\t\tmax_words=100,\n",
        "\t\t\t\t\tbackground_color=\"black\").generate(data)\n",
        "\n",
        "# Plotting the WordCloud\n",
        "plt.figure(figsize=(8, 4))\n",
        "plt.imshow(wordcloud, interpolation='bilinear')\n",
        "plt.axis(\"off\")\n",
        "plt.savefig(\"WordCloud.png\")\n",
        "plt.show()"
      ],
      "metadata": {
        "id": "_BhXYCU9efeK"
      },
      "execution_count": null,
      "outputs": []
    },
    {
      "cell_type": "code",
      "source": [
        "# Generating the corpus by\n",
        "# splitting the text into lines\n",
        "corpus = data.lower().split(\"\\n\")\n",
        "print(corpus[:10])"
      ],
      "metadata": {
        "id": "dJCVoKDEeoHM"
      },
      "execution_count": null,
      "outputs": []
    },
    {
      "cell_type": "code",
      "source": [
        "# Fitting the Tokenizer on the Corpus\n",
        "tokenizer = Tokenizer()\n",
        "tokenizer.fit_on_texts(corpus)\n",
        "\n",
        "# Vocabulary count of the corpus\n",
        "total_words = len(tokenizer.word_index)\n",
        "\n",
        "print(\"Total Words:\", total_words)"
      ],
      "metadata": {
        "id": "5dLf-e6yepwP"
      },
      "execution_count": null,
      "outputs": []
    },
    {
      "cell_type": "code",
      "source": [
        "# Converting the text into embeddings\n",
        "input_sequences = []\n",
        "for line in corpus:\n",
        "\ttoken_list = tokenizer.texts_to_sequences([line])[0]\n",
        "\n",
        "\tfor i in range(1, len(token_list)):\n",
        "\t\tn_gram_sequence = token_list[:i+1]\n",
        "\t\tinput_sequences.append(n_gram_sequence)\n",
        "\n",
        "max_sequence_len = max([len(x) for x in input_sequences])\n",
        "input_sequences = np.array(pad_sequences(input_sequences,\n",
        "\t\t\t\t\t\t\t\t\t\tmaxlen=max_sequence_len,\n",
        "\t\t\t\t\t\t\t\t\t\tpadding='pre'))\n",
        "predictors, label = input_sequences[:, :-1], input_sequences[:, -1]\n",
        "label = ku.to_categorical(label, num_classes=total_words+1)"
      ],
      "metadata": {
        "id": "wFQyTyNdewMx"
      },
      "execution_count": null,
      "outputs": []
    },
    {
      "cell_type": "code",
      "source": [
        "model = Sequential()\n",
        "model.add(Embedding(total_words+1, 100,\n",
        "\t\t\t\t\tinput_length=max_sequence_len-1))\n",
        "model.add(Bidirectional(LSTM(150, return_sequences=True)))\n",
        "model.add(Dropout(0.2))\n",
        "model.add(LSTM(100))\n",
        "model.add(Dense(total_words+1/2, activation='relu',\n",
        "\t\t\t\tkernel_regularizer=regularizers.l2(0.01)))\n",
        "model.add(Dense(total_words+1, activation='softmax'))\n",
        "model.compile(loss='categorical_crossentropy',\n",
        "\t\t\toptimizer='adam', metrics=['accuracy'])\n",
        "print(model.summary())\n"
      ],
      "metadata": {
        "id": "wxZzu9H6epsG"
      },
      "execution_count": null,
      "outputs": []
    },
    {
      "cell_type": "code",
      "source": [
        "history = model.fit(predictors, label, epochs=150, verbose=1)"
      ],
      "metadata": {
        "id": "BER-UKG5epn9"
      },
      "execution_count": null,
      "outputs": []
    }
  ]
}