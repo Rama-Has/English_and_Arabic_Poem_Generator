{
  "nbformat": 4,
  "nbformat_minor": 0,
  "metadata": {
    "colab": {
      "provenance": [],
      "gpuType": "T4",
      "include_colab_link": true
    },
    "kernelspec": {
      "name": "python3",
      "display_name": "Python 3"
    },
    "language_info": {
      "name": "python"
    },
    "accelerator": "GPU",
    "gpuClass": "standard",
    "widgets": {
      "application/vnd.jupyter.widget-state+json": {
        "9856f5547d43411aacec5fb1d694cff7": {
          "model_module": "@jupyter-widgets/controls",
          "model_name": "HBoxModel",
          "model_module_version": "1.5.0",
          "state": {
            "_dom_classes": [],
            "_model_module": "@jupyter-widgets/controls",
            "_model_module_version": "1.5.0",
            "_model_name": "HBoxModel",
            "_view_count": null,
            "_view_module": "@jupyter-widgets/controls",
            "_view_module_version": "1.5.0",
            "_view_name": "HBoxView",
            "box_style": "",
            "children": [
              "IPY_MODEL_c146d14f1db7444ba5965298bd97e221",
              "IPY_MODEL_753e1e4a43184ad0902a69e9ab7fbe33",
              "IPY_MODEL_2a6e1aedeae94409a74e05f143a71925"
            ],
            "layout": "IPY_MODEL_135f8ab40c5a4fa5ae5f3bded3020472"
          }
        },
        "c146d14f1db7444ba5965298bd97e221": {
          "model_module": "@jupyter-widgets/controls",
          "model_name": "HTMLModel",
          "model_module_version": "1.5.0",
          "state": {
            "_dom_classes": [],
            "_model_module": "@jupyter-widgets/controls",
            "_model_module_version": "1.5.0",
            "_model_name": "HTMLModel",
            "_view_count": null,
            "_view_module": "@jupyter-widgets/controls",
            "_view_module_version": "1.5.0",
            "_view_name": "HTMLView",
            "description": "",
            "description_tooltip": null,
            "layout": "IPY_MODEL_dfb4ab30271445eb9a48bf592b0c4245",
            "placeholder": "​",
            "style": "IPY_MODEL_ec95a50a29ee4908b280184e35d033bd",
            "value": "Downloading (…)olve/main/vocab.json: 100%"
          }
        },
        "753e1e4a43184ad0902a69e9ab7fbe33": {
          "model_module": "@jupyter-widgets/controls",
          "model_name": "FloatProgressModel",
          "model_module_version": "1.5.0",
          "state": {
            "_dom_classes": [],
            "_model_module": "@jupyter-widgets/controls",
            "_model_module_version": "1.5.0",
            "_model_name": "FloatProgressModel",
            "_view_count": null,
            "_view_module": "@jupyter-widgets/controls",
            "_view_module_version": "1.5.0",
            "_view_name": "ProgressView",
            "bar_style": "success",
            "description": "",
            "description_tooltip": null,
            "layout": "IPY_MODEL_0e607f04b5ad48cc81c5d1fe33004663",
            "max": 1042301,
            "min": 0,
            "orientation": "horizontal",
            "style": "IPY_MODEL_2e36a3190bc14d4a8e37a54311b8fde0",
            "value": 1042301
          }
        },
        "2a6e1aedeae94409a74e05f143a71925": {
          "model_module": "@jupyter-widgets/controls",
          "model_name": "HTMLModel",
          "model_module_version": "1.5.0",
          "state": {
            "_dom_classes": [],
            "_model_module": "@jupyter-widgets/controls",
            "_model_module_version": "1.5.0",
            "_model_name": "HTMLModel",
            "_view_count": null,
            "_view_module": "@jupyter-widgets/controls",
            "_view_module_version": "1.5.0",
            "_view_name": "HTMLView",
            "description": "",
            "description_tooltip": null,
            "layout": "IPY_MODEL_a94644cecec748e18b5f309bc6a48d3c",
            "placeholder": "​",
            "style": "IPY_MODEL_0af32e58e9b64bd79727f7499789d029",
            "value": " 1.04M/1.04M [00:00&lt;00:00, 5.69MB/s]"
          }
        },
        "135f8ab40c5a4fa5ae5f3bded3020472": {
          "model_module": "@jupyter-widgets/base",
          "model_name": "LayoutModel",
          "model_module_version": "1.2.0",
          "state": {
            "_model_module": "@jupyter-widgets/base",
            "_model_module_version": "1.2.0",
            "_model_name": "LayoutModel",
            "_view_count": null,
            "_view_module": "@jupyter-widgets/base",
            "_view_module_version": "1.2.0",
            "_view_name": "LayoutView",
            "align_content": null,
            "align_items": null,
            "align_self": null,
            "border": null,
            "bottom": null,
            "display": null,
            "flex": null,
            "flex_flow": null,
            "grid_area": null,
            "grid_auto_columns": null,
            "grid_auto_flow": null,
            "grid_auto_rows": null,
            "grid_column": null,
            "grid_gap": null,
            "grid_row": null,
            "grid_template_areas": null,
            "grid_template_columns": null,
            "grid_template_rows": null,
            "height": null,
            "justify_content": null,
            "justify_items": null,
            "left": null,
            "margin": null,
            "max_height": null,
            "max_width": null,
            "min_height": null,
            "min_width": null,
            "object_fit": null,
            "object_position": null,
            "order": null,
            "overflow": null,
            "overflow_x": null,
            "overflow_y": null,
            "padding": null,
            "right": null,
            "top": null,
            "visibility": null,
            "width": null
          }
        },
        "dfb4ab30271445eb9a48bf592b0c4245": {
          "model_module": "@jupyter-widgets/base",
          "model_name": "LayoutModel",
          "model_module_version": "1.2.0",
          "state": {
            "_model_module": "@jupyter-widgets/base",
            "_model_module_version": "1.2.0",
            "_model_name": "LayoutModel",
            "_view_count": null,
            "_view_module": "@jupyter-widgets/base",
            "_view_module_version": "1.2.0",
            "_view_name": "LayoutView",
            "align_content": null,
            "align_items": null,
            "align_self": null,
            "border": null,
            "bottom": null,
            "display": null,
            "flex": null,
            "flex_flow": null,
            "grid_area": null,
            "grid_auto_columns": null,
            "grid_auto_flow": null,
            "grid_auto_rows": null,
            "grid_column": null,
            "grid_gap": null,
            "grid_row": null,
            "grid_template_areas": null,
            "grid_template_columns": null,
            "grid_template_rows": null,
            "height": null,
            "justify_content": null,
            "justify_items": null,
            "left": null,
            "margin": null,
            "max_height": null,
            "max_width": null,
            "min_height": null,
            "min_width": null,
            "object_fit": null,
            "object_position": null,
            "order": null,
            "overflow": null,
            "overflow_x": null,
            "overflow_y": null,
            "padding": null,
            "right": null,
            "top": null,
            "visibility": null,
            "width": null
          }
        },
        "ec95a50a29ee4908b280184e35d033bd": {
          "model_module": "@jupyter-widgets/controls",
          "model_name": "DescriptionStyleModel",
          "model_module_version": "1.5.0",
          "state": {
            "_model_module": "@jupyter-widgets/controls",
            "_model_module_version": "1.5.0",
            "_model_name": "DescriptionStyleModel",
            "_view_count": null,
            "_view_module": "@jupyter-widgets/base",
            "_view_module_version": "1.2.0",
            "_view_name": "StyleView",
            "description_width": ""
          }
        },
        "0e607f04b5ad48cc81c5d1fe33004663": {
          "model_module": "@jupyter-widgets/base",
          "model_name": "LayoutModel",
          "model_module_version": "1.2.0",
          "state": {
            "_model_module": "@jupyter-widgets/base",
            "_model_module_version": "1.2.0",
            "_model_name": "LayoutModel",
            "_view_count": null,
            "_view_module": "@jupyter-widgets/base",
            "_view_module_version": "1.2.0",
            "_view_name": "LayoutView",
            "align_content": null,
            "align_items": null,
            "align_self": null,
            "border": null,
            "bottom": null,
            "display": null,
            "flex": null,
            "flex_flow": null,
            "grid_area": null,
            "grid_auto_columns": null,
            "grid_auto_flow": null,
            "grid_auto_rows": null,
            "grid_column": null,
            "grid_gap": null,
            "grid_row": null,
            "grid_template_areas": null,
            "grid_template_columns": null,
            "grid_template_rows": null,
            "height": null,
            "justify_content": null,
            "justify_items": null,
            "left": null,
            "margin": null,
            "max_height": null,
            "max_width": null,
            "min_height": null,
            "min_width": null,
            "object_fit": null,
            "object_position": null,
            "order": null,
            "overflow": null,
            "overflow_x": null,
            "overflow_y": null,
            "padding": null,
            "right": null,
            "top": null,
            "visibility": null,
            "width": null
          }
        },
        "2e36a3190bc14d4a8e37a54311b8fde0": {
          "model_module": "@jupyter-widgets/controls",
          "model_name": "ProgressStyleModel",
          "model_module_version": "1.5.0",
          "state": {
            "_model_module": "@jupyter-widgets/controls",
            "_model_module_version": "1.5.0",
            "_model_name": "ProgressStyleModel",
            "_view_count": null,
            "_view_module": "@jupyter-widgets/base",
            "_view_module_version": "1.2.0",
            "_view_name": "StyleView",
            "bar_color": null,
            "description_width": ""
          }
        },
        "a94644cecec748e18b5f309bc6a48d3c": {
          "model_module": "@jupyter-widgets/base",
          "model_name": "LayoutModel",
          "model_module_version": "1.2.0",
          "state": {
            "_model_module": "@jupyter-widgets/base",
            "_model_module_version": "1.2.0",
            "_model_name": "LayoutModel",
            "_view_count": null,
            "_view_module": "@jupyter-widgets/base",
            "_view_module_version": "1.2.0",
            "_view_name": "LayoutView",
            "align_content": null,
            "align_items": null,
            "align_self": null,
            "border": null,
            "bottom": null,
            "display": null,
            "flex": null,
            "flex_flow": null,
            "grid_area": null,
            "grid_auto_columns": null,
            "grid_auto_flow": null,
            "grid_auto_rows": null,
            "grid_column": null,
            "grid_gap": null,
            "grid_row": null,
            "grid_template_areas": null,
            "grid_template_columns": null,
            "grid_template_rows": null,
            "height": null,
            "justify_content": null,
            "justify_items": null,
            "left": null,
            "margin": null,
            "max_height": null,
            "max_width": null,
            "min_height": null,
            "min_width": null,
            "object_fit": null,
            "object_position": null,
            "order": null,
            "overflow": null,
            "overflow_x": null,
            "overflow_y": null,
            "padding": null,
            "right": null,
            "top": null,
            "visibility": null,
            "width": null
          }
        },
        "0af32e58e9b64bd79727f7499789d029": {
          "model_module": "@jupyter-widgets/controls",
          "model_name": "DescriptionStyleModel",
          "model_module_version": "1.5.0",
          "state": {
            "_model_module": "@jupyter-widgets/controls",
            "_model_module_version": "1.5.0",
            "_model_name": "DescriptionStyleModel",
            "_view_count": null,
            "_view_module": "@jupyter-widgets/base",
            "_view_module_version": "1.2.0",
            "_view_name": "StyleView",
            "description_width": ""
          }
        },
        "8552cdfb5c254b08929cb97521615f12": {
          "model_module": "@jupyter-widgets/controls",
          "model_name": "HBoxModel",
          "model_module_version": "1.5.0",
          "state": {
            "_dom_classes": [],
            "_model_module": "@jupyter-widgets/controls",
            "_model_module_version": "1.5.0",
            "_model_name": "HBoxModel",
            "_view_count": null,
            "_view_module": "@jupyter-widgets/controls",
            "_view_module_version": "1.5.0",
            "_view_name": "HBoxView",
            "box_style": "",
            "children": [
              "IPY_MODEL_3cecb66334b44640bc2e331fb3ba33ad",
              "IPY_MODEL_0663869dc3b84a378f4097d6c7ab293d",
              "IPY_MODEL_96afbb13e5c14d0d9eafb061821aded7"
            ],
            "layout": "IPY_MODEL_a477f0712a05499ba29326ffdf9b9c3e"
          }
        },
        "3cecb66334b44640bc2e331fb3ba33ad": {
          "model_module": "@jupyter-widgets/controls",
          "model_name": "HTMLModel",
          "model_module_version": "1.5.0",
          "state": {
            "_dom_classes": [],
            "_model_module": "@jupyter-widgets/controls",
            "_model_module_version": "1.5.0",
            "_model_name": "HTMLModel",
            "_view_count": null,
            "_view_module": "@jupyter-widgets/controls",
            "_view_module_version": "1.5.0",
            "_view_name": "HTMLView",
            "description": "",
            "description_tooltip": null,
            "layout": "IPY_MODEL_277b44391c6e4563873dbe580179d635",
            "placeholder": "​",
            "style": "IPY_MODEL_2afee035b8a74f8699d449a70042a4a5",
            "value": "Downloading (…)olve/main/merges.txt: 100%"
          }
        },
        "0663869dc3b84a378f4097d6c7ab293d": {
          "model_module": "@jupyter-widgets/controls",
          "model_name": "FloatProgressModel",
          "model_module_version": "1.5.0",
          "state": {
            "_dom_classes": [],
            "_model_module": "@jupyter-widgets/controls",
            "_model_module_version": "1.5.0",
            "_model_name": "FloatProgressModel",
            "_view_count": null,
            "_view_module": "@jupyter-widgets/controls",
            "_view_module_version": "1.5.0",
            "_view_name": "ProgressView",
            "bar_style": "success",
            "description": "",
            "description_tooltip": null,
            "layout": "IPY_MODEL_701a11671a26431caf05510041316ec0",
            "max": 456318,
            "min": 0,
            "orientation": "horizontal",
            "style": "IPY_MODEL_7709689bf55d45da9706768a88b4d73e",
            "value": 456318
          }
        },
        "96afbb13e5c14d0d9eafb061821aded7": {
          "model_module": "@jupyter-widgets/controls",
          "model_name": "HTMLModel",
          "model_module_version": "1.5.0",
          "state": {
            "_dom_classes": [],
            "_model_module": "@jupyter-widgets/controls",
            "_model_module_version": "1.5.0",
            "_model_name": "HTMLModel",
            "_view_count": null,
            "_view_module": "@jupyter-widgets/controls",
            "_view_module_version": "1.5.0",
            "_view_name": "HTMLView",
            "description": "",
            "description_tooltip": null,
            "layout": "IPY_MODEL_1e5152a0369e42e9a357fd0d402b2dbc",
            "placeholder": "​",
            "style": "IPY_MODEL_89b085e062d64aa1a6dccc9286db1d26",
            "value": " 456k/456k [00:00&lt;00:00, 6.87MB/s]"
          }
        },
        "a477f0712a05499ba29326ffdf9b9c3e": {
          "model_module": "@jupyter-widgets/base",
          "model_name": "LayoutModel",
          "model_module_version": "1.2.0",
          "state": {
            "_model_module": "@jupyter-widgets/base",
            "_model_module_version": "1.2.0",
            "_model_name": "LayoutModel",
            "_view_count": null,
            "_view_module": "@jupyter-widgets/base",
            "_view_module_version": "1.2.0",
            "_view_name": "LayoutView",
            "align_content": null,
            "align_items": null,
            "align_self": null,
            "border": null,
            "bottom": null,
            "display": null,
            "flex": null,
            "flex_flow": null,
            "grid_area": null,
            "grid_auto_columns": null,
            "grid_auto_flow": null,
            "grid_auto_rows": null,
            "grid_column": null,
            "grid_gap": null,
            "grid_row": null,
            "grid_template_areas": null,
            "grid_template_columns": null,
            "grid_template_rows": null,
            "height": null,
            "justify_content": null,
            "justify_items": null,
            "left": null,
            "margin": null,
            "max_height": null,
            "max_width": null,
            "min_height": null,
            "min_width": null,
            "object_fit": null,
            "object_position": null,
            "order": null,
            "overflow": null,
            "overflow_x": null,
            "overflow_y": null,
            "padding": null,
            "right": null,
            "top": null,
            "visibility": null,
            "width": null
          }
        },
        "277b44391c6e4563873dbe580179d635": {
          "model_module": "@jupyter-widgets/base",
          "model_name": "LayoutModel",
          "model_module_version": "1.2.0",
          "state": {
            "_model_module": "@jupyter-widgets/base",
            "_model_module_version": "1.2.0",
            "_model_name": "LayoutModel",
            "_view_count": null,
            "_view_module": "@jupyter-widgets/base",
            "_view_module_version": "1.2.0",
            "_view_name": "LayoutView",
            "align_content": null,
            "align_items": null,
            "align_self": null,
            "border": null,
            "bottom": null,
            "display": null,
            "flex": null,
            "flex_flow": null,
            "grid_area": null,
            "grid_auto_columns": null,
            "grid_auto_flow": null,
            "grid_auto_rows": null,
            "grid_column": null,
            "grid_gap": null,
            "grid_row": null,
            "grid_template_areas": null,
            "grid_template_columns": null,
            "grid_template_rows": null,
            "height": null,
            "justify_content": null,
            "justify_items": null,
            "left": null,
            "margin": null,
            "max_height": null,
            "max_width": null,
            "min_height": null,
            "min_width": null,
            "object_fit": null,
            "object_position": null,
            "order": null,
            "overflow": null,
            "overflow_x": null,
            "overflow_y": null,
            "padding": null,
            "right": null,
            "top": null,
            "visibility": null,
            "width": null
          }
        },
        "2afee035b8a74f8699d449a70042a4a5": {
          "model_module": "@jupyter-widgets/controls",
          "model_name": "DescriptionStyleModel",
          "model_module_version": "1.5.0",
          "state": {
            "_model_module": "@jupyter-widgets/controls",
            "_model_module_version": "1.5.0",
            "_model_name": "DescriptionStyleModel",
            "_view_count": null,
            "_view_module": "@jupyter-widgets/base",
            "_view_module_version": "1.2.0",
            "_view_name": "StyleView",
            "description_width": ""
          }
        },
        "701a11671a26431caf05510041316ec0": {
          "model_module": "@jupyter-widgets/base",
          "model_name": "LayoutModel",
          "model_module_version": "1.2.0",
          "state": {
            "_model_module": "@jupyter-widgets/base",
            "_model_module_version": "1.2.0",
            "_model_name": "LayoutModel",
            "_view_count": null,
            "_view_module": "@jupyter-widgets/base",
            "_view_module_version": "1.2.0",
            "_view_name": "LayoutView",
            "align_content": null,
            "align_items": null,
            "align_self": null,
            "border": null,
            "bottom": null,
            "display": null,
            "flex": null,
            "flex_flow": null,
            "grid_area": null,
            "grid_auto_columns": null,
            "grid_auto_flow": null,
            "grid_auto_rows": null,
            "grid_column": null,
            "grid_gap": null,
            "grid_row": null,
            "grid_template_areas": null,
            "grid_template_columns": null,
            "grid_template_rows": null,
            "height": null,
            "justify_content": null,
            "justify_items": null,
            "left": null,
            "margin": null,
            "max_height": null,
            "max_width": null,
            "min_height": null,
            "min_width": null,
            "object_fit": null,
            "object_position": null,
            "order": null,
            "overflow": null,
            "overflow_x": null,
            "overflow_y": null,
            "padding": null,
            "right": null,
            "top": null,
            "visibility": null,
            "width": null
          }
        },
        "7709689bf55d45da9706768a88b4d73e": {
          "model_module": "@jupyter-widgets/controls",
          "model_name": "ProgressStyleModel",
          "model_module_version": "1.5.0",
          "state": {
            "_model_module": "@jupyter-widgets/controls",
            "_model_module_version": "1.5.0",
            "_model_name": "ProgressStyleModel",
            "_view_count": null,
            "_view_module": "@jupyter-widgets/base",
            "_view_module_version": "1.2.0",
            "_view_name": "StyleView",
            "bar_color": null,
            "description_width": ""
          }
        },
        "1e5152a0369e42e9a357fd0d402b2dbc": {
          "model_module": "@jupyter-widgets/base",
          "model_name": "LayoutModel",
          "model_module_version": "1.2.0",
          "state": {
            "_model_module": "@jupyter-widgets/base",
            "_model_module_version": "1.2.0",
            "_model_name": "LayoutModel",
            "_view_count": null,
            "_view_module": "@jupyter-widgets/base",
            "_view_module_version": "1.2.0",
            "_view_name": "LayoutView",
            "align_content": null,
            "align_items": null,
            "align_self": null,
            "border": null,
            "bottom": null,
            "display": null,
            "flex": null,
            "flex_flow": null,
            "grid_area": null,
            "grid_auto_columns": null,
            "grid_auto_flow": null,
            "grid_auto_rows": null,
            "grid_column": null,
            "grid_gap": null,
            "grid_row": null,
            "grid_template_areas": null,
            "grid_template_columns": null,
            "grid_template_rows": null,
            "height": null,
            "justify_content": null,
            "justify_items": null,
            "left": null,
            "margin": null,
            "max_height": null,
            "max_width": null,
            "min_height": null,
            "min_width": null,
            "object_fit": null,
            "object_position": null,
            "order": null,
            "overflow": null,
            "overflow_x": null,
            "overflow_y": null,
            "padding": null,
            "right": null,
            "top": null,
            "visibility": null,
            "width": null
          }
        },
        "89b085e062d64aa1a6dccc9286db1d26": {
          "model_module": "@jupyter-widgets/controls",
          "model_name": "DescriptionStyleModel",
          "model_module_version": "1.5.0",
          "state": {
            "_model_module": "@jupyter-widgets/controls",
            "_model_module_version": "1.5.0",
            "_model_name": "DescriptionStyleModel",
            "_view_count": null,
            "_view_module": "@jupyter-widgets/base",
            "_view_module_version": "1.2.0",
            "_view_name": "StyleView",
            "description_width": ""
          }
        },
        "e2be55cc90894982a1f70df4bbf84b71": {
          "model_module": "@jupyter-widgets/controls",
          "model_name": "HBoxModel",
          "model_module_version": "1.5.0",
          "state": {
            "_dom_classes": [],
            "_model_module": "@jupyter-widgets/controls",
            "_model_module_version": "1.5.0",
            "_model_name": "HBoxModel",
            "_view_count": null,
            "_view_module": "@jupyter-widgets/controls",
            "_view_module_version": "1.5.0",
            "_view_name": "HBoxView",
            "box_style": "",
            "children": [
              "IPY_MODEL_dc410cbb41c54597a44eea457fc6fe4e",
              "IPY_MODEL_60f0d015d9454ef19714f772fb83cf54",
              "IPY_MODEL_9ec3489fb7d44bdea8ef199af4d48638"
            ],
            "layout": "IPY_MODEL_1a0371dccefe476396554938f99bd315"
          }
        },
        "dc410cbb41c54597a44eea457fc6fe4e": {
          "model_module": "@jupyter-widgets/controls",
          "model_name": "HTMLModel",
          "model_module_version": "1.5.0",
          "state": {
            "_dom_classes": [],
            "_model_module": "@jupyter-widgets/controls",
            "_model_module_version": "1.5.0",
            "_model_name": "HTMLModel",
            "_view_count": null,
            "_view_module": "@jupyter-widgets/controls",
            "_view_module_version": "1.5.0",
            "_view_name": "HTMLView",
            "description": "",
            "description_tooltip": null,
            "layout": "IPY_MODEL_d8894fa8158a49c7b2bfd4dbb2312d27",
            "placeholder": "​",
            "style": "IPY_MODEL_bdc17291737548c5ab1ac74d6b7a4bf5",
            "value": "Downloading (…)lve/main/config.json: 100%"
          }
        },
        "60f0d015d9454ef19714f772fb83cf54": {
          "model_module": "@jupyter-widgets/controls",
          "model_name": "FloatProgressModel",
          "model_module_version": "1.5.0",
          "state": {
            "_dom_classes": [],
            "_model_module": "@jupyter-widgets/controls",
            "_model_module_version": "1.5.0",
            "_model_name": "FloatProgressModel",
            "_view_count": null,
            "_view_module": "@jupyter-widgets/controls",
            "_view_module_version": "1.5.0",
            "_view_name": "ProgressView",
            "bar_style": "success",
            "description": "",
            "description_tooltip": null,
            "layout": "IPY_MODEL_be2b235c4c7b4f048d68461cadcc4cd0",
            "max": 665,
            "min": 0,
            "orientation": "horizontal",
            "style": "IPY_MODEL_1e5a8e3e38874b529b1494333213310e",
            "value": 665
          }
        },
        "9ec3489fb7d44bdea8ef199af4d48638": {
          "model_module": "@jupyter-widgets/controls",
          "model_name": "HTMLModel",
          "model_module_version": "1.5.0",
          "state": {
            "_dom_classes": [],
            "_model_module": "@jupyter-widgets/controls",
            "_model_module_version": "1.5.0",
            "_model_name": "HTMLModel",
            "_view_count": null,
            "_view_module": "@jupyter-widgets/controls",
            "_view_module_version": "1.5.0",
            "_view_name": "HTMLView",
            "description": "",
            "description_tooltip": null,
            "layout": "IPY_MODEL_d00c6040f7b64b40a444aebcd49a9d94",
            "placeholder": "​",
            "style": "IPY_MODEL_6504757d578b4af4b28767b948c66b59",
            "value": " 665/665 [00:00&lt;00:00, 17.5kB/s]"
          }
        },
        "1a0371dccefe476396554938f99bd315": {
          "model_module": "@jupyter-widgets/base",
          "model_name": "LayoutModel",
          "model_module_version": "1.2.0",
          "state": {
            "_model_module": "@jupyter-widgets/base",
            "_model_module_version": "1.2.0",
            "_model_name": "LayoutModel",
            "_view_count": null,
            "_view_module": "@jupyter-widgets/base",
            "_view_module_version": "1.2.0",
            "_view_name": "LayoutView",
            "align_content": null,
            "align_items": null,
            "align_self": null,
            "border": null,
            "bottom": null,
            "display": null,
            "flex": null,
            "flex_flow": null,
            "grid_area": null,
            "grid_auto_columns": null,
            "grid_auto_flow": null,
            "grid_auto_rows": null,
            "grid_column": null,
            "grid_gap": null,
            "grid_row": null,
            "grid_template_areas": null,
            "grid_template_columns": null,
            "grid_template_rows": null,
            "height": null,
            "justify_content": null,
            "justify_items": null,
            "left": null,
            "margin": null,
            "max_height": null,
            "max_width": null,
            "min_height": null,
            "min_width": null,
            "object_fit": null,
            "object_position": null,
            "order": null,
            "overflow": null,
            "overflow_x": null,
            "overflow_y": null,
            "padding": null,
            "right": null,
            "top": null,
            "visibility": null,
            "width": null
          }
        },
        "d8894fa8158a49c7b2bfd4dbb2312d27": {
          "model_module": "@jupyter-widgets/base",
          "model_name": "LayoutModel",
          "model_module_version": "1.2.0",
          "state": {
            "_model_module": "@jupyter-widgets/base",
            "_model_module_version": "1.2.0",
            "_model_name": "LayoutModel",
            "_view_count": null,
            "_view_module": "@jupyter-widgets/base",
            "_view_module_version": "1.2.0",
            "_view_name": "LayoutView",
            "align_content": null,
            "align_items": null,
            "align_self": null,
            "border": null,
            "bottom": null,
            "display": null,
            "flex": null,
            "flex_flow": null,
            "grid_area": null,
            "grid_auto_columns": null,
            "grid_auto_flow": null,
            "grid_auto_rows": null,
            "grid_column": null,
            "grid_gap": null,
            "grid_row": null,
            "grid_template_areas": null,
            "grid_template_columns": null,
            "grid_template_rows": null,
            "height": null,
            "justify_content": null,
            "justify_items": null,
            "left": null,
            "margin": null,
            "max_height": null,
            "max_width": null,
            "min_height": null,
            "min_width": null,
            "object_fit": null,
            "object_position": null,
            "order": null,
            "overflow": null,
            "overflow_x": null,
            "overflow_y": null,
            "padding": null,
            "right": null,
            "top": null,
            "visibility": null,
            "width": null
          }
        },
        "bdc17291737548c5ab1ac74d6b7a4bf5": {
          "model_module": "@jupyter-widgets/controls",
          "model_name": "DescriptionStyleModel",
          "model_module_version": "1.5.0",
          "state": {
            "_model_module": "@jupyter-widgets/controls",
            "_model_module_version": "1.5.0",
            "_model_name": "DescriptionStyleModel",
            "_view_count": null,
            "_view_module": "@jupyter-widgets/base",
            "_view_module_version": "1.2.0",
            "_view_name": "StyleView",
            "description_width": ""
          }
        },
        "be2b235c4c7b4f048d68461cadcc4cd0": {
          "model_module": "@jupyter-widgets/base",
          "model_name": "LayoutModel",
          "model_module_version": "1.2.0",
          "state": {
            "_model_module": "@jupyter-widgets/base",
            "_model_module_version": "1.2.0",
            "_model_name": "LayoutModel",
            "_view_count": null,
            "_view_module": "@jupyter-widgets/base",
            "_view_module_version": "1.2.0",
            "_view_name": "LayoutView",
            "align_content": null,
            "align_items": null,
            "align_self": null,
            "border": null,
            "bottom": null,
            "display": null,
            "flex": null,
            "flex_flow": null,
            "grid_area": null,
            "grid_auto_columns": null,
            "grid_auto_flow": null,
            "grid_auto_rows": null,
            "grid_column": null,
            "grid_gap": null,
            "grid_row": null,
            "grid_template_areas": null,
            "grid_template_columns": null,
            "grid_template_rows": null,
            "height": null,
            "justify_content": null,
            "justify_items": null,
            "left": null,
            "margin": null,
            "max_height": null,
            "max_width": null,
            "min_height": null,
            "min_width": null,
            "object_fit": null,
            "object_position": null,
            "order": null,
            "overflow": null,
            "overflow_x": null,
            "overflow_y": null,
            "padding": null,
            "right": null,
            "top": null,
            "visibility": null,
            "width": null
          }
        },
        "1e5a8e3e38874b529b1494333213310e": {
          "model_module": "@jupyter-widgets/controls",
          "model_name": "ProgressStyleModel",
          "model_module_version": "1.5.0",
          "state": {
            "_model_module": "@jupyter-widgets/controls",
            "_model_module_version": "1.5.0",
            "_model_name": "ProgressStyleModel",
            "_view_count": null,
            "_view_module": "@jupyter-widgets/base",
            "_view_module_version": "1.2.0",
            "_view_name": "StyleView",
            "bar_color": null,
            "description_width": ""
          }
        },
        "d00c6040f7b64b40a444aebcd49a9d94": {
          "model_module": "@jupyter-widgets/base",
          "model_name": "LayoutModel",
          "model_module_version": "1.2.0",
          "state": {
            "_model_module": "@jupyter-widgets/base",
            "_model_module_version": "1.2.0",
            "_model_name": "LayoutModel",
            "_view_count": null,
            "_view_module": "@jupyter-widgets/base",
            "_view_module_version": "1.2.0",
            "_view_name": "LayoutView",
            "align_content": null,
            "align_items": null,
            "align_self": null,
            "border": null,
            "bottom": null,
            "display": null,
            "flex": null,
            "flex_flow": null,
            "grid_area": null,
            "grid_auto_columns": null,
            "grid_auto_flow": null,
            "grid_auto_rows": null,
            "grid_column": null,
            "grid_gap": null,
            "grid_row": null,
            "grid_template_areas": null,
            "grid_template_columns": null,
            "grid_template_rows": null,
            "height": null,
            "justify_content": null,
            "justify_items": null,
            "left": null,
            "margin": null,
            "max_height": null,
            "max_width": null,
            "min_height": null,
            "min_width": null,
            "object_fit": null,
            "object_position": null,
            "order": null,
            "overflow": null,
            "overflow_x": null,
            "overflow_y": null,
            "padding": null,
            "right": null,
            "top": null,
            "visibility": null,
            "width": null
          }
        },
        "6504757d578b4af4b28767b948c66b59": {
          "model_module": "@jupyter-widgets/controls",
          "model_name": "DescriptionStyleModel",
          "model_module_version": "1.5.0",
          "state": {
            "_model_module": "@jupyter-widgets/controls",
            "_model_module_version": "1.5.0",
            "_model_name": "DescriptionStyleModel",
            "_view_count": null,
            "_view_module": "@jupyter-widgets/base",
            "_view_module_version": "1.2.0",
            "_view_name": "StyleView",
            "description_width": ""
          }
        },
        "d723b5bd14ed4817a8bd80d50a6d6e8c": {
          "model_module": "@jupyter-widgets/controls",
          "model_name": "HBoxModel",
          "model_module_version": "1.5.0",
          "state": {
            "_dom_classes": [],
            "_model_module": "@jupyter-widgets/controls",
            "_model_module_version": "1.5.0",
            "_model_name": "HBoxModel",
            "_view_count": null,
            "_view_module": "@jupyter-widgets/controls",
            "_view_module_version": "1.5.0",
            "_view_name": "HBoxView",
            "box_style": "",
            "children": [
              "IPY_MODEL_9e8a664fdef44c5283600fe2b0caa2e7",
              "IPY_MODEL_a32099d1059443de99b33e57fa84982b",
              "IPY_MODEL_c7ab9b8f928544c0a9510a5fa4f413b6"
            ],
            "layout": "IPY_MODEL_cd8ad10d1eb742e4b8894059feb2a194"
          }
        },
        "9e8a664fdef44c5283600fe2b0caa2e7": {
          "model_module": "@jupyter-widgets/controls",
          "model_name": "HTMLModel",
          "model_module_version": "1.5.0",
          "state": {
            "_dom_classes": [],
            "_model_module": "@jupyter-widgets/controls",
            "_model_module_version": "1.5.0",
            "_model_name": "HTMLModel",
            "_view_count": null,
            "_view_module": "@jupyter-widgets/controls",
            "_view_module_version": "1.5.0",
            "_view_name": "HTMLView",
            "description": "",
            "description_tooltip": null,
            "layout": "IPY_MODEL_34a8832d48d0413b9cbc733c3c057e31",
            "placeholder": "​",
            "style": "IPY_MODEL_0afca238ee9d444a87451dd953917918",
            "value": "Downloading pytorch_model.bin: 100%"
          }
        },
        "a32099d1059443de99b33e57fa84982b": {
          "model_module": "@jupyter-widgets/controls",
          "model_name": "FloatProgressModel",
          "model_module_version": "1.5.0",
          "state": {
            "_dom_classes": [],
            "_model_module": "@jupyter-widgets/controls",
            "_model_module_version": "1.5.0",
            "_model_name": "FloatProgressModel",
            "_view_count": null,
            "_view_module": "@jupyter-widgets/controls",
            "_view_module_version": "1.5.0",
            "_view_name": "ProgressView",
            "bar_style": "success",
            "description": "",
            "description_tooltip": null,
            "layout": "IPY_MODEL_842160c6af0d4d0c8190851b40ffaf27",
            "max": 548118077,
            "min": 0,
            "orientation": "horizontal",
            "style": "IPY_MODEL_fbcbeb2df0df4b1fbebf01db7aaa5cb6",
            "value": 548118077
          }
        },
        "c7ab9b8f928544c0a9510a5fa4f413b6": {
          "model_module": "@jupyter-widgets/controls",
          "model_name": "HTMLModel",
          "model_module_version": "1.5.0",
          "state": {
            "_dom_classes": [],
            "_model_module": "@jupyter-widgets/controls",
            "_model_module_version": "1.5.0",
            "_model_name": "HTMLModel",
            "_view_count": null,
            "_view_module": "@jupyter-widgets/controls",
            "_view_module_version": "1.5.0",
            "_view_name": "HTMLView",
            "description": "",
            "description_tooltip": null,
            "layout": "IPY_MODEL_000f6617b70f4f1e9add1dc29d146c33",
            "placeholder": "​",
            "style": "IPY_MODEL_d425379a1f8f42a083f0008abd89cc6a",
            "value": " 548M/548M [00:06&lt;00:00, 61.3MB/s]"
          }
        },
        "cd8ad10d1eb742e4b8894059feb2a194": {
          "model_module": "@jupyter-widgets/base",
          "model_name": "LayoutModel",
          "model_module_version": "1.2.0",
          "state": {
            "_model_module": "@jupyter-widgets/base",
            "_model_module_version": "1.2.0",
            "_model_name": "LayoutModel",
            "_view_count": null,
            "_view_module": "@jupyter-widgets/base",
            "_view_module_version": "1.2.0",
            "_view_name": "LayoutView",
            "align_content": null,
            "align_items": null,
            "align_self": null,
            "border": null,
            "bottom": null,
            "display": null,
            "flex": null,
            "flex_flow": null,
            "grid_area": null,
            "grid_auto_columns": null,
            "grid_auto_flow": null,
            "grid_auto_rows": null,
            "grid_column": null,
            "grid_gap": null,
            "grid_row": null,
            "grid_template_areas": null,
            "grid_template_columns": null,
            "grid_template_rows": null,
            "height": null,
            "justify_content": null,
            "justify_items": null,
            "left": null,
            "margin": null,
            "max_height": null,
            "max_width": null,
            "min_height": null,
            "min_width": null,
            "object_fit": null,
            "object_position": null,
            "order": null,
            "overflow": null,
            "overflow_x": null,
            "overflow_y": null,
            "padding": null,
            "right": null,
            "top": null,
            "visibility": null,
            "width": null
          }
        },
        "34a8832d48d0413b9cbc733c3c057e31": {
          "model_module": "@jupyter-widgets/base",
          "model_name": "LayoutModel",
          "model_module_version": "1.2.0",
          "state": {
            "_model_module": "@jupyter-widgets/base",
            "_model_module_version": "1.2.0",
            "_model_name": "LayoutModel",
            "_view_count": null,
            "_view_module": "@jupyter-widgets/base",
            "_view_module_version": "1.2.0",
            "_view_name": "LayoutView",
            "align_content": null,
            "align_items": null,
            "align_self": null,
            "border": null,
            "bottom": null,
            "display": null,
            "flex": null,
            "flex_flow": null,
            "grid_area": null,
            "grid_auto_columns": null,
            "grid_auto_flow": null,
            "grid_auto_rows": null,
            "grid_column": null,
            "grid_gap": null,
            "grid_row": null,
            "grid_template_areas": null,
            "grid_template_columns": null,
            "grid_template_rows": null,
            "height": null,
            "justify_content": null,
            "justify_items": null,
            "left": null,
            "margin": null,
            "max_height": null,
            "max_width": null,
            "min_height": null,
            "min_width": null,
            "object_fit": null,
            "object_position": null,
            "order": null,
            "overflow": null,
            "overflow_x": null,
            "overflow_y": null,
            "padding": null,
            "right": null,
            "top": null,
            "visibility": null,
            "width": null
          }
        },
        "0afca238ee9d444a87451dd953917918": {
          "model_module": "@jupyter-widgets/controls",
          "model_name": "DescriptionStyleModel",
          "model_module_version": "1.5.0",
          "state": {
            "_model_module": "@jupyter-widgets/controls",
            "_model_module_version": "1.5.0",
            "_model_name": "DescriptionStyleModel",
            "_view_count": null,
            "_view_module": "@jupyter-widgets/base",
            "_view_module_version": "1.2.0",
            "_view_name": "StyleView",
            "description_width": ""
          }
        },
        "842160c6af0d4d0c8190851b40ffaf27": {
          "model_module": "@jupyter-widgets/base",
          "model_name": "LayoutModel",
          "model_module_version": "1.2.0",
          "state": {
            "_model_module": "@jupyter-widgets/base",
            "_model_module_version": "1.2.0",
            "_model_name": "LayoutModel",
            "_view_count": null,
            "_view_module": "@jupyter-widgets/base",
            "_view_module_version": "1.2.0",
            "_view_name": "LayoutView",
            "align_content": null,
            "align_items": null,
            "align_self": null,
            "border": null,
            "bottom": null,
            "display": null,
            "flex": null,
            "flex_flow": null,
            "grid_area": null,
            "grid_auto_columns": null,
            "grid_auto_flow": null,
            "grid_auto_rows": null,
            "grid_column": null,
            "grid_gap": null,
            "grid_row": null,
            "grid_template_areas": null,
            "grid_template_columns": null,
            "grid_template_rows": null,
            "height": null,
            "justify_content": null,
            "justify_items": null,
            "left": null,
            "margin": null,
            "max_height": null,
            "max_width": null,
            "min_height": null,
            "min_width": null,
            "object_fit": null,
            "object_position": null,
            "order": null,
            "overflow": null,
            "overflow_x": null,
            "overflow_y": null,
            "padding": null,
            "right": null,
            "top": null,
            "visibility": null,
            "width": null
          }
        },
        "fbcbeb2df0df4b1fbebf01db7aaa5cb6": {
          "model_module": "@jupyter-widgets/controls",
          "model_name": "ProgressStyleModel",
          "model_module_version": "1.5.0",
          "state": {
            "_model_module": "@jupyter-widgets/controls",
            "_model_module_version": "1.5.0",
            "_model_name": "ProgressStyleModel",
            "_view_count": null,
            "_view_module": "@jupyter-widgets/base",
            "_view_module_version": "1.2.0",
            "_view_name": "StyleView",
            "bar_color": null,
            "description_width": ""
          }
        },
        "000f6617b70f4f1e9add1dc29d146c33": {
          "model_module": "@jupyter-widgets/base",
          "model_name": "LayoutModel",
          "model_module_version": "1.2.0",
          "state": {
            "_model_module": "@jupyter-widgets/base",
            "_model_module_version": "1.2.0",
            "_model_name": "LayoutModel",
            "_view_count": null,
            "_view_module": "@jupyter-widgets/base",
            "_view_module_version": "1.2.0",
            "_view_name": "LayoutView",
            "align_content": null,
            "align_items": null,
            "align_self": null,
            "border": null,
            "bottom": null,
            "display": null,
            "flex": null,
            "flex_flow": null,
            "grid_area": null,
            "grid_auto_columns": null,
            "grid_auto_flow": null,
            "grid_auto_rows": null,
            "grid_column": null,
            "grid_gap": null,
            "grid_row": null,
            "grid_template_areas": null,
            "grid_template_columns": null,
            "grid_template_rows": null,
            "height": null,
            "justify_content": null,
            "justify_items": null,
            "left": null,
            "margin": null,
            "max_height": null,
            "max_width": null,
            "min_height": null,
            "min_width": null,
            "object_fit": null,
            "object_position": null,
            "order": null,
            "overflow": null,
            "overflow_x": null,
            "overflow_y": null,
            "padding": null,
            "right": null,
            "top": null,
            "visibility": null,
            "width": null
          }
        },
        "d425379a1f8f42a083f0008abd89cc6a": {
          "model_module": "@jupyter-widgets/controls",
          "model_name": "DescriptionStyleModel",
          "model_module_version": "1.5.0",
          "state": {
            "_model_module": "@jupyter-widgets/controls",
            "_model_module_version": "1.5.0",
            "_model_name": "DescriptionStyleModel",
            "_view_count": null,
            "_view_module": "@jupyter-widgets/base",
            "_view_module_version": "1.2.0",
            "_view_name": "StyleView",
            "description_width": ""
          }
        },
        "c2648b00ac854cbda16287bd70b0bd9c": {
          "model_module": "@jupyter-widgets/controls",
          "model_name": "HBoxModel",
          "model_module_version": "1.5.0",
          "state": {
            "_dom_classes": [],
            "_model_module": "@jupyter-widgets/controls",
            "_model_module_version": "1.5.0",
            "_model_name": "HBoxModel",
            "_view_count": null,
            "_view_module": "@jupyter-widgets/controls",
            "_view_module_version": "1.5.0",
            "_view_name": "HBoxView",
            "box_style": "",
            "children": [
              "IPY_MODEL_3cb0e33bcf114a859682f018e72ea9e6",
              "IPY_MODEL_a6392e603a104952bf7d141a44121fac",
              "IPY_MODEL_978aba5a65d44776bb2b6cfcace34db1"
            ],
            "layout": "IPY_MODEL_03a08fa18bb84284a4afad8370c2c3f5"
          }
        },
        "3cb0e33bcf114a859682f018e72ea9e6": {
          "model_module": "@jupyter-widgets/controls",
          "model_name": "HTMLModel",
          "model_module_version": "1.5.0",
          "state": {
            "_dom_classes": [],
            "_model_module": "@jupyter-widgets/controls",
            "_model_module_version": "1.5.0",
            "_model_name": "HTMLModel",
            "_view_count": null,
            "_view_module": "@jupyter-widgets/controls",
            "_view_module_version": "1.5.0",
            "_view_name": "HTMLView",
            "description": "",
            "description_tooltip": null,
            "layout": "IPY_MODEL_0331ee8543e04bd0838f8370e708dcb3",
            "placeholder": "​",
            "style": "IPY_MODEL_8083b0f7218548db98e1c6681f5eb3aa",
            "value": "Downloading (…)neration_config.json: 100%"
          }
        },
        "a6392e603a104952bf7d141a44121fac": {
          "model_module": "@jupyter-widgets/controls",
          "model_name": "FloatProgressModel",
          "model_module_version": "1.5.0",
          "state": {
            "_dom_classes": [],
            "_model_module": "@jupyter-widgets/controls",
            "_model_module_version": "1.5.0",
            "_model_name": "FloatProgressModel",
            "_view_count": null,
            "_view_module": "@jupyter-widgets/controls",
            "_view_module_version": "1.5.0",
            "_view_name": "ProgressView",
            "bar_style": "success",
            "description": "",
            "description_tooltip": null,
            "layout": "IPY_MODEL_016eff3762dd452790e797f08b4889a4",
            "max": 124,
            "min": 0,
            "orientation": "horizontal",
            "style": "IPY_MODEL_634fc369ae3d4bc398db28d6da6e8f64",
            "value": 124
          }
        },
        "978aba5a65d44776bb2b6cfcace34db1": {
          "model_module": "@jupyter-widgets/controls",
          "model_name": "HTMLModel",
          "model_module_version": "1.5.0",
          "state": {
            "_dom_classes": [],
            "_model_module": "@jupyter-widgets/controls",
            "_model_module_version": "1.5.0",
            "_model_name": "HTMLModel",
            "_view_count": null,
            "_view_module": "@jupyter-widgets/controls",
            "_view_module_version": "1.5.0",
            "_view_name": "HTMLView",
            "description": "",
            "description_tooltip": null,
            "layout": "IPY_MODEL_c329bb21c7954de187aa338f50755aff",
            "placeholder": "​",
            "style": "IPY_MODEL_9f8238e752704fb885390eaf398b6ede",
            "value": " 124/124 [00:00&lt;00:00, 1.89kB/s]"
          }
        },
        "03a08fa18bb84284a4afad8370c2c3f5": {
          "model_module": "@jupyter-widgets/base",
          "model_name": "LayoutModel",
          "model_module_version": "1.2.0",
          "state": {
            "_model_module": "@jupyter-widgets/base",
            "_model_module_version": "1.2.0",
            "_model_name": "LayoutModel",
            "_view_count": null,
            "_view_module": "@jupyter-widgets/base",
            "_view_module_version": "1.2.0",
            "_view_name": "LayoutView",
            "align_content": null,
            "align_items": null,
            "align_self": null,
            "border": null,
            "bottom": null,
            "display": null,
            "flex": null,
            "flex_flow": null,
            "grid_area": null,
            "grid_auto_columns": null,
            "grid_auto_flow": null,
            "grid_auto_rows": null,
            "grid_column": null,
            "grid_gap": null,
            "grid_row": null,
            "grid_template_areas": null,
            "grid_template_columns": null,
            "grid_template_rows": null,
            "height": null,
            "justify_content": null,
            "justify_items": null,
            "left": null,
            "margin": null,
            "max_height": null,
            "max_width": null,
            "min_height": null,
            "min_width": null,
            "object_fit": null,
            "object_position": null,
            "order": null,
            "overflow": null,
            "overflow_x": null,
            "overflow_y": null,
            "padding": null,
            "right": null,
            "top": null,
            "visibility": null,
            "width": null
          }
        },
        "0331ee8543e04bd0838f8370e708dcb3": {
          "model_module": "@jupyter-widgets/base",
          "model_name": "LayoutModel",
          "model_module_version": "1.2.0",
          "state": {
            "_model_module": "@jupyter-widgets/base",
            "_model_module_version": "1.2.0",
            "_model_name": "LayoutModel",
            "_view_count": null,
            "_view_module": "@jupyter-widgets/base",
            "_view_module_version": "1.2.0",
            "_view_name": "LayoutView",
            "align_content": null,
            "align_items": null,
            "align_self": null,
            "border": null,
            "bottom": null,
            "display": null,
            "flex": null,
            "flex_flow": null,
            "grid_area": null,
            "grid_auto_columns": null,
            "grid_auto_flow": null,
            "grid_auto_rows": null,
            "grid_column": null,
            "grid_gap": null,
            "grid_row": null,
            "grid_template_areas": null,
            "grid_template_columns": null,
            "grid_template_rows": null,
            "height": null,
            "justify_content": null,
            "justify_items": null,
            "left": null,
            "margin": null,
            "max_height": null,
            "max_width": null,
            "min_height": null,
            "min_width": null,
            "object_fit": null,
            "object_position": null,
            "order": null,
            "overflow": null,
            "overflow_x": null,
            "overflow_y": null,
            "padding": null,
            "right": null,
            "top": null,
            "visibility": null,
            "width": null
          }
        },
        "8083b0f7218548db98e1c6681f5eb3aa": {
          "model_module": "@jupyter-widgets/controls",
          "model_name": "DescriptionStyleModel",
          "model_module_version": "1.5.0",
          "state": {
            "_model_module": "@jupyter-widgets/controls",
            "_model_module_version": "1.5.0",
            "_model_name": "DescriptionStyleModel",
            "_view_count": null,
            "_view_module": "@jupyter-widgets/base",
            "_view_module_version": "1.2.0",
            "_view_name": "StyleView",
            "description_width": ""
          }
        },
        "016eff3762dd452790e797f08b4889a4": {
          "model_module": "@jupyter-widgets/base",
          "model_name": "LayoutModel",
          "model_module_version": "1.2.0",
          "state": {
            "_model_module": "@jupyter-widgets/base",
            "_model_module_version": "1.2.0",
            "_model_name": "LayoutModel",
            "_view_count": null,
            "_view_module": "@jupyter-widgets/base",
            "_view_module_version": "1.2.0",
            "_view_name": "LayoutView",
            "align_content": null,
            "align_items": null,
            "align_self": null,
            "border": null,
            "bottom": null,
            "display": null,
            "flex": null,
            "flex_flow": null,
            "grid_area": null,
            "grid_auto_columns": null,
            "grid_auto_flow": null,
            "grid_auto_rows": null,
            "grid_column": null,
            "grid_gap": null,
            "grid_row": null,
            "grid_template_areas": null,
            "grid_template_columns": null,
            "grid_template_rows": null,
            "height": null,
            "justify_content": null,
            "justify_items": null,
            "left": null,
            "margin": null,
            "max_height": null,
            "max_width": null,
            "min_height": null,
            "min_width": null,
            "object_fit": null,
            "object_position": null,
            "order": null,
            "overflow": null,
            "overflow_x": null,
            "overflow_y": null,
            "padding": null,
            "right": null,
            "top": null,
            "visibility": null,
            "width": null
          }
        },
        "634fc369ae3d4bc398db28d6da6e8f64": {
          "model_module": "@jupyter-widgets/controls",
          "model_name": "ProgressStyleModel",
          "model_module_version": "1.5.0",
          "state": {
            "_model_module": "@jupyter-widgets/controls",
            "_model_module_version": "1.5.0",
            "_model_name": "ProgressStyleModel",
            "_view_count": null,
            "_view_module": "@jupyter-widgets/base",
            "_view_module_version": "1.2.0",
            "_view_name": "StyleView",
            "bar_color": null,
            "description_width": ""
          }
        },
        "c329bb21c7954de187aa338f50755aff": {
          "model_module": "@jupyter-widgets/base",
          "model_name": "LayoutModel",
          "model_module_version": "1.2.0",
          "state": {
            "_model_module": "@jupyter-widgets/base",
            "_model_module_version": "1.2.0",
            "_model_name": "LayoutModel",
            "_view_count": null,
            "_view_module": "@jupyter-widgets/base",
            "_view_module_version": "1.2.0",
            "_view_name": "LayoutView",
            "align_content": null,
            "align_items": null,
            "align_self": null,
            "border": null,
            "bottom": null,
            "display": null,
            "flex": null,
            "flex_flow": null,
            "grid_area": null,
            "grid_auto_columns": null,
            "grid_auto_flow": null,
            "grid_auto_rows": null,
            "grid_column": null,
            "grid_gap": null,
            "grid_row": null,
            "grid_template_areas": null,
            "grid_template_columns": null,
            "grid_template_rows": null,
            "height": null,
            "justify_content": null,
            "justify_items": null,
            "left": null,
            "margin": null,
            "max_height": null,
            "max_width": null,
            "min_height": null,
            "min_width": null,
            "object_fit": null,
            "object_position": null,
            "order": null,
            "overflow": null,
            "overflow_x": null,
            "overflow_y": null,
            "padding": null,
            "right": null,
            "top": null,
            "visibility": null,
            "width": null
          }
        },
        "9f8238e752704fb885390eaf398b6ede": {
          "model_module": "@jupyter-widgets/controls",
          "model_name": "DescriptionStyleModel",
          "model_module_version": "1.5.0",
          "state": {
            "_model_module": "@jupyter-widgets/controls",
            "_model_module_version": "1.5.0",
            "_model_name": "DescriptionStyleModel",
            "_view_count": null,
            "_view_module": "@jupyter-widgets/base",
            "_view_module_version": "1.2.0",
            "_view_name": "StyleView",
            "description_width": ""
          }
        }
      }
    }
  },
  "cells": [
    {
      "cell_type": "markdown",
      "metadata": {
        "id": "view-in-github",
        "colab_type": "text"
      },
      "source": [
        "<a href=\"https://colab.research.google.com/github/Rama-Has/Poem_Generator_Rama_Hasiba_12010022/blob/main/English_Poem_Generator_NLP_Final_Project.ipynb\" target=\"_parent\"><img src=\"https://colab.research.google.com/assets/colab-badge.svg\" alt=\"Open In Colab\"/></a>"
      ]
    },
    {
      "cell_type": "markdown",
      "source": [
        "# Notebook Sections: \n",
        "  1. Fine tune a gpt-2 model.\n",
        "  2. Build a bidirectional LSTM model to generate a poem."
      ],
      "metadata": {
        "id": "3fT4aWZ690BC"
      }
    },
    {
      "cell_type": "markdown",
      "source": [
        "## Importing Libraries"
      ],
      "metadata": {
        "id": "q3W3BxRB9YjN"
      }
    },
    {
      "cell_type": "code",
      "source": [
        "# !pip install tensorflow"
      ],
      "metadata": {
        "id": "vkUfiwesVmpz"
      },
      "execution_count": 3,
      "outputs": []
    },
    {
      "cell_type": "code",
      "source": [
        "from google.colab import files\n",
        "import io\n",
        "import numpy as np\n",
        "import pandas as pd\n",
        "import matplotlib.pyplot as plt\n",
        "import tensorflow.keras.utils as ku\n",
        "from wordcloud import WordCloud\n",
        "from tensorflow.keras.preprocessing.sequence import pad_sequences\n",
        "from tensorflow.keras.layers import Embedding, LSTM, Dense, Dropout, Bidirectional\n",
        "from tensorflow.keras.preprocessing.text import Tokenizer\n",
        "from tensorflow.keras.models import Sequential\n",
        "from tensorflow.keras.optimizers import Adam\n",
        "from tensorflow.keras import regularizers\n",
        "from keras.models import load_model \n",
        "from google.colab import drive \n",
        "from tensorflow.keras.utils import to_categorical\n",
        "from transformers import GPT2LMHeadModel, GPT2Tokenizer#take the input text then encode it from text to numbers\n",
        "from sklearn.model_selection import train_test_split\n",
        "from transformers import TextDataset, DataCollatorForLanguageModeling"
      ],
      "metadata": {
        "id": "7gbDUxVQ8I2G"
      },
      "execution_count": 6,
      "outputs": []
    },
    {
      "cell_type": "markdown",
      "source": [
        "# Reading Data\n",
        "-------------------"
      ],
      "metadata": {
        "id": "KShwcGhbM_Pl"
      }
    },
    {
      "cell_type": "code",
      "source": [
        "#mount google drive to the colab runtime\n",
        "drive.mount('/content/drive') "
      ],
      "metadata": {
        "colab": {
          "base_uri": "https://localhost:8080/"
        },
        "id": "fhzJM5cTNJx8",
        "outputId": "9c61843f-630d-4c42-be52-ce888c4eeb41"
      },
      "execution_count": 7,
      "outputs": [
        {
          "output_type": "stream",
          "name": "stdout",
          "text": [
            "Mounted at /content/drive\n"
          ]
        }
      ]
    },
    {
      "cell_type": "code",
      "source": [
        "csv_data = pd.read_csv('/content/drive/MyDrive/Classroom/merged_data.csv') "
      ],
      "metadata": {
        "id": "pqwkT2l8Pe3c"
      },
      "execution_count": 8,
      "outputs": []
    },
    {
      "cell_type": "code",
      "source": [
        "csv_data"
      ],
      "metadata": {
        "colab": {
          "base_uri": "https://localhost:8080/",
          "height": 467
        },
        "id": "g04RZeTl_-9f",
        "outputId": "507eb16a-a0cc-4f6d-fab6-5f0ab7f478e5"
      },
      "execution_count": 9,
      "outputs": [
        {
          "output_type": "execute_result",
          "data": {
            "text/plain": [
              "        Unnamed: 0                                              Verse   Meter  \\\n",
              "0                0          ah why this boding start this sudden pain  iambic   \n",
              "1                1   that wings my pulse and shoots from vein to vein  iambic   \n",
              "2                2          what mean regardless of yon midnight bell  iambic   \n",
              "3                3     these earthborn visions saddening o'er my cell  iambic   \n",
              "4                4  what strange disorder prompts these thoughts t...  iambic   \n",
              "...            ...                                                ...     ...   \n",
              "198997      202272                  were mellow music matchd with him  iambic   \n",
              "198998      202274                     o life as futile then as frail  iambic   \n",
              "198999      202275                o for thy voice to soothe and bless  iambic   \n",
              "199000      202276                     what hope of answer or redress  iambic   \n",
              "199001      202277                    behind the veil behind the veil  iambic   \n",
              "\n",
              "        char_count  \n",
              "0                6  \n",
              "1                6  \n",
              "2                6  \n",
              "3                6  \n",
              "4                6  \n",
              "...            ...  \n",
              "198997           6  \n",
              "198998           6  \n",
              "198999           6  \n",
              "199000           6  \n",
              "199001           6  \n",
              "\n",
              "[199002 rows x 4 columns]"
            ],
            "text/html": [
              "\n",
              "  <div id=\"df-28515451-a909-4223-8e18-a44a2115d8bc\">\n",
              "    <div class=\"colab-df-container\">\n",
              "      <div>\n",
              "<style scoped>\n",
              "    .dataframe tbody tr th:only-of-type {\n",
              "        vertical-align: middle;\n",
              "    }\n",
              "\n",
              "    .dataframe tbody tr th {\n",
              "        vertical-align: top;\n",
              "    }\n",
              "\n",
              "    .dataframe thead th {\n",
              "        text-align: right;\n",
              "    }\n",
              "</style>\n",
              "<table border=\"1\" class=\"dataframe\">\n",
              "  <thead>\n",
              "    <tr style=\"text-align: right;\">\n",
              "      <th></th>\n",
              "      <th>Unnamed: 0</th>\n",
              "      <th>Verse</th>\n",
              "      <th>Meter</th>\n",
              "      <th>char_count</th>\n",
              "    </tr>\n",
              "  </thead>\n",
              "  <tbody>\n",
              "    <tr>\n",
              "      <th>0</th>\n",
              "      <td>0</td>\n",
              "      <td>ah why this boding start this sudden pain</td>\n",
              "      <td>iambic</td>\n",
              "      <td>6</td>\n",
              "    </tr>\n",
              "    <tr>\n",
              "      <th>1</th>\n",
              "      <td>1</td>\n",
              "      <td>that wings my pulse and shoots from vein to vein</td>\n",
              "      <td>iambic</td>\n",
              "      <td>6</td>\n",
              "    </tr>\n",
              "    <tr>\n",
              "      <th>2</th>\n",
              "      <td>2</td>\n",
              "      <td>what mean regardless of yon midnight bell</td>\n",
              "      <td>iambic</td>\n",
              "      <td>6</td>\n",
              "    </tr>\n",
              "    <tr>\n",
              "      <th>3</th>\n",
              "      <td>3</td>\n",
              "      <td>these earthborn visions saddening o'er my cell</td>\n",
              "      <td>iambic</td>\n",
              "      <td>6</td>\n",
              "    </tr>\n",
              "    <tr>\n",
              "      <th>4</th>\n",
              "      <td>4</td>\n",
              "      <td>what strange disorder prompts these thoughts t...</td>\n",
              "      <td>iambic</td>\n",
              "      <td>6</td>\n",
              "    </tr>\n",
              "    <tr>\n",
              "      <th>...</th>\n",
              "      <td>...</td>\n",
              "      <td>...</td>\n",
              "      <td>...</td>\n",
              "      <td>...</td>\n",
              "    </tr>\n",
              "    <tr>\n",
              "      <th>198997</th>\n",
              "      <td>202272</td>\n",
              "      <td>were mellow music matchd with him</td>\n",
              "      <td>iambic</td>\n",
              "      <td>6</td>\n",
              "    </tr>\n",
              "    <tr>\n",
              "      <th>198998</th>\n",
              "      <td>202274</td>\n",
              "      <td>o life as futile then as frail</td>\n",
              "      <td>iambic</td>\n",
              "      <td>6</td>\n",
              "    </tr>\n",
              "    <tr>\n",
              "      <th>198999</th>\n",
              "      <td>202275</td>\n",
              "      <td>o for thy voice to soothe and bless</td>\n",
              "      <td>iambic</td>\n",
              "      <td>6</td>\n",
              "    </tr>\n",
              "    <tr>\n",
              "      <th>199000</th>\n",
              "      <td>202276</td>\n",
              "      <td>what hope of answer or redress</td>\n",
              "      <td>iambic</td>\n",
              "      <td>6</td>\n",
              "    </tr>\n",
              "    <tr>\n",
              "      <th>199001</th>\n",
              "      <td>202277</td>\n",
              "      <td>behind the veil behind the veil</td>\n",
              "      <td>iambic</td>\n",
              "      <td>6</td>\n",
              "    </tr>\n",
              "  </tbody>\n",
              "</table>\n",
              "<p>199002 rows × 4 columns</p>\n",
              "</div>\n",
              "      <button class=\"colab-df-convert\" onclick=\"convertToInteractive('df-28515451-a909-4223-8e18-a44a2115d8bc')\"\n",
              "              title=\"Convert this dataframe to an interactive table.\"\n",
              "              style=\"display:none;\">\n",
              "        \n",
              "  <svg xmlns=\"http://www.w3.org/2000/svg\" height=\"24px\"viewBox=\"0 0 24 24\"\n",
              "       width=\"24px\">\n",
              "    <path d=\"M0 0h24v24H0V0z\" fill=\"none\"/>\n",
              "    <path d=\"M18.56 5.44l.94 2.06.94-2.06 2.06-.94-2.06-.94-.94-2.06-.94 2.06-2.06.94zm-11 1L8.5 8.5l.94-2.06 2.06-.94-2.06-.94L8.5 2.5l-.94 2.06-2.06.94zm10 10l.94 2.06.94-2.06 2.06-.94-2.06-.94-.94-2.06-.94 2.06-2.06.94z\"/><path d=\"M17.41 7.96l-1.37-1.37c-.4-.4-.92-.59-1.43-.59-.52 0-1.04.2-1.43.59L10.3 9.45l-7.72 7.72c-.78.78-.78 2.05 0 2.83L4 21.41c.39.39.9.59 1.41.59.51 0 1.02-.2 1.41-.59l7.78-7.78 2.81-2.81c.8-.78.8-2.07 0-2.86zM5.41 20L4 18.59l7.72-7.72 1.47 1.35L5.41 20z\"/>\n",
              "  </svg>\n",
              "      </button>\n",
              "      \n",
              "  <style>\n",
              "    .colab-df-container {\n",
              "      display:flex;\n",
              "      flex-wrap:wrap;\n",
              "      gap: 12px;\n",
              "    }\n",
              "\n",
              "    .colab-df-convert {\n",
              "      background-color: #E8F0FE;\n",
              "      border: none;\n",
              "      border-radius: 50%;\n",
              "      cursor: pointer;\n",
              "      display: none;\n",
              "      fill: #1967D2;\n",
              "      height: 32px;\n",
              "      padding: 0 0 0 0;\n",
              "      width: 32px;\n",
              "    }\n",
              "\n",
              "    .colab-df-convert:hover {\n",
              "      background-color: #E2EBFA;\n",
              "      box-shadow: 0px 1px 2px rgba(60, 64, 67, 0.3), 0px 1px 3px 1px rgba(60, 64, 67, 0.15);\n",
              "      fill: #174EA6;\n",
              "    }\n",
              "\n",
              "    [theme=dark] .colab-df-convert {\n",
              "      background-color: #3B4455;\n",
              "      fill: #D2E3FC;\n",
              "    }\n",
              "\n",
              "    [theme=dark] .colab-df-convert:hover {\n",
              "      background-color: #434B5C;\n",
              "      box-shadow: 0px 1px 3px 1px rgba(0, 0, 0, 0.15);\n",
              "      filter: drop-shadow(0px 1px 2px rgba(0, 0, 0, 0.3));\n",
              "      fill: #FFFFFF;\n",
              "    }\n",
              "  </style>\n",
              "\n",
              "      <script>\n",
              "        const buttonEl =\n",
              "          document.querySelector('#df-28515451-a909-4223-8e18-a44a2115d8bc button.colab-df-convert');\n",
              "        buttonEl.style.display =\n",
              "          google.colab.kernel.accessAllowed ? 'block' : 'none';\n",
              "\n",
              "        async function convertToInteractive(key) {\n",
              "          const element = document.querySelector('#df-28515451-a909-4223-8e18-a44a2115d8bc');\n",
              "          const dataTable =\n",
              "            await google.colab.kernel.invokeFunction('convertToInteractive',\n",
              "                                                     [key], {});\n",
              "          if (!dataTable) return;\n",
              "\n",
              "          const docLinkHtml = 'Like what you see? Visit the ' +\n",
              "            '<a target=\"_blank\" href=https://colab.research.google.com/notebooks/data_table.ipynb>data table notebook</a>'\n",
              "            + ' to learn more about interactive tables.';\n",
              "          element.innerHTML = '';\n",
              "          dataTable['output_type'] = 'display_data';\n",
              "          await google.colab.output.renderOutput(dataTable, element);\n",
              "          const docLink = document.createElement('div');\n",
              "          docLink.innerHTML = docLinkHtml;\n",
              "          element.appendChild(docLink);\n",
              "        }\n",
              "      </script>\n",
              "    </div>\n",
              "  </div>\n",
              "  "
            ]
          },
          "metadata": {},
          "execution_count": 9
        }
      ]
    },
    {
      "cell_type": "markdown",
      "source": [
        "The dataset consists of 4 columns, we are interested on the \"Verse\" one only. It contains 199002 sample(verse), I decided to train the model with 16000 sample due to the resource limitation I have."
      ],
      "metadata": {
        "id": "ixRUyOWiCCna"
      }
    },
    {
      "cell_type": "code",
      "source": [
        "csv_data = csv_data[['Verse']]"
      ],
      "metadata": {
        "id": "wvXBSkb5PikD"
      },
      "execution_count": 10,
      "outputs": []
    },
    {
      "cell_type": "code",
      "source": [
        "csv_data  "
      ],
      "metadata": {
        "colab": {
          "base_uri": "https://localhost:8080/",
          "height": 423
        },
        "id": "yRrYawpG_6Lb",
        "outputId": "dade59de-10a5-4078-f0c2-96de98f694dc"
      },
      "execution_count": 11,
      "outputs": [
        {
          "output_type": "execute_result",
          "data": {
            "text/plain": [
              "                                                    Verse\n",
              "0               ah why this boding start this sudden pain\n",
              "1        that wings my pulse and shoots from vein to vein\n",
              "2               what mean regardless of yon midnight bell\n",
              "3          these earthborn visions saddening o'er my cell\n",
              "4       what strange disorder prompts these thoughts t...\n",
              "...                                                   ...\n",
              "198997                  were mellow music matchd with him\n",
              "198998                     o life as futile then as frail\n",
              "198999                o for thy voice to soothe and bless\n",
              "199000                     what hope of answer or redress\n",
              "199001                    behind the veil behind the veil\n",
              "\n",
              "[199002 rows x 1 columns]"
            ],
            "text/html": [
              "\n",
              "  <div id=\"df-bb7be0e5-8c0e-4eab-b590-b7076be66b55\">\n",
              "    <div class=\"colab-df-container\">\n",
              "      <div>\n",
              "<style scoped>\n",
              "    .dataframe tbody tr th:only-of-type {\n",
              "        vertical-align: middle;\n",
              "    }\n",
              "\n",
              "    .dataframe tbody tr th {\n",
              "        vertical-align: top;\n",
              "    }\n",
              "\n",
              "    .dataframe thead th {\n",
              "        text-align: right;\n",
              "    }\n",
              "</style>\n",
              "<table border=\"1\" class=\"dataframe\">\n",
              "  <thead>\n",
              "    <tr style=\"text-align: right;\">\n",
              "      <th></th>\n",
              "      <th>Verse</th>\n",
              "    </tr>\n",
              "  </thead>\n",
              "  <tbody>\n",
              "    <tr>\n",
              "      <th>0</th>\n",
              "      <td>ah why this boding start this sudden pain</td>\n",
              "    </tr>\n",
              "    <tr>\n",
              "      <th>1</th>\n",
              "      <td>that wings my pulse and shoots from vein to vein</td>\n",
              "    </tr>\n",
              "    <tr>\n",
              "      <th>2</th>\n",
              "      <td>what mean regardless of yon midnight bell</td>\n",
              "    </tr>\n",
              "    <tr>\n",
              "      <th>3</th>\n",
              "      <td>these earthborn visions saddening o'er my cell</td>\n",
              "    </tr>\n",
              "    <tr>\n",
              "      <th>4</th>\n",
              "      <td>what strange disorder prompts these thoughts t...</td>\n",
              "    </tr>\n",
              "    <tr>\n",
              "      <th>...</th>\n",
              "      <td>...</td>\n",
              "    </tr>\n",
              "    <tr>\n",
              "      <th>198997</th>\n",
              "      <td>were mellow music matchd with him</td>\n",
              "    </tr>\n",
              "    <tr>\n",
              "      <th>198998</th>\n",
              "      <td>o life as futile then as frail</td>\n",
              "    </tr>\n",
              "    <tr>\n",
              "      <th>198999</th>\n",
              "      <td>o for thy voice to soothe and bless</td>\n",
              "    </tr>\n",
              "    <tr>\n",
              "      <th>199000</th>\n",
              "      <td>what hope of answer or redress</td>\n",
              "    </tr>\n",
              "    <tr>\n",
              "      <th>199001</th>\n",
              "      <td>behind the veil behind the veil</td>\n",
              "    </tr>\n",
              "  </tbody>\n",
              "</table>\n",
              "<p>199002 rows × 1 columns</p>\n",
              "</div>\n",
              "      <button class=\"colab-df-convert\" onclick=\"convertToInteractive('df-bb7be0e5-8c0e-4eab-b590-b7076be66b55')\"\n",
              "              title=\"Convert this dataframe to an interactive table.\"\n",
              "              style=\"display:none;\">\n",
              "        \n",
              "  <svg xmlns=\"http://www.w3.org/2000/svg\" height=\"24px\"viewBox=\"0 0 24 24\"\n",
              "       width=\"24px\">\n",
              "    <path d=\"M0 0h24v24H0V0z\" fill=\"none\"/>\n",
              "    <path d=\"M18.56 5.44l.94 2.06.94-2.06 2.06-.94-2.06-.94-.94-2.06-.94 2.06-2.06.94zm-11 1L8.5 8.5l.94-2.06 2.06-.94-2.06-.94L8.5 2.5l-.94 2.06-2.06.94zm10 10l.94 2.06.94-2.06 2.06-.94-2.06-.94-.94-2.06-.94 2.06-2.06.94z\"/><path d=\"M17.41 7.96l-1.37-1.37c-.4-.4-.92-.59-1.43-.59-.52 0-1.04.2-1.43.59L10.3 9.45l-7.72 7.72c-.78.78-.78 2.05 0 2.83L4 21.41c.39.39.9.59 1.41.59.51 0 1.02-.2 1.41-.59l7.78-7.78 2.81-2.81c.8-.78.8-2.07 0-2.86zM5.41 20L4 18.59l7.72-7.72 1.47 1.35L5.41 20z\"/>\n",
              "  </svg>\n",
              "      </button>\n",
              "      \n",
              "  <style>\n",
              "    .colab-df-container {\n",
              "      display:flex;\n",
              "      flex-wrap:wrap;\n",
              "      gap: 12px;\n",
              "    }\n",
              "\n",
              "    .colab-df-convert {\n",
              "      background-color: #E8F0FE;\n",
              "      border: none;\n",
              "      border-radius: 50%;\n",
              "      cursor: pointer;\n",
              "      display: none;\n",
              "      fill: #1967D2;\n",
              "      height: 32px;\n",
              "      padding: 0 0 0 0;\n",
              "      width: 32px;\n",
              "    }\n",
              "\n",
              "    .colab-df-convert:hover {\n",
              "      background-color: #E2EBFA;\n",
              "      box-shadow: 0px 1px 2px rgba(60, 64, 67, 0.3), 0px 1px 3px 1px rgba(60, 64, 67, 0.15);\n",
              "      fill: #174EA6;\n",
              "    }\n",
              "\n",
              "    [theme=dark] .colab-df-convert {\n",
              "      background-color: #3B4455;\n",
              "      fill: #D2E3FC;\n",
              "    }\n",
              "\n",
              "    [theme=dark] .colab-df-convert:hover {\n",
              "      background-color: #434B5C;\n",
              "      box-shadow: 0px 1px 3px 1px rgba(0, 0, 0, 0.15);\n",
              "      filter: drop-shadow(0px 1px 2px rgba(0, 0, 0, 0.3));\n",
              "      fill: #FFFFFF;\n",
              "    }\n",
              "  </style>\n",
              "\n",
              "      <script>\n",
              "        const buttonEl =\n",
              "          document.querySelector('#df-bb7be0e5-8c0e-4eab-b590-b7076be66b55 button.colab-df-convert');\n",
              "        buttonEl.style.display =\n",
              "          google.colab.kernel.accessAllowed ? 'block' : 'none';\n",
              "\n",
              "        async function convertToInteractive(key) {\n",
              "          const element = document.querySelector('#df-bb7be0e5-8c0e-4eab-b590-b7076be66b55');\n",
              "          const dataTable =\n",
              "            await google.colab.kernel.invokeFunction('convertToInteractive',\n",
              "                                                     [key], {});\n",
              "          if (!dataTable) return;\n",
              "\n",
              "          const docLinkHtml = 'Like what you see? Visit the ' +\n",
              "            '<a target=\"_blank\" href=https://colab.research.google.com/notebooks/data_table.ipynb>data table notebook</a>'\n",
              "            + ' to learn more about interactive tables.';\n",
              "          element.innerHTML = '';\n",
              "          dataTable['output_type'] = 'display_data';\n",
              "          await google.colab.output.renderOutput(dataTable, element);\n",
              "          const docLink = document.createElement('div');\n",
              "          docLink.innerHTML = docLinkHtml;\n",
              "          element.appendChild(docLink);\n",
              "        }\n",
              "      </script>\n",
              "    </div>\n",
              "  </div>\n",
              "  "
            ]
          },
          "metadata": {},
          "execution_count": 11
        }
      ]
    },
    {
      "cell_type": "markdown",
      "source": [
        "## Preparing the Corpus"
      ],
      "metadata": {
        "id": "pJusUBbJOQJb"
      }
    },
    {
      "cell_type": "code",
      "source": [
        "corpus = csv_data['Verse'].to_list()[0: 16000]"
      ],
      "metadata": {
        "id": "oLuPLD4gP4lG"
      },
      "execution_count": 12,
      "outputs": []
    },
    {
      "cell_type": "code",
      "source": [
        "corpus[0: 4]"
      ],
      "metadata": {
        "colab": {
          "base_uri": "https://localhost:8080/"
        },
        "id": "xjTGyPTpOIfA",
        "outputId": "49bb5e80-3223-4793-cd1d-4c42ffa32eff"
      },
      "execution_count": 13,
      "outputs": [
        {
          "output_type": "execute_result",
          "data": {
            "text/plain": [
              "['ah why this boding start this sudden pain',\n",
              " 'that wings my pulse and shoots from vein to vein',\n",
              " 'what mean regardless of yon midnight bell',\n",
              " \"these earthborn visions saddening o'er my cell\"]"
            ]
          },
          "metadata": {},
          "execution_count": 13
        }
      ]
    },
    {
      "cell_type": "markdown",
      "source": [
        "Get the length of each verse, where length represent number of words in that verse \n"
      ],
      "metadata": {
        "id": "p7hmVIx2DPxu"
      }
    },
    {
      "cell_type": "code",
      "source": [
        "verse_length = [len(line.split(' ')) for line in corpus]\n",
        "verse_length[0: 5]   "
      ],
      "metadata": {
        "colab": {
          "base_uri": "https://localhost:8080/"
        },
        "id": "jBLzlOefQMrG",
        "outputId": "f8f09a85-caa0-4f02-b520-24dcd85625e2"
      },
      "execution_count": 14,
      "outputs": [
        {
          "output_type": "execute_result",
          "data": {
            "text/plain": [
              "[8, 10, 7, 7, 8]"
            ]
          },
          "metadata": {},
          "execution_count": 14
        }
      ]
    },
    {
      "cell_type": "code",
      "source": [
        "plt.boxplot(verse_length)\n",
        "plt.title('Verse length distribution')\n",
        "plt.show()"
      ],
      "metadata": {
        "colab": {
          "base_uri": "https://localhost:8080/",
          "height": 452
        },
        "id": "4RGRvfmEKxHE",
        "outputId": "685f91d4-0730-4552-ad82-0268a0ae4a2f"
      },
      "execution_count": 15,
      "outputs": [
        {
          "output_type": "display_data",
          "data": {
            "text/plain": [
              "<Figure size 640x480 with 1 Axes>"
            ],
            "image/png": "[encoded data removed]"
          },
          "metadata": {}
        }
      ]
    },
    {
      "cell_type": "code",
      "source": [
        "print(\n",
        "    f'Longest verse has {max(verse_length)} word.'\n",
        "    f'\\nShorter one has {min(verse_length)}.' \n",
        "    f'\\n{int(np.mean(verse_length))} is the mean number of words per verse.\\n' \n",
        ")"
      ],
      "metadata": {
        "colab": {
          "base_uri": "https://localhost:8080/"
        },
        "id": "2Mb2BzBtYAoi",
        "outputId": "8ea891ea-30bb-445c-f02f-9b0ef0fdfa2b"
      },
      "execution_count": 16,
      "outputs": [
        {
          "output_type": "stream",
          "name": "stdout",
          "text": [
            "Longest verse has 14 word.\n",
            "Shorter one has 2.\n",
            "7 is the mean number of words per verse.\n",
            "\n"
          ]
        }
      ]
    },
    {
      "cell_type": "code",
      "source": [
        "# Generating the wordCloud to visiualize the text\n",
        "wordcloud = WordCloud(max_font_size=50,\n",
        "                      max_words=80,\n",
        "                      background_color=\"black\").generate(\" \".join(corpus))\n",
        " \n",
        "# Plotting the WordCloud\n",
        "plt.figure(figsize=(8, 4))\n",
        "plt.imshow(wordcloud, interpolation='bilinear')\n",
        "plt.axis(\"off\")\n",
        "plt.savefig(\"WordCloud.png\")\n",
        "plt.show()"
      ],
      "metadata": {
        "colab": {
          "base_uri": "https://localhost:8080/",
          "height": 342
        },
        "id": "sUp5qkF7PsRR",
        "outputId": "edb30efb-198d-411a-9a9e-24d2c16470b2"
      },
      "execution_count": 17,
      "outputs": [
        {
          "output_type": "display_data",
          "data": {
            "text/plain": [
              "<Figure size 800x400 with 1 Axes>"
            ],
            "image/png": "[encoded data removed]"
          },
          "metadata": {}
        }
      ]
    },
    {
      "cell_type": "markdown",
      "source": [
        "#### Text Preprocessing"
      ],
      "metadata": {
        "id": "ZGjc096eOaum"
      }
    },
    {
      "cell_type": "markdown",
      "source": [
        "Making samples, that I'll use in the training, consistant by converting letters to lower case."
      ],
      "metadata": {
        "id": "_UJSNqfDCqqu"
      }
    },
    {
      "cell_type": "markdown",
      "source": [
        "> 1. Convert to lower case"
      ],
      "metadata": {
        "id": "fRFWCni_Ogq3"
      }
    },
    {
      "cell_type": "code",
      "source": [
        "corpus = [sentence.lower() for sentence in corpus]"
      ],
      "metadata": {
        "id": "MOWbV_wIPGHy"
      },
      "execution_count": 18,
      "outputs": []
    },
    {
      "cell_type": "markdown",
      "source": [
        "### Tokenizing Data"
      ],
      "metadata": {
        "id": "jDG7tuycM7F5"
      }
    },
    {
      "cell_type": "markdown",
      "source": [
        "Tokenize the text using tensorflow tokenizer."
      ],
      "metadata": {
        "id": "nfgBvMHTNCnv"
      }
    },
    {
      "cell_type": "code",
      "source": [
        "#fitting the Tokenizer on the Corpus\n",
        "tokenizer = Tokenizer()\n",
        "\n",
        "#fit the tokenizer on verses, where each word will be assigned to an integer.\n",
        "tokenizer.fit_on_texts(corpus)"
      ],
      "metadata": {
        "id": "jsVrGSU2QQtN"
      },
      "execution_count": 19,
      "outputs": []
    },
    {
      "cell_type": "code",
      "source": [
        "# help(tokenizer)"
      ],
      "metadata": {
        "id": "2BiSFnQdQkwy"
      },
      "execution_count": 20,
      "outputs": []
    },
    {
      "cell_type": "code",
      "source": [
        "# Tokenized words\n",
        "tokenizer.word_index"
      ],
      "metadata": {
        "colab": {
          "base_uri": "https://localhost:8080/"
        },
        "id": "j_jbgSi5Q-7T",
        "outputId": "4d3f4e3b-6a4f-47d1-9295-7c950ba77931"
      },
      "execution_count": 21,
      "outputs": [
        {
          "output_type": "execute_result",
          "data": {
            "text/plain": [
              "{'the': 1,\n",
              " 'and': 2,\n",
              " 'to': 3,\n",
              " 'of': 4,\n",
              " 'in': 5,\n",
              " 'a': 6,\n",
              " 'with': 7,\n",
              " 'his': 8,\n",
              " 'her': 9,\n",
              " 'that': 10,\n",
              " 'my': 11,\n",
              " 'i': 12,\n",
              " 'thy': 13,\n",
              " 'from': 14,\n",
              " 'all': 15,\n",
              " 'for': 16,\n",
              " 'but': 17,\n",
              " 'he': 18,\n",
              " 'their': 19,\n",
              " 'on': 20,\n",
              " 'as': 21,\n",
              " 'or': 22,\n",
              " 'by': 23,\n",
              " 'when': 24,\n",
              " 'no': 25,\n",
              " 'not': 26,\n",
              " 'is': 27,\n",
              " 'be': 28,\n",
              " 'you': 29,\n",
              " 'at': 30,\n",
              " 'your': 31,\n",
              " 'they': 32,\n",
              " 'who': 33,\n",
              " 'what': 34,\n",
              " 'this': 35,\n",
              " 'shall': 36,\n",
              " 'she': 37,\n",
              " 'was': 38,\n",
              " 'nor': 39,\n",
              " 'so': 40,\n",
              " 'now': 41,\n",
              " 'where': 42,\n",
              " 'me': 43,\n",
              " 'it': 44,\n",
              " 'yet': 45,\n",
              " 'more': 46,\n",
              " 'can': 47,\n",
              " 'then': 48,\n",
              " 'each': 49,\n",
              " 'which': 50,\n",
              " 'are': 51,\n",
              " \"o'er\": 52,\n",
              " 'our': 53,\n",
              " 'if': 54,\n",
              " 'while': 55,\n",
              " 'love': 56,\n",
              " 'still': 57,\n",
              " 'we': 58,\n",
              " 'like': 59,\n",
              " 'let': 60,\n",
              " 'how': 61,\n",
              " 'him': 62,\n",
              " 'there': 63,\n",
              " 'its': 64,\n",
              " 'thou': 65,\n",
              " 'every': 66,\n",
              " \"th'\": 67,\n",
              " 'thee': 68,\n",
              " 'some': 69,\n",
              " 'fair': 70,\n",
              " 'heart': 71,\n",
              " 'will': 72,\n",
              " 'see': 73,\n",
              " 'too': 74,\n",
              " 'these': 75,\n",
              " 'an': 76,\n",
              " 'here': 77,\n",
              " 'soul': 78,\n",
              " 'may': 79,\n",
              " 'such': 80,\n",
              " 'one': 81,\n",
              " 'day': 82,\n",
              " 'ye': 83,\n",
              " 'had': 84,\n",
              " 'have': 85,\n",
              " \"'tis\": 86,\n",
              " 'those': 87,\n",
              " 'whose': 88,\n",
              " 'must': 89,\n",
              " 'vain': 90,\n",
              " 'mind': 91,\n",
              " 'thus': 92,\n",
              " \"tho'\": 93,\n",
              " 'should': 94,\n",
              " 'man': 95,\n",
              " 'life': 96,\n",
              " 'would': 97,\n",
              " 'name': 98,\n",
              " 'o': 99,\n",
              " 'were': 100,\n",
              " 'hand': 101,\n",
              " 'eyes': 102,\n",
              " 'eye': 103,\n",
              " 'than': 104,\n",
              " 'art': 105,\n",
              " 'great': 106,\n",
              " 'breast': 107,\n",
              " 'long': 108,\n",
              " 'once': 109,\n",
              " 'fame': 110,\n",
              " 'has': 111,\n",
              " 'could': 112,\n",
              " 'own': 113,\n",
              " 'round': 114,\n",
              " 'sweet': 115,\n",
              " 'praise': 116,\n",
              " 'ever': 117,\n",
              " 'them': 118,\n",
              " 'care': 119,\n",
              " 'youth': 120,\n",
              " 'joy': 121,\n",
              " 'fate': 122,\n",
              " \"ev'ry\": 123,\n",
              " 'soft': 124,\n",
              " 'make': 125,\n",
              " \"thro'\": 126,\n",
              " 'nature': 127,\n",
              " 'why': 128,\n",
              " 'away': 129,\n",
              " 'oft': 130,\n",
              " 'time': 131,\n",
              " 'know': 132,\n",
              " 'pride': 133,\n",
              " 'thought': 134,\n",
              " 'till': 135,\n",
              " 'never': 136,\n",
              " 'light': 137,\n",
              " 'first': 138,\n",
              " 'rise': 139,\n",
              " 'friend': 140,\n",
              " 'way': 141,\n",
              " 'alone': 142,\n",
              " 'head': 143,\n",
              " 'upon': 144,\n",
              " 'kind': 145,\n",
              " 'face': 146,\n",
              " 'muse': 147,\n",
              " 'through': 148,\n",
              " 'find': 149,\n",
              " 'soon': 150,\n",
              " 'charms': 151,\n",
              " 'up': 152,\n",
              " 'gay': 153,\n",
              " 'world': 154,\n",
              " 'come': 155,\n",
              " 'old': 156,\n",
              " 'well': 157,\n",
              " 'dear': 158,\n",
              " 'virtue': 159,\n",
              " 'hear': 160,\n",
              " 'air': 161,\n",
              " 'whilst': 162,\n",
              " 'down': 163,\n",
              " 'ah': 164,\n",
              " 'bright': 165,\n",
              " 'made': 166,\n",
              " 'new': 167,\n",
              " 'good': 168,\n",
              " 'night': 169,\n",
              " 'far': 170,\n",
              " 'found': 171,\n",
              " 'us': 172,\n",
              " 'peace': 173,\n",
              " 'give': 174,\n",
              " 'grace': 175,\n",
              " 'god': 176,\n",
              " 'around': 177,\n",
              " 'true': 178,\n",
              " 'shade': 179,\n",
              " 'fly': 180,\n",
              " 'do': 181,\n",
              " 'say': 182,\n",
              " 'out': 183,\n",
              " 'did': 184,\n",
              " 'again': 185,\n",
              " 'think': 186,\n",
              " 'fear': 187,\n",
              " 'before': 188,\n",
              " 'form': 189,\n",
              " 'only': 190,\n",
              " 'high': 191,\n",
              " 'beneath': 192,\n",
              " 'thine': 193,\n",
              " 'truth': 194,\n",
              " 'beauty': 195,\n",
              " 'whom': 196,\n",
              " 'land': 197,\n",
              " 'death': 198,\n",
              " 'happy': 199,\n",
              " 'wit': 200,\n",
              " 'most': 201,\n",
              " 'bosom': 202,\n",
              " 'voice': 203,\n",
              " 'sure': 204,\n",
              " 'state': 205,\n",
              " 'power': 206,\n",
              " 'fond': 207,\n",
              " 'take': 208,\n",
              " 'into': 209,\n",
              " 'hope': 210,\n",
              " 'earth': 211,\n",
              " 'war': 212,\n",
              " 'lay': 213,\n",
              " 'pleasure': 214,\n",
              " 'arms': 215,\n",
              " 'sense': 216,\n",
              " 'ground': 217,\n",
              " 'deep': 218,\n",
              " 'lost': 219,\n",
              " 'side': 220,\n",
              " 'sad': 221,\n",
              " 'call': 222,\n",
              " 'flame': 223,\n",
              " 'just': 224,\n",
              " 'hour': 225,\n",
              " 'other': 226,\n",
              " 'pain': 227,\n",
              " 'song': 228,\n",
              " 'sight': 229,\n",
              " 'maid': 230,\n",
              " 'last': 231,\n",
              " 'sacred': 232,\n",
              " 'heaven': 233,\n",
              " 'view': 234,\n",
              " 'rage': 235,\n",
              " 'place': 236,\n",
              " 'little': 237,\n",
              " 'trembling': 238,\n",
              " 'age': 239,\n",
              " \"ne'er\": 240,\n",
              " 'days': 241,\n",
              " 'tears': 242,\n",
              " 'oh': 243,\n",
              " 'seen': 244,\n",
              " 'ease': 245,\n",
              " 'said': 246,\n",
              " \"e'er\": 247,\n",
              " 'tell': 248,\n",
              " 'without': 249,\n",
              " 'fire': 250,\n",
              " 'taught': 251,\n",
              " 'full': 252,\n",
              " 'within': 253,\n",
              " 'much': 254,\n",
              " 'near': 255,\n",
              " 'woe': 256,\n",
              " 'joys': 257,\n",
              " 'along': 258,\n",
              " 'force': 259,\n",
              " 'sun': 260,\n",
              " 'both': 261,\n",
              " 'tear': 262,\n",
              " 'sleep': 263,\n",
              " 'sky': 264,\n",
              " 'go': 265,\n",
              " \"'twas\": 266,\n",
              " 'men': 267,\n",
              " 'mighty': 268,\n",
              " 'blest': 269,\n",
              " 'alas': 270,\n",
              " 'lovely': 271,\n",
              " 'proud': 272,\n",
              " 'behold': 273,\n",
              " 'might': 274,\n",
              " 'die': 275,\n",
              " 'wish': 276,\n",
              " 'rest': 277,\n",
              " 'shore': 278,\n",
              " 'tender': 279,\n",
              " 'best': 280,\n",
              " 'friends': 281,\n",
              " 'free': 282,\n",
              " 'mine': 283,\n",
              " 'pleasing': 284,\n",
              " 'look': 285,\n",
              " 'please': 286,\n",
              " \"nature's\": 287,\n",
              " 'scene': 288,\n",
              " 'fancy': 289,\n",
              " 'green': 290,\n",
              " 'bed': 291,\n",
              " 'raise': 292,\n",
              " 'half': 293,\n",
              " 'plain': 294,\n",
              " 'delight': 295,\n",
              " 'poor': 296,\n",
              " 'race': 297,\n",
              " 'bring': 298,\n",
              " 'many': 299,\n",
              " 'since': 300,\n",
              " \"heav'n\": 301,\n",
              " 'live': 302,\n",
              " 'skies': 303,\n",
              " 'divine': 304,\n",
              " \"lov'd\": 305,\n",
              " 'sons': 306,\n",
              " 'flow': 307,\n",
              " 'pale': 308,\n",
              " 'spring': 309,\n",
              " 'gave': 310,\n",
              " 'blood': 311,\n",
              " 'wild': 312,\n",
              " 'genius': 313,\n",
              " 'hence': 314,\n",
              " 'reason': 315,\n",
              " 'none': 316,\n",
              " 'flies': 317,\n",
              " \"wou'd\": 318,\n",
              " 'meet': 319,\n",
              " 'came': 320,\n",
              " 'feel': 321,\n",
              " 'past': 322,\n",
              " 'toil': 323,\n",
              " 'taste': 324,\n",
              " 'play': 325,\n",
              " 'heard': 326,\n",
              " 'rose': 327,\n",
              " 'saw': 328,\n",
              " 'tale': 329,\n",
              " 'below': 330,\n",
              " 'bliss': 331,\n",
              " 'rising': 332,\n",
              " 'stream': 333,\n",
              " 'verse': 334,\n",
              " 'part': 335,\n",
              " 'forth': 336,\n",
              " 'two': 337,\n",
              " 'shine': 338,\n",
              " 'move': 339,\n",
              " 'left': 340,\n",
              " 'grief': 341,\n",
              " 'sing': 342,\n",
              " 'brow': 343,\n",
              " 'though': 344,\n",
              " 'cannot': 345,\n",
              " 'yon': 346,\n",
              " 'smile': 347,\n",
              " 'fatal': 348,\n",
              " 'cold': 349,\n",
              " 'ear': 350,\n",
              " 'equal': 351,\n",
              " 'various': 352,\n",
              " 'shades': 353,\n",
              " 'gentle': 354,\n",
              " 'shame': 355,\n",
              " 'right': 356,\n",
              " 'bear': 357,\n",
              " \"pow'r\": 358,\n",
              " 'foe': 359,\n",
              " 'human': 360,\n",
              " 'calm': 361,\n",
              " 'dead': 362,\n",
              " 'wise': 363,\n",
              " 'secret': 364,\n",
              " 'train': 365,\n",
              " 'things': 366,\n",
              " 'king': 367,\n",
              " 'glorious': 368,\n",
              " 'pursue': 369,\n",
              " 'fortune': 370,\n",
              " 'ere': 371,\n",
              " 'prove': 372,\n",
              " 'spread': 373,\n",
              " 'spirit': 374,\n",
              " 'sound': 375,\n",
              " 'bid': 376,\n",
              " 'appear': 377,\n",
              " 'hands': 378,\n",
              " 'native': 379,\n",
              " 'above': 380,\n",
              " 'honour': 381,\n",
              " \"i'll\": 382,\n",
              " 'sigh': 383,\n",
              " 'scenes': 384,\n",
              " 'winds': 385,\n",
              " 'leave': 386,\n",
              " 'fall': 387,\n",
              " 'years': 388,\n",
              " 'rich': 389,\n",
              " 'grave': 390,\n",
              " 'thousand': 391,\n",
              " 'young': 392,\n",
              " 'dark': 393,\n",
              " 'gain': 394,\n",
              " 'nymph': 395,\n",
              " 'steps': 396,\n",
              " 'arts': 397,\n",
              " 'fell': 398,\n",
              " \"pleas'd\": 399,\n",
              " 'cause': 400,\n",
              " 'word': 401,\n",
              " 'dance': 402,\n",
              " 'year': 403,\n",
              " 'does': 404,\n",
              " 'tongue': 405,\n",
              " 'cares': 406,\n",
              " 'slow': 407,\n",
              " 'next': 408,\n",
              " 'gives': 409,\n",
              " 'reign': 410,\n",
              " 'thoughts': 411,\n",
              " 'fled': 412,\n",
              " 'despair': 413,\n",
              " 'done': 414,\n",
              " 'wind': 415,\n",
              " 'wide': 416,\n",
              " 'stand': 417,\n",
              " 'better': 418,\n",
              " 'gods': 419,\n",
              " \"cou'd\": 420,\n",
              " 'stood': 421,\n",
              " 'back': 422,\n",
              " 'same': 423,\n",
              " 'ray': 424,\n",
              " 'charm': 425,\n",
              " 'passion': 426,\n",
              " 'smiles': 427,\n",
              " 'numbers': 428,\n",
              " 'grateful': 429,\n",
              " 'gold': 430,\n",
              " 'vice': 431,\n",
              " 'pity': 432,\n",
              " 'whence': 433,\n",
              " 'turn': 434,\n",
              " 'haste': 435,\n",
              " 'grove': 436,\n",
              " 'queen': 437,\n",
              " 'pure': 438,\n",
              " 'read': 439,\n",
              " 'mortal': 440,\n",
              " 'dreadful': 441,\n",
              " 'wing': 442,\n",
              " 'teach': 443,\n",
              " 'wretch': 444,\n",
              " 'aid': 445,\n",
              " 'knew': 446,\n",
              " 'words': 447,\n",
              " 'bloom': 448,\n",
              " 'distant': 449,\n",
              " 'foes': 450,\n",
              " 'speak': 451,\n",
              " 'health': 452,\n",
              " 'court': 453,\n",
              " 'lie': 454,\n",
              " 'low': 455,\n",
              " 'wave': 456,\n",
              " 'beams': 457,\n",
              " 'morn': 458,\n",
              " 'scorn': 459,\n",
              " 'behind': 460,\n",
              " 'boast': 461,\n",
              " 'bold': 462,\n",
              " 'fears': 463,\n",
              " 'rude': 464,\n",
              " 'even': 465,\n",
              " 'looks': 466,\n",
              " 'sir': 467,\n",
              " 'field': 468,\n",
              " 'warm': 469,\n",
              " 'feet': 470,\n",
              " 'learn': 471,\n",
              " 'hopes': 472,\n",
              " 'child': 473,\n",
              " 'hail': 474,\n",
              " 'humble': 475,\n",
              " 'strong': 476,\n",
              " 'very': 477,\n",
              " 'clear': 478,\n",
              " 'glory': 479,\n",
              " 'length': 480,\n",
              " 'known': 481,\n",
              " 'bids': 482,\n",
              " 'sought': 483,\n",
              " 'roll': 484,\n",
              " 'kings': 485,\n",
              " 'wound': 486,\n",
              " 'scarce': 487,\n",
              " 'tomb': 488,\n",
              " 'keep': 489,\n",
              " 'silent': 490,\n",
              " 'wealth': 491,\n",
              " 'run': 492,\n",
              " 'future': 493,\n",
              " 'stage': 494,\n",
              " 'golden': 495,\n",
              " 'woes': 496,\n",
              " 'tide': 497,\n",
              " 'been': 498,\n",
              " 'less': 499,\n",
              " 'small': 500,\n",
              " 'hung': 501,\n",
              " 'save': 502,\n",
              " 'eternal': 503,\n",
              " 'frame': 504,\n",
              " 'unknown': 505,\n",
              " 'hard': 506,\n",
              " 'work': 507,\n",
              " 'trace': 508,\n",
              " 'breath': 509,\n",
              " 'bard': 510,\n",
              " 'few': 511,\n",
              " 'show': 512,\n",
              " 'worth': 513,\n",
              " 'country': 514,\n",
              " 'makes': 515,\n",
              " 'knight': 516,\n",
              " 'comes': 517,\n",
              " 'weak': 518,\n",
              " 'bade': 519,\n",
              " 'whole': 520,\n",
              " 'goddess': 521,\n",
              " 'easy': 522,\n",
              " 'forms': 523,\n",
              " 'noble': 524,\n",
              " 'born': 525,\n",
              " 'tuneful': 526,\n",
              " 'mark': 527,\n",
              " 'skill': 528,\n",
              " 'sit': 529,\n",
              " 'fill': 530,\n",
              " 'join': 531,\n",
              " 'whether': 532,\n",
              " 'secure': 533,\n",
              " 'late': 534,\n",
              " \"bless'd\": 535,\n",
              " 'honest': 536,\n",
              " 'fields': 537,\n",
              " 'knows': 538,\n",
              " 'present': 539,\n",
              " 'dame': 540,\n",
              " 'perhaps': 541,\n",
              " 'base': 542,\n",
              " 'course': 543,\n",
              " 'mean': 544,\n",
              " 'awful': 545,\n",
              " 'command': 546,\n",
              " 'dull': 547,\n",
              " 'bless': 548,\n",
              " 'folly': 549,\n",
              " 'false': 550,\n",
              " 'lead': 551,\n",
              " 'impart': 552,\n",
              " 'hearts': 553,\n",
              " 'nought': 554,\n",
              " 'seem': 555,\n",
              " 'theme': 556,\n",
              " 'generous': 557,\n",
              " 'guide': 558,\n",
              " 'lyre': 559,\n",
              " 'close': 560,\n",
              " 'share': 561,\n",
              " 'sometimes': 562,\n",
              " 'blow': 563,\n",
              " 'house': 564,\n",
              " 'prize': 565,\n",
              " 'sway': 566,\n",
              " 'drew': 567,\n",
              " 'led': 568,\n",
              " 'smiling': 569,\n",
              " 'dread': 570,\n",
              " 'passions': 571,\n",
              " 'loud': 572,\n",
              " 'hours': 573,\n",
              " 'rome': 574,\n",
              " 'throne': 575,\n",
              " 'set': 576,\n",
              " 'vale': 577,\n",
              " 'cheek': 578,\n",
              " 'lover': 579,\n",
              " 'attend': 580,\n",
              " 'ask': 581,\n",
              " 'immortal': 582,\n",
              " \"i've\": 583,\n",
              " 'claim': 584,\n",
              " 'spirits': 585,\n",
              " 'arise': 586,\n",
              " 'want': 587,\n",
              " 'labour': 588,\n",
              " 'due': 589,\n",
              " 'need': 590,\n",
              " 'use': 591,\n",
              " 'awhile': 592,\n",
              " 'beauteous': 593,\n",
              " 'hair': 594,\n",
              " 'brought': 595,\n",
              " 'stray': 596,\n",
              " 'town': 597,\n",
              " 'grown': 598,\n",
              " 'mankind': 599,\n",
              " 'wings': 600,\n",
              " 'guard': 601,\n",
              " 'try': 602,\n",
              " 'beauties': 603,\n",
              " 'black': 604,\n",
              " 'rocks': 605,\n",
              " 'hide': 606,\n",
              " 'friendship': 607,\n",
              " 'dreams': 608,\n",
              " 'streams': 609,\n",
              " 'pensive': 610,\n",
              " 'silver': 611,\n",
              " 'amid': 612,\n",
              " 'remains': 613,\n",
              " 'beyond': 614,\n",
              " 'wonder': 615,\n",
              " 'spoke': 616,\n",
              " 'dare': 617,\n",
              " 'against': 618,\n",
              " 'faithful': 619,\n",
              " 'himself': 620,\n",
              " 'common': 621,\n",
              " 'hills': 622,\n",
              " 'father': 623,\n",
              " 'firm': 624,\n",
              " 'else': 625,\n",
              " 'shun': 626,\n",
              " 'pass': 627,\n",
              " 'wear': 628,\n",
              " 'nothing': 629,\n",
              " 'boy': 630,\n",
              " 'envy': 631,\n",
              " 'wretched': 632,\n",
              " 'nations': 633,\n",
              " 'glow': 634,\n",
              " 'woods': 635,\n",
              " 'vengeance': 636,\n",
              " 'vows': 637,\n",
              " 'strain': 638,\n",
              " 'eager': 639,\n",
              " 'off': 640,\n",
              " 'themselves': 641,\n",
              " 'wanton': 642,\n",
              " 'bound': 643,\n",
              " 'hate': 644,\n",
              " 'sounds': 645,\n",
              " 'toils': 646,\n",
              " 'laws': 647,\n",
              " 'fine': 648,\n",
              " 'self': 649,\n",
              " 'others': 650,\n",
              " 'bow': 651,\n",
              " 'shew': 652,\n",
              " 'brave': 653,\n",
              " 'waves': 654,\n",
              " 'change': 655,\n",
              " 'chief': 656,\n",
              " 'flight': 657,\n",
              " 'morning': 658,\n",
              " 'idle': 659,\n",
              " 'son': 660,\n",
              " 'often': 661,\n",
              " 'limbs': 662,\n",
              " 'obey': 663,\n",
              " \"'till\": 664,\n",
              " 'forgot': 665,\n",
              " 'gale': 666,\n",
              " 'ill': 667,\n",
              " \"call'd\": 668,\n",
              " 'magic': 669,\n",
              " 'swift': 670,\n",
              " 'sorrow': 671,\n",
              " 'felt': 672,\n",
              " 'lies': 673,\n",
              " 'among': 674,\n",
              " 'grow': 675,\n",
              " 'fool': 676,\n",
              " 'line': 677,\n",
              " \"e'en\": 678,\n",
              " 'home': 679,\n",
              " 'talk': 680,\n",
              " 'hold': 681,\n",
              " 'ages': 682,\n",
              " 'seas': 683,\n",
              " 'main': 684,\n",
              " 'room': 685,\n",
              " 'thing': 686,\n",
              " 'safe': 687,\n",
              " 'began': 688,\n",
              " 'grew': 689,\n",
              " 'isle': 690,\n",
              " 'crown': 691,\n",
              " 'sees': 692,\n",
              " 'ruin': 693,\n",
              " 'wife': 694,\n",
              " 'lord': 695,\n",
              " 'mother': 696,\n",
              " 'flows': 697,\n",
              " 'justice': 698,\n",
              " \"fill'd\": 699,\n",
              " 'page': 700,\n",
              " 'hill': 701,\n",
              " 'sunk': 702,\n",
              " 'roar': 703,\n",
              " 'sword': 704,\n",
              " 'savage': 705,\n",
              " 'powers': 706,\n",
              " 'groves': 707,\n",
              " 'souls': 708,\n",
              " \"seem'd\": 709,\n",
              " 'gone': 710,\n",
              " 'repose': 711,\n",
              " 'end': 712,\n",
              " 'music': 713,\n",
              " 'point': 714,\n",
              " \"join'd\": 715,\n",
              " 'freedom': 716,\n",
              " 'doom': 717,\n",
              " 'glad': 718,\n",
              " 'laugh': 719,\n",
              " 'cries': 720,\n",
              " 'perfect': 721,\n",
              " 'strength': 722,\n",
              " 'longer': 723,\n",
              " 'task': 724,\n",
              " 'amidst': 725,\n",
              " 'throng': 726,\n",
              " 'note': 727,\n",
              " 'prey': 728,\n",
              " 'sage': 729,\n",
              " 'flood': 730,\n",
              " \"'em\": 731,\n",
              " 'lines': 732,\n",
              " 'royal': 733,\n",
              " 'sighs': 734,\n",
              " 'gloom': 735,\n",
              " 'return': 736,\n",
              " 'conscious': 737,\n",
              " 'arm': 738,\n",
              " 'inspire': 739,\n",
              " 'wisdom': 740,\n",
              " 'lives': 741,\n",
              " 'melt': 742,\n",
              " 'rock': 743,\n",
              " 'clouds': 744,\n",
              " 'thunder': 745,\n",
              " 'hell': 746,\n",
              " 'virtues': 747,\n",
              " 'am': 748,\n",
              " 'stay': 749,\n",
              " 'appears': 750,\n",
              " \"rais'd\": 751,\n",
              " 'blooming': 752,\n",
              " 'quit': 753,\n",
              " 'rule': 754,\n",
              " 'reach': 755,\n",
              " 'serene': 756,\n",
              " 'waste': 757,\n",
              " 'poets': 758,\n",
              " 'times': 759,\n",
              " 'anxious': 760,\n",
              " 'gloomy': 761,\n",
              " 'seek': 762,\n",
              " 'yield': 763,\n",
              " 'touch': 764,\n",
              " 'danger': 765,\n",
              " 'leaves': 766,\n",
              " 'summer': 767,\n",
              " 'wait': 768,\n",
              " 'write': 769,\n",
              " 'heroes': 770,\n",
              " 'british': 771,\n",
              " 'another': 772,\n",
              " 'ancient': 773,\n",
              " 'sudden': 774,\n",
              " 'horror': 775,\n",
              " 'infant': 776,\n",
              " 'shrine': 777,\n",
              " \"form'd\": 778,\n",
              " 'zeal': 779,\n",
              " 'fierce': 780,\n",
              " 'methinks': 781,\n",
              " 'swell': 782,\n",
              " \"inspir'd\": 783,\n",
              " 'science': 784,\n",
              " 'blaze': 785,\n",
              " 'holy': 786,\n",
              " 'loves': 787,\n",
              " 'slaves': 788,\n",
              " 'lo': 789,\n",
              " 'vast': 790,\n",
              " 'cruel': 791,\n",
              " 'walls': 792,\n",
              " 'dust': 793,\n",
              " \"pass'd\": 794,\n",
              " 'burn': 795,\n",
              " 'sorrows': 796,\n",
              " 'retreat': 797,\n",
              " 'met': 798,\n",
              " 'tread': 799,\n",
              " 'mournful': 800,\n",
              " 'sport': 801,\n",
              " 'rules': 802,\n",
              " 'chance': 803,\n",
              " 'ran': 804,\n",
              " 'public': 805,\n",
              " 'plan': 806,\n",
              " 'dress': 807,\n",
              " 'search': 808,\n",
              " 'birth': 809,\n",
              " 'laid': 810,\n",
              " 'graces': 811,\n",
              " 'fresh': 812,\n",
              " 'swain': 813,\n",
              " 'breeze': 814,\n",
              " 'gifts': 815,\n",
              " 'content': 816,\n",
              " 'dire': 817,\n",
              " 'cheeks': 818,\n",
              " 'english': 819,\n",
              " 'sea': 820,\n",
              " 'shepherd': 821,\n",
              " 'prince': 822,\n",
              " 'rural': 823,\n",
              " 'wood': 824,\n",
              " 'store': 825,\n",
              " 'enjoy': 826,\n",
              " 'spite': 827,\n",
              " 'faith': 828,\n",
              " 'bend': 829,\n",
              " 'weep': 830,\n",
              " 'radiant': 831,\n",
              " 'open': 832,\n",
              " 'empire': 833,\n",
              " 'fast': 834,\n",
              " 'pleasures': 835,\n",
              " \"i'm\": 836,\n",
              " 'dream': 837,\n",
              " 'cast': 838,\n",
              " 'virgin': 839,\n",
              " 'strains': 840,\n",
              " 'lays': 841,\n",
              " 'storms': 842,\n",
              " 'swelling': 843,\n",
              " 'happiness': 844,\n",
              " 'curious': 845,\n",
              " 'paint': 846,\n",
              " 'vile': 847,\n",
              " 'disdain': 848,\n",
              " 'hapless': 849,\n",
              " 'hue': 850,\n",
              " \"play'd\": 851,\n",
              " 'rays': 852,\n",
              " 'crew': 853,\n",
              " 'painted': 854,\n",
              " 'blush': 855,\n",
              " \"life's\": 856,\n",
              " 'trade': 857,\n",
              " 'ways': 858,\n",
              " 'broke': 859,\n",
              " 'trees': 860,\n",
              " 'told': 861,\n",
              " 'fight': 862,\n",
              " 'foul': 863,\n",
              " 'sin': 864,\n",
              " 'labours': 865,\n",
              " 'took': 866,\n",
              " 'liberty': 867,\n",
              " 'pay': 868,\n",
              " 'influence': 869,\n",
              " 'ne': 870,\n",
              " 'guilty': 871,\n",
              " 'anguish': 872,\n",
              " 'muses': 873,\n",
              " 'desire': 874,\n",
              " 'pen': 875,\n",
              " 'pomp': 876,\n",
              " 'rather': 877,\n",
              " 'breathe': 878,\n",
              " 'busy': 879,\n",
              " 'quite': 880,\n",
              " 'mourn': 881,\n",
              " 'pains': 882,\n",
              " 'graceful': 883,\n",
              " 'storm': 884,\n",
              " 'bower': 885,\n",
              " 'lofty': 886,\n",
              " 'realms': 887,\n",
              " 'notes': 888,\n",
              " 'monarch': 889,\n",
              " 'dwell': 890,\n",
              " 'mild': 891,\n",
              " 'peaceful': 892,\n",
              " 'judgment': 893,\n",
              " 'after': 894,\n",
              " 'solemn': 895,\n",
              " 'mien': 896,\n",
              " 'poet': 897,\n",
              " 'manners': 898,\n",
              " 'enough': 899,\n",
              " 'almost': 900,\n",
              " \"virtue's\": 901,\n",
              " 'heat': 902,\n",
              " 'bears': 903,\n",
              " 'balmy': 904,\n",
              " 'refuse': 905,\n",
              " \"that's\": 906,\n",
              " 'fairest': 907,\n",
              " 'sprightly': 908,\n",
              " 'sire': 909,\n",
              " 'social': 910,\n",
              " 'courts': 911,\n",
              " 'falls': 912,\n",
              " \"try'd\": 913,\n",
              " 'fury': 914,\n",
              " 'midnight': 915,\n",
              " 'controul': 916,\n",
              " 'springs': 917,\n",
              " 'canst': 918,\n",
              " 'lips': 919,\n",
              " 'ocean': 920,\n",
              " 'act': 921,\n",
              " 'adieu': 922,\n",
              " 'dart': 923,\n",
              " 'flew': 924,\n",
              " 'flower': 925,\n",
              " 'softer': 926,\n",
              " 'faint': 927,\n",
              " 'kindly': 928,\n",
              " 'nobler': 929,\n",
              " 'drop': 930,\n",
              " 'eat': 931,\n",
              " \"appear'd\": 932,\n",
              " 'plains': 933,\n",
              " 'deeds': 934,\n",
              " 'superior': 935,\n",
              " 'aim': 936,\n",
              " 'mutual': 937,\n",
              " 'subject': 938,\n",
              " 'hero': 939,\n",
              " 'break': 940,\n",
              " 'disgrace': 941,\n",
              " 'seat': 942,\n",
              " 'children': 943,\n",
              " 'law': 944,\n",
              " 'gently': 945,\n",
              " 'beat': 946,\n",
              " 'early': 947,\n",
              " 'dew': 948,\n",
              " 'proclaim': 949,\n",
              " 'fail': 950,\n",
              " 'constant': 951,\n",
              " 'cloud': 952,\n",
              " 'alike': 953,\n",
              " 'frown': 954,\n",
              " 'spare': 955,\n",
              " 'blast': 956,\n",
              " 'sung': 957,\n",
              " 'master': 958,\n",
              " 'cry': 959,\n",
              " 'short': 960,\n",
              " \"ev'n\": 961,\n",
              " 'begin': 962,\n",
              " 'fools': 963,\n",
              " \"you'll\": 964,\n",
              " 'daughter': 965,\n",
              " 'decay': 966,\n",
              " 'silence': 967,\n",
              " \"crown'd\": 968,\n",
              " 'star': 969,\n",
              " 'band': 970,\n",
              " 'display': 971,\n",
              " 'host': 972,\n",
              " 'approaching': 973,\n",
              " \"learn'd\": 974,\n",
              " \"cry'd\": 975,\n",
              " 'ten': 976,\n",
              " 'start': 977,\n",
              " 'strange': 978,\n",
              " 'abode': 979,\n",
              " 'itself': 980,\n",
              " 'curse': 981,\n",
              " \"display'd\": 982,\n",
              " 'merit': 983,\n",
              " \"stretch'd\": 984,\n",
              " 'forget': 985,\n",
              " 'won': 986,\n",
              " 'resign': 987,\n",
              " 'shed': 988,\n",
              " 'sweets': 989,\n",
              " 'bore': 990,\n",
              " 'slave': 991,\n",
              " 'rapture': 992,\n",
              " 'destroy': 993,\n",
              " 'calls': 994,\n",
              " 'prevail': 995,\n",
              " 'roses': 996,\n",
              " 'quick': 997,\n",
              " 'adorn': 998,\n",
              " 'genial': 999,\n",
              " 'active': 1000,\n",
              " ...}"
            ]
          },
          "metadata": {},
          "execution_count": 21
        }
      ]
    },
    {
      "cell_type": "code",
      "source": [
        "# vocabulary count of the corpus\n",
        "number_of_words = len(tokenizer.word_index)\n",
        " \n",
        "print(f\"number of words:\\n {number_of_words}\")"
      ],
      "metadata": {
        "id": "zNMUJXHEQTKd",
        "colab": {
          "base_uri": "https://localhost:8080/"
        },
        "outputId": "9ac32cf5-5a73-4b2f-d323-2d6bae63098e"
      },
      "execution_count": 22,
      "outputs": [
        {
          "output_type": "stream",
          "name": "stdout",
          "text": [
            "number of words:\n",
            " 13453\n"
          ]
        }
      ]
    },
    {
      "cell_type": "markdown",
      "source": [
        "# Preparing Data"
      ],
      "metadata": {
        "id": "oTDQnfkHRySb"
      }
    },
    {
      "cell_type": "markdown",
      "source": [
        "> encode the tokenized words, convert text data to numerical tokens."
      ],
      "metadata": {
        "id": "l67VxLrlNi9M"
      }
    },
    {
      "cell_type": "code",
      "source": [
        "#encode the tokenized words, convert text data to numerical tokens\n",
        "encoded_text = tokenizer.texts_to_sequences(corpus)\n",
        "\n",
        "#add 1 to the size for the out of vocabulary token.\n",
        "vocab_size = len(tokenizer.word_counts) + 1"
      ],
      "metadata": {
        "id": "RfI9VNePRYSc"
      },
      "execution_count": 23,
      "outputs": []
    },
    {
      "cell_type": "code",
      "source": [
        "encoded_text[0: 4]       "
      ],
      "metadata": {
        "colab": {
          "base_uri": "https://localhost:8080/"
        },
        "id": "HOPCWsh1N6Yl",
        "outputId": "70437fc0-c1c1-49f1-ca44-329ebd73bb8c"
      },
      "execution_count": 24,
      "outputs": [
        {
          "output_type": "execute_result",
          "data": {
            "text/plain": [
              "[[164, 128, 35, 3727, 977, 35, 774, 227],\n",
              " [10, 600, 11, 1769, 2, 3728, 14, 1042, 3, 1042],\n",
              " [34, 544, 2255, 4, 346, 915, 1770],\n",
              " [75, 6861, 1574, 6862, 52, 11, 1771]]"
            ]
          },
          "metadata": {},
          "execution_count": 24
        }
      ]
    },
    {
      "cell_type": "markdown",
      "source": [
        "> g:enerate embedding for every sentence in the corpus.\n"
      ],
      "metadata": {
        "id": "4yAK3Jv8TIPQ"
      }
    },
    {
      "cell_type": "code",
      "source": [
        "data_list = []\n",
        "\n",
        "for encoded_verse in encoded_text:\n",
        "    if len(encoded_verse) > 1:       \n",
        "        for i in range(1, len(encoded_verse)):\n",
        "            data_list.append(encoded_verse[: i + 1]) "
      ],
      "metadata": {
        "id": "3bonTvODRtoA"
      },
      "execution_count": 25,
      "outputs": []
    },
    {
      "cell_type": "code",
      "source": [
        "data_list[0: 5]"
      ],
      "metadata": {
        "colab": {
          "base_uri": "https://localhost:8080/"
        },
        "id": "vLJw7EsYTWqe",
        "outputId": "5fba8b85-aac3-4acc-e5b3-8898ed9ad371"
      },
      "execution_count": 26,
      "outputs": [
        {
          "output_type": "execute_result",
          "data": {
            "text/plain": [
              "[[164, 128],\n",
              " [164, 128, 35],\n",
              " [164, 128, 35, 3727],\n",
              " [164, 128, 35, 3727, 977],\n",
              " [164, 128, 35, 3727, 977, 35]]"
            ]
          },
          "metadata": {},
          "execution_count": 26
        }
      ]
    },
    {
      "cell_type": "markdown",
      "source": [
        "# Padding"
      ],
      "metadata": {
        "id": "FO6IK0XcR6bJ"
      }
    },
    {
      "cell_type": "code",
      "source": [
        "# !pip install tensorflow"
      ],
      "metadata": {
        "id": "cEVOLh37eq0X"
      },
      "execution_count": 27,
      "outputs": []
    },
    {
      "cell_type": "markdown",
      "source": [
        "> pad all embeddings to the maximum embedded length, by filling zeros. So all embeddings have the same length."
      ],
      "metadata": {
        "id": "tL4Ng9lITSA4"
      }
    },
    {
      "cell_type": "code",
      "source": [
        "#Padding will make sure all data points have the same length because verses don't have the same length.\n",
        "sequences = pad_sequences(\n",
        "    data_list, \n",
        "    maxlen = max(verse_length), \n",
        "    padding='pre'\n",
        "    )\n",
        "\n",
        "X = sequences[:, :-1]\n",
        "\n",
        "#Labels\n",
        "y = sequences[:, -1] "
      ],
      "metadata": {
        "id": "dmGI_bjGRxIk"
      },
      "execution_count": 28,
      "outputs": []
    },
    {
      "cell_type": "code",
      "source": [
        "X[0: 4]"
      ],
      "metadata": {
        "colab": {
          "base_uri": "https://localhost:8080/"
        },
        "id": "mYda1HbpiYUH",
        "outputId": "387aec42-a724-4ed1-da03-c89b4aee0906"
      },
      "execution_count": 30,
      "outputs": [
        {
          "output_type": "execute_result",
          "data": {
            "text/plain": [
              "array([[   0,    0,    0,    0,    0,    0,    0,    0,    0,    0,    0,\n",
              "           0,  164],\n",
              "       [   0,    0,    0,    0,    0,    0,    0,    0,    0,    0,    0,\n",
              "         164,  128],\n",
              "       [   0,    0,    0,    0,    0,    0,    0,    0,    0,    0,  164,\n",
              "         128,   35],\n",
              "       [   0,    0,    0,    0,    0,    0,    0,    0,    0,  164,  128,\n",
              "          35, 3727]], dtype=int32)"
            ]
          },
          "metadata": {},
          "execution_count": 30
        }
      ]
    },
    {
      "cell_type": "code",
      "source": [
        "y[0: 4]"
      ],
      "metadata": {
        "colab": {
          "base_uri": "https://localhost:8080/"
        },
        "id": "XoGmDcEAiYJU",
        "outputId": "2987b9b5-71dd-4ebb-d390-fc96bc60f959"
      },
      "execution_count": 31,
      "outputs": [
        {
          "output_type": "execute_result",
          "data": {
            "text/plain": [
              "array([ 128,   35, 3727,  977], dtype=int32)"
            ]
          },
          "metadata": {},
          "execution_count": 31
        }
      ]
    },
    {
      "cell_type": "code",
      "source": [
        "#convert label values to one hot encoded list\n",
        "y = to_categorical(\n",
        "    y,\n",
        "    num_classes = vocab_size\n",
        "    )\n",
        "\n",
        "y[0: 4]"
      ],
      "metadata": {
        "colab": {
          "base_uri": "https://localhost:8080/"
        },
        "id": "YTFd9qmriXyT",
        "outputId": "a86ff66f-5826-4c03-f617-0b49e5c5277d"
      },
      "execution_count": 32,
      "outputs": [
        {
          "output_type": "execute_result",
          "data": {
            "text/plain": [
              "array([[0., 0., 0., ..., 0., 0., 0.],\n",
              "       [0., 0., 0., ..., 0., 0., 0.],\n",
              "       [0., 0., 0., ..., 0., 0., 0.],\n",
              "       [0., 0., 0., ..., 0., 0., 0.]], dtype=float32)"
            ]
          },
          "metadata": {},
          "execution_count": 32
        }
      ]
    },
    {
      "cell_type": "code",
      "source": [
        "seq_length = X.shape[1]"
      ],
      "metadata": {
        "id": "FWD1BUorXFhr"
      },
      "execution_count": 33,
      "outputs": []
    },
    {
      "cell_type": "markdown",
      "source": [
        "## Bi-directional LSTM Model Training"
      ],
      "metadata": {
        "id": "uyhb3pg3jVr2"
      }
    },
    {
      "cell_type": "code",
      "source": [
        "# create a Sequential model\n",
        "model = Sequential()\n",
        "\n",
        "# Add an Embedding layer\n",
        "model.add(Embedding(\n",
        "    vocab_size, #input dim\n",
        "    100, #output dim   \n",
        "    input_length = seq_length\n",
        "    )\n",
        ")\n",
        "\n",
        "model.add(Bidirectional(\n",
        "    LSTM(150, #number of hidden units\n",
        "         return_sequences=True #return the full sequence to the output\n",
        "         )\n",
        "    )\n",
        ")\n",
        "\n",
        "model.add(Bidirectional(LSTM(150, return_sequences=True)))\n",
        "\n",
        "# add a Dropout layer for regularization to prevent overfitting\n",
        "model.add(Dropout(0.2))\n",
        " \n",
        "model.add(LSTM(100, return_sequences=True))\n",
        " \n",
        "model.add(LSTM(100))\n",
        " \n",
        "model.add(Dense(vocab_size, activation='relu'))\n",
        "\n",
        "# add the output layer with vocab_size units and softmax activation, to get probability for each word.\n",
        "model.add(Dense(vocab_size, activation='softmax'))\n",
        "\n",
        "model.compile(\n",
        "    loss='categorical_crossentropy', \n",
        "    optimizer='adam', \n",
        "    metrics=['accuracy']\n",
        "    )\n"
      ],
      "metadata": {
        "id": "tfJwnUEFSJWH"
      },
      "execution_count": 34,
      "outputs": []
    },
    {
      "cell_type": "code",
      "source": [
        "print(model.summary())"
      ],
      "metadata": {
        "colab": {
          "base_uri": "https://localhost:8080/"
        },
        "id": "T6ghrNYnSJSr",
        "outputId": "563edb95-c257-4f03-a44d-52ce09f78b8f"
      },
      "execution_count": 35,
      "outputs": [
        {
          "output_type": "stream",
          "name": "stdout",
          "text": [
            "Model: \"sequential\"\n",
            "_________________________________________________________________\n",
            " Layer (type)                Output Shape              Param #   \n",
            "=================================================================\n",
            " embedding (Embedding)       (None, 13, 100)           1345400   \n",
            "                                                                 \n",
            " bidirectional (Bidirectiona  (None, 13, 300)          301200    \n",
            " l)                                                              \n",
            "                                                                 \n",
            " bidirectional_1 (Bidirectio  (None, 13, 300)          541200    \n",
            " nal)                                                            \n",
            "                                                                 \n",
            " dropout (Dropout)           (None, 13, 300)           0         \n",
            "                                                                 \n",
            " lstm_2 (LSTM)               (None, 13, 100)           160400    \n",
            "                                                                 \n",
            " lstm_3 (LSTM)               (None, 100)               80400     \n",
            "                                                                 \n",
            " dense (Dense)               (None, 13454)             1358854   \n",
            "                                                                 \n",
            " dense_1 (Dense)             (None, 13454)             181023570 \n",
            "                                                                 \n",
            "=================================================================\n",
            "Total params: 184,811,024\n",
            "Trainable params: 184,811,024\n",
            "Non-trainable params: 0\n",
            "_________________________________________________________________\n",
            "None\n"
          ]
        }
      ]
    },
    {
      "cell_type": "code",
      "source": [
        "# model.fit(\n",
        "#     X, \n",
        "#     y, \n",
        "#     batch_size=256, \n",
        "#     epochs=100\n",
        "#     )"
      ],
      "metadata": {
        "colab": {
          "base_uri": "https://localhost:8080/"
        },
        "id": "jYvKuXbXSJQI",
        "outputId": "226d1b5c-1639-4935-ee79-f83976fa9543"
      },
      "execution_count": null,
      "outputs": [
        {
          "output_type": "stream",
          "name": "stdout",
          "text": [
            "Epoch 1/100\n",
            "297/297 [==============================] - 56s 149ms/step - loss: 7.3220 - accuracy: 0.0631\n",
            "Epoch 2/100\n",
            "297/297 [==============================] - 34s 116ms/step - loss: 6.8811 - accuracy: 0.0735\n",
            "Epoch 3/100\n",
            "297/297 [==============================] - 34s 116ms/step - loss: 6.6353 - accuracy: 0.0815\n",
            "Epoch 4/100\n",
            "297/297 [==============================] - 35s 118ms/step - loss: 6.3867 - accuracy: 0.0902\n",
            "Epoch 5/100\n",
            "297/297 [==============================] - 34s 113ms/step - loss: 6.1666 - accuracy: 0.0956\n",
            "Epoch 6/100\n",
            "297/297 [==============================] - 34s 114ms/step - loss: 5.9818 - accuracy: 0.1009\n",
            "Epoch 7/100\n",
            "297/297 [==============================] - 33s 112ms/step - loss: 5.8122 - accuracy: 0.1052\n",
            "Epoch 8/100\n",
            "297/297 [==============================] - 34s 114ms/step - loss: 5.6393 - accuracy: 0.1108\n",
            "Epoch 9/100\n",
            "297/297 [==============================] - 33s 112ms/step - loss: 5.4647 - accuracy: 0.1164\n",
            "Epoch 10/100\n",
            "297/297 [==============================] - 34s 116ms/step - loss: 5.2757 - accuracy: 0.1238\n",
            "Epoch 11/100\n",
            "297/297 [==============================] - 33s 113ms/step - loss: 5.0728 - accuracy: 0.1307\n",
            "Epoch 12/100\n",
            "297/297 [==============================] - 33s 113ms/step - loss: 4.8633 - accuracy: 0.1410\n",
            "Epoch 13/100\n",
            "297/297 [==============================] - 34s 113ms/step - loss: 4.6495 - accuracy: 0.1516\n",
            "Epoch 14/100\n",
            "297/297 [==============================] - 33s 112ms/step - loss: 4.4397 - accuracy: 0.1641\n",
            "Epoch 15/100\n",
            "297/297 [==============================] - 34s 113ms/step - loss: 4.2286 - accuracy: 0.1800\n",
            "Epoch 16/100\n",
            "297/297 [==============================] - 33s 111ms/step - loss: 4.0240 - accuracy: 0.1998\n",
            "Epoch 17/100\n",
            "297/297 [==============================] - 33s 113ms/step - loss: 3.8260 - accuracy: 0.2234\n",
            "Epoch 18/100\n",
            "297/297 [==============================] - 34s 113ms/step - loss: 3.6404 - accuracy: 0.2461\n",
            "Epoch 19/100\n",
            "297/297 [==============================] - 33s 113ms/step - loss: 3.4598 - accuracy: 0.2714\n",
            "Epoch 20/100\n",
            "297/297 [==============================] - 33s 112ms/step - loss: 3.2878 - accuracy: 0.2986\n",
            "Epoch 21/100\n",
            "297/297 [==============================] - 34s 114ms/step - loss: 3.1245 - accuracy: 0.3241\n",
            "Epoch 22/100\n",
            "297/297 [==============================] - 33s 112ms/step - loss: 2.9735 - accuracy: 0.3497\n",
            "Epoch 23/100\n",
            "297/297 [==============================] - 34s 113ms/step - loss: 2.8320 - accuracy: 0.3730\n",
            "Epoch 24/100\n",
            "297/297 [==============================] - 33s 112ms/step - loss: 2.6972 - accuracy: 0.3987\n",
            "Epoch 25/100\n",
            "297/297 [==============================] - 34s 113ms/step - loss: 2.5675 - accuracy: 0.4235\n",
            "Epoch 26/100\n",
            "297/297 [==============================] - 33s 113ms/step - loss: 2.4579 - accuracy: 0.4449\n",
            "Epoch 27/100\n",
            "297/297 [==============================] - 33s 113ms/step - loss: 2.3515 - accuracy: 0.4665\n",
            "Epoch 28/100\n",
            "297/297 [==============================] - 33s 111ms/step - loss: 2.2503 - accuracy: 0.4864\n",
            "Epoch 29/100\n",
            "297/297 [==============================] - 33s 113ms/step - loss: 2.1687 - accuracy: 0.5026\n",
            "Epoch 30/100\n",
            "297/297 [==============================] - 33s 112ms/step - loss: 2.0762 - accuracy: 0.5235\n",
            "Epoch 31/100\n",
            "297/297 [==============================] - 33s 112ms/step - loss: 2.0018 - accuracy: 0.5397\n",
            "Epoch 32/100\n",
            "297/297 [==============================] - 33s 112ms/step - loss: 1.9356 - accuracy: 0.5531\n",
            "Epoch 33/100\n",
            "297/297 [==============================] - 33s 112ms/step - loss: 1.8598 - accuracy: 0.5718\n",
            "Epoch 34/100\n",
            "297/297 [==============================] - 33s 112ms/step - loss: 1.8113 - accuracy: 0.5808\n",
            "Epoch 35/100\n",
            "297/297 [==============================] - 33s 112ms/step - loss: 1.7543 - accuracy: 0.5931\n",
            "Epoch 36/100\n",
            "297/297 [==============================] - 33s 112ms/step - loss: 1.6954 - accuracy: 0.6075\n",
            "Epoch 37/100\n",
            "297/297 [==============================] - 33s 112ms/step - loss: 1.6481 - accuracy: 0.6192\n",
            "Epoch 38/100\n",
            "297/297 [==============================] - 33s 112ms/step - loss: 1.6017 - accuracy: 0.6301\n",
            "Epoch 39/100\n",
            "297/297 [==============================] - 33s 112ms/step - loss: 1.5602 - accuracy: 0.6386\n",
            "Epoch 40/100\n",
            "297/297 [==============================] - 33s 112ms/step - loss: 1.5312 - accuracy: 0.6448\n",
            "Epoch 41/100\n",
            "297/297 [==============================] - 33s 112ms/step - loss: 1.4912 - accuracy: 0.6545\n",
            "Epoch 42/100\n",
            "297/297 [==============================] - 34s 113ms/step - loss: 1.4453 - accuracy: 0.6663\n",
            "Epoch 43/100\n",
            "297/297 [==============================] - 33s 113ms/step - loss: 1.4193 - accuracy: 0.6723\n",
            "Epoch 44/100\n",
            "297/297 [==============================] - 34s 113ms/step - loss: 1.3916 - accuracy: 0.6790\n",
            "Epoch 45/100\n",
            "297/297 [==============================] - 34s 113ms/step - loss: 1.3689 - accuracy: 0.6843\n",
            "Epoch 46/100\n",
            "297/297 [==============================] - 33s 112ms/step - loss: 1.3569 - accuracy: 0.6869\n",
            "Epoch 47/100\n",
            "297/297 [==============================] - 33s 113ms/step - loss: 1.3352 - accuracy: 0.6925\n",
            "Epoch 48/100\n",
            "297/297 [==============================] - 33s 112ms/step - loss: 1.3066 - accuracy: 0.6987\n",
            "Epoch 49/100\n",
            "297/297 [==============================] - 34s 113ms/step - loss: 1.2788 - accuracy: 0.7056\n",
            "Epoch 50/100\n",
            "297/297 [==============================] - 33s 112ms/step - loss: 1.2491 - accuracy: 0.7137\n",
            "Epoch 51/100\n",
            "297/297 [==============================] - 34s 113ms/step - loss: 1.2316 - accuracy: 0.7187\n",
            "Epoch 52/100\n",
            "297/297 [==============================] - 33s 112ms/step - loss: 1.2261 - accuracy: 0.7203\n",
            "Epoch 53/100\n",
            "297/297 [==============================] - 33s 112ms/step - loss: 1.2183 - accuracy: 0.7204\n",
            "Epoch 54/100\n",
            "297/297 [==============================] - 33s 112ms/step - loss: 1.1984 - accuracy: 0.7252\n",
            "Epoch 55/100\n",
            "297/297 [==============================] - 34s 113ms/step - loss: 1.1783 - accuracy: 0.7304\n",
            "Epoch 56/100\n",
            "297/297 [==============================] - 33s 112ms/step - loss: 1.1668 - accuracy: 0.7327\n",
            "Epoch 57/100\n",
            "297/297 [==============================] - 34s 113ms/step - loss: 1.1607 - accuracy: 0.7347\n",
            "Epoch 58/100\n",
            "297/297 [==============================] - 33s 112ms/step - loss: 1.1615 - accuracy: 0.7320\n",
            "Epoch 59/100\n",
            "297/297 [==============================] - 33s 112ms/step - loss: 1.1440 - accuracy: 0.7372\n",
            "Epoch 60/100\n",
            "297/297 [==============================] - 34s 113ms/step - loss: 1.1197 - accuracy: 0.7440\n",
            "Epoch 61/100\n",
            "297/297 [==============================] - 33s 112ms/step - loss: 1.1159 - accuracy: 0.7448\n",
            "Epoch 62/100\n",
            "297/297 [==============================] - 33s 112ms/step - loss: 1.1162 - accuracy: 0.7443\n",
            "Epoch 63/100\n",
            "297/297 [==============================] - 33s 112ms/step - loss: 1.1078 - accuracy: 0.7462\n",
            "Epoch 64/100\n",
            "297/297 [==============================] - 33s 112ms/step - loss: 1.0965 - accuracy: 0.7483\n",
            "Epoch 65/100\n",
            "297/297 [==============================] - 33s 112ms/step - loss: 1.0883 - accuracy: 0.7500\n",
            "Epoch 66/100\n",
            "297/297 [==============================] - 33s 112ms/step - loss: 1.0740 - accuracy: 0.7543\n",
            "Epoch 67/100\n",
            "297/297 [==============================] - 33s 112ms/step - loss: 1.0754 - accuracy: 0.7536\n",
            "Epoch 68/100\n",
            "297/297 [==============================] - 33s 113ms/step - loss: 1.0696 - accuracy: 0.7550\n",
            "Epoch 69/100\n",
            "297/297 [==============================] - 33s 112ms/step - loss: 1.0721 - accuracy: 0.7541\n",
            "Epoch 70/100\n",
            "297/297 [==============================] - 34s 113ms/step - loss: 1.0748 - accuracy: 0.7516\n",
            "Epoch 71/100\n",
            "297/297 [==============================] - 33s 112ms/step - loss: 1.0617 - accuracy: 0.7554\n",
            "Epoch 72/100\n",
            "297/297 [==============================] - 34s 113ms/step - loss: 1.0431 - accuracy: 0.7596\n",
            "Epoch 73/100\n",
            "297/297 [==============================] - 33s 112ms/step - loss: 1.0342 - accuracy: 0.7626\n",
            "Epoch 74/100\n",
            "297/297 [==============================] - 33s 112ms/step - loss: 1.0339 - accuracy: 0.7631\n",
            "Epoch 75/100\n",
            "297/297 [==============================] - 33s 112ms/step - loss: 1.0372 - accuracy: 0.7602\n",
            "Epoch 76/100\n",
            "297/297 [==============================] - 33s 113ms/step - loss: 1.0259 - accuracy: 0.7639\n",
            "Epoch 77/100\n",
            "297/297 [==============================] - 33s 112ms/step - loss: 1.0254 - accuracy: 0.7629\n",
            "Epoch 78/100\n",
            "297/297 [==============================] - 33s 112ms/step - loss: 1.0284 - accuracy: 0.7625\n",
            "Epoch 79/100\n",
            "297/297 [==============================] - 33s 112ms/step - loss: 1.0214 - accuracy: 0.7633\n",
            "Epoch 80/100\n",
            "297/297 [==============================] - 33s 112ms/step - loss: 1.0245 - accuracy: 0.7624\n",
            "Epoch 81/100\n",
            "297/297 [==============================] - 33s 113ms/step - loss: 1.0204 - accuracy: 0.7621\n",
            "Epoch 82/100\n",
            "297/297 [==============================] - 33s 112ms/step - loss: 1.0117 - accuracy: 0.7652\n",
            "Epoch 83/100\n",
            "297/297 [==============================] - 33s 112ms/step - loss: 1.0039 - accuracy: 0.7671\n",
            "Epoch 84/100\n",
            "297/297 [==============================] - 33s 112ms/step - loss: 1.0003 - accuracy: 0.7667\n",
            "Epoch 85/100\n",
            "297/297 [==============================] - 33s 112ms/step - loss: 0.9994 - accuracy: 0.7678\n",
            "Epoch 86/100\n",
            "297/297 [==============================] - 33s 111ms/step - loss: 0.9934 - accuracy: 0.7687\n",
            "Epoch 87/100\n",
            "297/297 [==============================] - 33s 112ms/step - loss: 0.9964 - accuracy: 0.7679\n",
            "Epoch 88/100\n",
            "297/297 [==============================] - 33s 112ms/step - loss: 0.9951 - accuracy: 0.7680\n",
            "Epoch 89/100\n",
            "297/297 [==============================] - 33s 112ms/step - loss: 0.9925 - accuracy: 0.7678\n",
            "Epoch 90/100\n",
            "297/297 [==============================] - 33s 112ms/step - loss: 0.9918 - accuracy: 0.7679\n",
            "Epoch 91/100\n",
            "297/297 [==============================] - 33s 111ms/step - loss: 0.9860 - accuracy: 0.7698\n",
            "Epoch 92/100\n",
            "297/297 [==============================] - 33s 112ms/step - loss: 0.9849 - accuracy: 0.7706\n",
            "Epoch 93/100\n",
            "297/297 [==============================] - 33s 112ms/step - loss: 0.9912 - accuracy: 0.7675\n",
            "Epoch 94/100\n",
            "297/297 [==============================] - 33s 112ms/step - loss: 0.9914 - accuracy: 0.7672\n",
            "Epoch 95/100\n",
            "297/297 [==============================] - 33s 111ms/step - loss: 0.9867 - accuracy: 0.7684\n",
            "Epoch 96/100\n",
            "297/297 [==============================] - 33s 112ms/step - loss: 0.9765 - accuracy: 0.7712\n",
            "Epoch 97/100\n",
            "297/297 [==============================] - 33s 111ms/step - loss: 0.9729 - accuracy: 0.7713\n",
            "Epoch 98/100\n",
            "297/297 [==============================] - 33s 112ms/step - loss: 0.9683 - accuracy: 0.7724\n",
            "Epoch 99/100\n",
            "297/297 [==============================] - 33s 112ms/step - loss: 0.9688 - accuracy: 0.7730\n",
            "Epoch 100/100\n",
            "297/297 [==============================] - 33s 111ms/step - loss: 0.9710 - accuracy: 0.7719\n"
          ]
        },
        {
          "output_type": "execute_result",
          "data": {
            "text/plain": [
              "<keras.callbacks.History at 0x7f121fede4d0>"
            ]
          },
          "metadata": {},
          "execution_count": 54
        }
      ]
    },
    {
      "cell_type": "markdown",
      "source": [
        "### Save the Model"
      ],
      "metadata": {
        "id": "PktpTMw8nUUg"
      }
    },
    {
      "cell_type": "code",
      "source": [
        "model.save('./double_di')"
      ],
      "metadata": {
        "colab": {
          "base_uri": "https://localhost:8080/"
        },
        "id": "FA7TkkQ-SJNg",
        "outputId": "d4eebd24-c906-475f-f2f8-f8ab4c70cb80"
      },
      "execution_count": null,
      "outputs": [
        {
          "output_type": "stream",
          "name": "stderr",
          "text": [
            "WARNING:absl:Found untraced functions such as lstm_cell_36_layer_call_fn, lstm_cell_36_layer_call_and_return_conditional_losses, lstm_cell_37_layer_call_fn, lstm_cell_37_layer_call_and_return_conditional_losses, lstm_cell_31_layer_call_fn while saving (showing 5 of 12). These functions will not be directly callable after loading.\n"
          ]
        }
      ]
    },
    {
      "cell_type": "code",
      "source": [
        "# Compress model folder into a zip file\n",
        "shutil.make_archive(\"/content/double_di\", \"zip\", \"/content/double_di\")\n",
        "\n",
        "# Download model compressed file\n",
        "files.download(\"/content/double_di.zip\")"
      ],
      "metadata": {
        "colab": {
          "base_uri": "https://localhost:8080/",
          "height": 34
        },
        "id": "YXpT0KZfSI-h",
        "outputId": "3f9d490b-9a33-404b-ca89-215ce3b21665"
      },
      "execution_count": null,
      "outputs": [
        {
          "output_type": "display_data",
          "data": {
            "text/plain": [
              "<IPython.core.display.Javascript object>"
            ],
            "application/javascript": [
              "\n",
              "    async function download(id, filename, size) {\n",
              "      if (!google.colab.kernel.accessAllowed) {\n",
              "        return;\n",
              "      }\n",
              "      const div = document.createElement('div');\n",
              "      const label = document.createElement('label');\n",
              "      label.textContent = `Downloading \"${filename}\": `;\n",
              "      div.appendChild(label);\n",
              "      const progress = document.createElement('progress');\n",
              "      progress.max = size;\n",
              "      div.appendChild(progress);\n",
              "      document.body.appendChild(div);\n",
              "\n",
              "      const buffers = [];\n",
              "      let downloaded = 0;\n",
              "\n",
              "      const channel = await google.colab.kernel.comms.open(id);\n",
              "      // Send a message to notify the kernel that we're ready.\n",
              "      channel.send({})\n",
              "\n",
              "      for await (const message of channel.messages) {\n",
              "        // Send a message to notify the kernel that we're ready.\n",
              "        channel.send({})\n",
              "        if (message.buffers) {\n",
              "          for (const buffer of message.buffers) {\n",
              "            buffers.push(buffer);\n",
              "            downloaded += buffer.byteLength;\n",
              "            progress.value = downloaded;\n",
              "          }\n",
              "        }\n",
              "      }\n",
              "      const blob = new Blob(buffers, {type: 'application/binary'});\n",
              "      const a = document.createElement('a');\n",
              "      a.href = window.URL.createObjectURL(blob);\n",
              "      a.download = filename;\n",
              "      div.appendChild(a);\n",
              "      a.click();\n",
              "      div.remove();\n",
              "    }\n",
              "  "
            ]
          },
          "metadata": {}
        },
        {
          "output_type": "display_data",
          "data": {
            "text/plain": [
              "<IPython.core.display.Javascript object>"
            ],
            "application/javascript": [
              "download(\"download_a0ef8a60-6580-4bcf-8f5a-eb6ca072962f\", \"double_di.zip\", 1496196834)"
            ]
          },
          "metadata": {}
        }
      ]
    },
    {
      "cell_type": "markdown",
      "source": [
        "-----------------------------\n",
        "# Fine Tune gpt-2"
      ],
      "metadata": {
        "id": "ZPIJ6UfOtB6z"
      }
    },
    {
      "cell_type": "code",
      "source": [
        "df = pd.DataFrame(corpus, columns = ['verse'])\n",
        "df"
      ],
      "metadata": {
        "colab": {
          "base_uri": "https://localhost:8080/",
          "height": 423
        },
        "id": "HwiMKVZkt2h9",
        "outputId": "2b93b55a-cf07-4ce4-f5b4-8de585937ba9"
      },
      "execution_count": 36,
      "outputs": [
        {
          "output_type": "execute_result",
          "data": {
            "text/plain": [
              "                                                   verse\n",
              "0              ah why this boding start this sudden pain\n",
              "1       that wings my pulse and shoots from vein to vein\n",
              "2              what mean regardless of yon midnight bell\n",
              "3         these earthborn visions saddening o'er my cell\n",
              "4      what strange disorder prompts these thoughts t...\n",
              "...                                                  ...\n",
              "15995                 for ever lives the particle divine\n",
              "15996             yet make myy tomb to future ages known\n",
              "15997         and with a modest verse inscribe the stone\n",
              "15998     the verse shall preach some moral truth to man\n",
              "15999       that fortune's various or that life's a span\n",
              "\n",
              "[16000 rows x 1 columns]"
            ],
            "text/html": [
              "\n",
              "  <div id=\"df-ecb88405-ad26-49ab-a3a9-68dbebe0e69a\">\n",
              "    <div class=\"colab-df-container\">\n",
              "      <div>\n",
              "<style scoped>\n",
              "    .dataframe tbody tr th:only-of-type {\n",
              "        vertical-align: middle;\n",
              "    }\n",
              "\n",
              "    .dataframe tbody tr th {\n",
              "        vertical-align: top;\n",
              "    }\n",
              "\n",
              "    .dataframe thead th {\n",
              "        text-align: right;\n",
              "    }\n",
              "</style>\n",
              "<table border=\"1\" class=\"dataframe\">\n",
              "  <thead>\n",
              "    <tr style=\"text-align: right;\">\n",
              "      <th></th>\n",
              "      <th>verse</th>\n",
              "    </tr>\n",
              "  </thead>\n",
              "  <tbody>\n",
              "    <tr>\n",
              "      <th>0</th>\n",
              "      <td>ah why this boding start this sudden pain</td>\n",
              "    </tr>\n",
              "    <tr>\n",
              "      <th>1</th>\n",
              "      <td>that wings my pulse and shoots from vein to vein</td>\n",
              "    </tr>\n",
              "    <tr>\n",
              "      <th>2</th>\n",
              "      <td>what mean regardless of yon midnight bell</td>\n",
              "    </tr>\n",
              "    <tr>\n",
              "      <th>3</th>\n",
              "      <td>these earthborn visions saddening o'er my cell</td>\n",
              "    </tr>\n",
              "    <tr>\n",
              "      <th>4</th>\n",
              "      <td>what strange disorder prompts these thoughts t...</td>\n",
              "    </tr>\n",
              "    <tr>\n",
              "      <th>...</th>\n",
              "      <td>...</td>\n",
              "    </tr>\n",
              "    <tr>\n",
              "      <th>15995</th>\n",
              "      <td>for ever lives the particle divine</td>\n",
              "    </tr>\n",
              "    <tr>\n",
              "      <th>15996</th>\n",
              "      <td>yet make myy tomb to future ages known</td>\n",
              "    </tr>\n",
              "    <tr>\n",
              "      <th>15997</th>\n",
              "      <td>and with a modest verse inscribe the stone</td>\n",
              "    </tr>\n",
              "    <tr>\n",
              "      <th>15998</th>\n",
              "      <td>the verse shall preach some moral truth to man</td>\n",
              "    </tr>\n",
              "    <tr>\n",
              "      <th>15999</th>\n",
              "      <td>that fortune's various or that life's a span</td>\n",
              "    </tr>\n",
              "  </tbody>\n",
              "</table>\n",
              "<p>16000 rows × 1 columns</p>\n",
              "</div>\n",
              "      <button class=\"colab-df-convert\" onclick=\"convertToInteractive('df-ecb88405-ad26-49ab-a3a9-68dbebe0e69a')\"\n",
              "              title=\"Convert this dataframe to an interactive table.\"\n",
              "              style=\"display:none;\">\n",
              "        \n",
              "  <svg xmlns=\"http://www.w3.org/2000/svg\" height=\"24px\"viewBox=\"0 0 24 24\"\n",
              "       width=\"24px\">\n",
              "    <path d=\"M0 0h24v24H0V0z\" fill=\"none\"/>\n",
              "    <path d=\"M18.56 5.44l.94 2.06.94-2.06 2.06-.94-2.06-.94-.94-2.06-.94 2.06-2.06.94zm-11 1L8.5 8.5l.94-2.06 2.06-.94-2.06-.94L8.5 2.5l-.94 2.06-2.06.94zm10 10l.94 2.06.94-2.06 2.06-.94-2.06-.94-.94-2.06-.94 2.06-2.06.94z\"/><path d=\"M17.41 7.96l-1.37-1.37c-.4-.4-.92-.59-1.43-.59-.52 0-1.04.2-1.43.59L10.3 9.45l-7.72 7.72c-.78.78-.78 2.05 0 2.83L4 21.41c.39.39.9.59 1.41.59.51 0 1.02-.2 1.41-.59l7.78-7.78 2.81-2.81c.8-.78.8-2.07 0-2.86zM5.41 20L4 18.59l7.72-7.72 1.47 1.35L5.41 20z\"/>\n",
              "  </svg>\n",
              "      </button>\n",
              "      \n",
              "  <style>\n",
              "    .colab-df-container {\n",
              "      display:flex;\n",
              "      flex-wrap:wrap;\n",
              "      gap: 12px;\n",
              "    }\n",
              "\n",
              "    .colab-df-convert {\n",
              "      background-color: #E8F0FE;\n",
              "      border: none;\n",
              "      border-radius: 50%;\n",
              "      cursor: pointer;\n",
              "      display: none;\n",
              "      fill: #1967D2;\n",
              "      height: 32px;\n",
              "      padding: 0 0 0 0;\n",
              "      width: 32px;\n",
              "    }\n",
              "\n",
              "    .colab-df-convert:hover {\n",
              "      background-color: #E2EBFA;\n",
              "      box-shadow: 0px 1px 2px rgba(60, 64, 67, 0.3), 0px 1px 3px 1px rgba(60, 64, 67, 0.15);\n",
              "      fill: #174EA6;\n",
              "    }\n",
              "\n",
              "    [theme=dark] .colab-df-convert {\n",
              "      background-color: #3B4455;\n",
              "      fill: #D2E3FC;\n",
              "    }\n",
              "\n",
              "    [theme=dark] .colab-df-convert:hover {\n",
              "      background-color: #434B5C;\n",
              "      box-shadow: 0px 1px 3px 1px rgba(0, 0, 0, 0.15);\n",
              "      filter: drop-shadow(0px 1px 2px rgba(0, 0, 0, 0.3));\n",
              "      fill: #FFFFFF;\n",
              "    }\n",
              "  </style>\n",
              "\n",
              "      <script>\n",
              "        const buttonEl =\n",
              "          document.querySelector('#df-ecb88405-ad26-49ab-a3a9-68dbebe0e69a button.colab-df-convert');\n",
              "        buttonEl.style.display =\n",
              "          google.colab.kernel.accessAllowed ? 'block' : 'none';\n",
              "\n",
              "        async function convertToInteractive(key) {\n",
              "          const element = document.querySelector('#df-ecb88405-ad26-49ab-a3a9-68dbebe0e69a');\n",
              "          const dataTable =\n",
              "            await google.colab.kernel.invokeFunction('convertToInteractive',\n",
              "                                                     [key], {});\n",
              "          if (!dataTable) return;\n",
              "\n",
              "          const docLinkHtml = 'Like what you see? Visit the ' +\n",
              "            '<a target=\"_blank\" href=https://colab.research.google.com/notebooks/data_table.ipynb>data table notebook</a>'\n",
              "            + ' to learn more about interactive tables.';\n",
              "          element.innerHTML = '';\n",
              "          dataTable['output_type'] = 'display_data';\n",
              "          await google.colab.output.renderOutput(dataTable, element);\n",
              "          const docLink = document.createElement('div');\n",
              "          docLink.innerHTML = docLinkHtml;\n",
              "          element.appendChild(docLink);\n",
              "        }\n",
              "      </script>\n",
              "    </div>\n",
              "  </div>\n",
              "  "
            ]
          },
          "metadata": {},
          "execution_count": 36
        }
      ]
    },
    {
      "cell_type": "code",
      "source": [
        "df.to_csv(\n",
        "    r'full_text.txt', \n",
        "    header=None, \n",
        "    index=None, \n",
        "    sep=' ',\n",
        "    mode='a'\n",
        "    )"
      ],
      "metadata": {
        "id": "pdamiMqntke1"
      },
      "execution_count": 37,
      "outputs": []
    },
    {
      "cell_type": "markdown",
      "source": [
        "### Load the GPT Model\n",
        "GPT-2"
      ],
      "metadata": {
        "id": "OW4PadmQwnKy"
      }
    },
    {
      "cell_type": "code",
      "source": [
        "!pip install transformers"
      ],
      "metadata": {
        "id": "LNoiQhm7x-DS",
        "colab": {
          "base_uri": "https://localhost:8080/"
        },
        "outputId": "3b050ee9-7f35-4067-a1d3-5f6cf2594f98"
      },
      "execution_count": 38,
      "outputs": [
        {
          "output_type": "stream",
          "name": "stdout",
          "text": [
            "Looking in indexes: https://pypi.org/simple, https://us-python.pkg.dev/colab-wheels/public/simple/\n",
            "Collecting transformers\n",
            "  Downloading transformers-4.29.2-py3-none-any.whl (7.1 MB)\n",
            "\u001b[2K     \u001b[90m━━━━━━━━━━━━━━━━━━━━━━━━━━━━━━━━━━━━━━━━\u001b[0m \u001b[32m7.1/7.1 MB\u001b[0m \u001b[31m40.7 MB/s\u001b[0m eta \u001b[36m0:00:00\u001b[0m\n",
            "\u001b[?25hRequirement already satisfied: filelock in /usr/local/lib/python3.10/dist-packages (from transformers) (3.12.0)\n",
            "Collecting huggingface-hub<1.0,>=0.14.1 (from transformers)\n",
            "  Downloading huggingface_hub-0.14.1-py3-none-any.whl (224 kB)\n",
            "\u001b[2K     \u001b[90m━━━━━━━━━━━━━━━━━━━━━━━━━━━━━━━━━━━━━━\u001b[0m \u001b[32m224.5/224.5 kB\u001b[0m \u001b[31m19.7 MB/s\u001b[0m eta \u001b[36m0:00:00\u001b[0m\n",
            "\u001b[?25hRequirement already satisfied: numpy>=1.17 in /usr/local/lib/python3.10/dist-packages (from transformers) (1.22.4)\n",
            "Requirement already satisfied: packaging>=20.0 in /usr/local/lib/python3.10/dist-packages (from transformers) (23.1)\n",
            "Requirement already satisfied: pyyaml>=5.1 in /usr/local/lib/python3.10/dist-packages (from transformers) (6.0)\n",
            "Requirement already satisfied: regex!=2019.12.17 in /usr/local/lib/python3.10/dist-packages (from transformers) (2022.10.31)\n",
            "Requirement already satisfied: requests in /usr/local/lib/python3.10/dist-packages (from transformers) (2.27.1)\n",
            "Collecting tokenizers!=0.11.3,<0.14,>=0.11.1 (from transformers)\n",
            "  Downloading tokenizers-0.13.3-cp310-cp310-manylinux_2_17_x86_64.manylinux2014_x86_64.whl (7.8 MB)\n",
            "\u001b[2K     \u001b[90m━━━━━━━━━━━━━━━━━━━━━━━━━━━━━━━━━━━━━━━━\u001b[0m \u001b[32m7.8/7.8 MB\u001b[0m \u001b[31m71.1 MB/s\u001b[0m eta \u001b[36m0:00:00\u001b[0m\n",
            "\u001b[?25hRequirement already satisfied: tqdm>=4.27 in /usr/local/lib/python3.10/dist-packages (from transformers) (4.65.0)\n",
            "Requirement already satisfied: fsspec in /usr/local/lib/python3.10/dist-packages (from huggingface-hub<1.0,>=0.14.1->transformers) (2023.4.0)\n",
            "Requirement already satisfied: typing-extensions>=3.7.4.3 in /usr/local/lib/python3.10/dist-packages (from huggingface-hub<1.0,>=0.14.1->transformers) (4.5.0)\n",
            "Requirement already satisfied: urllib3<1.27,>=1.21.1 in /usr/local/lib/python3.10/dist-packages (from requests->transformers) (1.26.15)\n",
            "Requirement already satisfied: certifi>=2017.4.17 in /usr/local/lib/python3.10/dist-packages (from requests->transformers) (2022.12.7)\n",
            "Requirement already satisfied: charset-normalizer~=2.0.0 in /usr/local/lib/python3.10/dist-packages (from requests->transformers) (2.0.12)\n",
            "Requirement already satisfied: idna<4,>=2.5 in /usr/local/lib/python3.10/dist-packages (from requests->transformers) (3.4)\n",
            "Installing collected packages: tokenizers, huggingface-hub, transformers\n",
            "Successfully installed huggingface-hub-0.14.1 tokenizers-0.13.3 transformers-4.29.2\n"
          ]
        }
      ]
    },
    {
      "cell_type": "code",
      "source": [
        "# !pip install git+https://github.com/huggingface/transformers"
      ],
      "metadata": {
        "id": "IbTuflvnyM9R"
      },
      "execution_count": 15,
      "outputs": []
    },
    {
      "cell_type": "code",
      "source": [
        "# !pip install --upgrade transformers"
      ],
      "metadata": {
        "id": "fB05JENezMen"
      },
      "execution_count": 16,
      "outputs": []
    },
    {
      "cell_type": "code",
      "source": [
        "gpt_tokenizer = GPT2Tokenizer.from_pretrained('gpt2')\n",
        "gpt_model = GPT2LMHeadModel.from_pretrained('gpt2', pad_token_id = gpt_tokenizer.eos_token_id)"
      ],
      "metadata": {
        "colab": {
          "base_uri": "https://localhost:8080/",
          "height": 317,
          "referenced_widgets": [
            "9856f5547d43411aacec5fb1d694cff7",
            "c146d14f1db7444ba5965298bd97e221",
            "753e1e4a43184ad0902a69e9ab7fbe33",
            "2a6e1aedeae94409a74e05f143a71925",
            "135f8ab40c5a4fa5ae5f3bded3020472",
            "dfb4ab30271445eb9a48bf592b0c4245",
            "ec95a50a29ee4908b280184e35d033bd",
            "0e607f04b5ad48cc81c5d1fe33004663",
            "2e36a3190bc14d4a8e37a54311b8fde0",
            "a94644cecec748e18b5f309bc6a48d3c",
            "0af32e58e9b64bd79727f7499789d029",
            "8552cdfb5c254b08929cb97521615f12",
            "3cecb66334b44640bc2e331fb3ba33ad",
            "0663869dc3b84a378f4097d6c7ab293d",
            "96afbb13e5c14d0d9eafb061821aded7",
            "a477f0712a05499ba29326ffdf9b9c3e",
            "277b44391c6e4563873dbe580179d635",
            "2afee035b8a74f8699d449a70042a4a5",
            "701a11671a26431caf05510041316ec0",
            "7709689bf55d45da9706768a88b4d73e",
            "1e5152a0369e42e9a357fd0d402b2dbc",
            "89b085e062d64aa1a6dccc9286db1d26",
            "e2be55cc90894982a1f70df4bbf84b71",
            "dc410cbb41c54597a44eea457fc6fe4e",
            "60f0d015d9454ef19714f772fb83cf54",
            "9ec3489fb7d44bdea8ef199af4d48638",
            "1a0371dccefe476396554938f99bd315",
            "d8894fa8158a49c7b2bfd4dbb2312d27",
            "bdc17291737548c5ab1ac74d6b7a4bf5",
            "be2b235c4c7b4f048d68461cadcc4cd0",
            "1e5a8e3e38874b529b1494333213310e",
            "d00c6040f7b64b40a444aebcd49a9d94",
            "6504757d578b4af4b28767b948c66b59",
            "d723b5bd14ed4817a8bd80d50a6d6e8c",
            "9e8a664fdef44c5283600fe2b0caa2e7",
            "a32099d1059443de99b33e57fa84982b",
            "c7ab9b8f928544c0a9510a5fa4f413b6",
            "cd8ad10d1eb742e4b8894059feb2a194",
            "34a8832d48d0413b9cbc733c3c057e31",
            "0afca238ee9d444a87451dd953917918",
            "842160c6af0d4d0c8190851b40ffaf27",
            "fbcbeb2df0df4b1fbebf01db7aaa5cb6",
            "000f6617b70f4f1e9add1dc29d146c33",
            "d425379a1f8f42a083f0008abd89cc6a",
            "c2648b00ac854cbda16287bd70b0bd9c",
            "3cb0e33bcf114a859682f018e72ea9e6",
            "a6392e603a104952bf7d141a44121fac",
            "978aba5a65d44776bb2b6cfcace34db1",
            "03a08fa18bb84284a4afad8370c2c3f5",
            "0331ee8543e04bd0838f8370e708dcb3",
            "8083b0f7218548db98e1c6681f5eb3aa",
            "016eff3762dd452790e797f08b4889a4",
            "634fc369ae3d4bc398db28d6da6e8f64",
            "c329bb21c7954de187aa338f50755aff",
            "9f8238e752704fb885390eaf398b6ede"
          ]
        },
        "id": "IpRpSrKuv71v",
        "outputId": "90027c43-4503-4be2-e623-acecfcdcb1fd"
      },
      "execution_count": 40,
      "outputs": [
        {
          "output_type": "display_data",
          "data": {
            "text/plain": [
              "Downloading (…)olve/main/vocab.json:   0%|          | 0.00/1.04M [00:00<?, ?B/s]"
            ],
            "application/vnd.jupyter.widget-view+json": {
              "version_major": 2,
              "version_minor": 0,
              "model_id": "9856f5547d43411aacec5fb1d694cff7"
            }
          },
          "metadata": {}
        },
        {
          "output_type": "display_data",
          "data": {
            "text/plain": [
              "Downloading (…)olve/main/merges.txt:   0%|          | 0.00/456k [00:00<?, ?B/s]"
            ],
            "application/vnd.jupyter.widget-view+json": {
              "version_major": 2,
              "version_minor": 0,
              "model_id": "8552cdfb5c254b08929cb97521615f12"
            }
          },
          "metadata": {}
        },
        {
          "output_type": "display_data",
          "data": {
            "text/plain": [
              "Downloading (…)lve/main/config.json:   0%|          | 0.00/665 [00:00<?, ?B/s]"
            ],
            "application/vnd.jupyter.widget-view+json": {
              "version_major": 2,
              "version_minor": 0,
              "model_id": "e2be55cc90894982a1f70df4bbf84b71"
            }
          },
          "metadata": {}
        },
        {
          "output_type": "display_data",
          "data": {
            "text/plain": [
              "Downloading pytorch_model.bin:   0%|          | 0.00/548M [00:00<?, ?B/s]"
            ],
            "application/vnd.jupyter.widget-view+json": {
              "version_major": 2,
              "version_minor": 0,
              "model_id": "d723b5bd14ed4817a8bd80d50a6d6e8c"
            }
          },
          "metadata": {}
        },
        {
          "output_type": "display_data",
          "data": {
            "text/plain": [
              "Downloading (…)neration_config.json:   0%|          | 0.00/124 [00:00<?, ?B/s]"
            ],
            "application/vnd.jupyter.widget-view+json": {
              "version_major": 2,
              "version_minor": 0,
              "model_id": "c2648b00ac854cbda16287bd70b0bd9c"
            }
          },
          "metadata": {}
        }
      ]
    },
    {
      "cell_type": "code",
      "source": [
        "gpt_tokenizer.decode(gpt_tokenizer.eos_token_id)"
      ],
      "metadata": {
        "colab": {
          "base_uri": "https://localhost:8080/",
          "height": 35
        },
        "id": "rplKhH8Pv7vB",
        "outputId": "bc37cc45-d35f-4692-ad74-877f0f6e8f03"
      },
      "execution_count": 41,
      "outputs": [
        {
          "output_type": "execute_result",
          "data": {
            "text/plain": [
              "'<|endoftext|>'"
            ],
            "application/vnd.google.colaboratory.intrinsic+json": {
              "type": "string"
            }
          },
          "metadata": {},
          "execution_count": 41
        }
      ]
    },
    {
      "cell_type": "markdown",
      "source": [
        "# Tokenizing"
      ],
      "metadata": {
        "id": "r7FIf2UN2aUM"
      }
    },
    {
      "cell_type": "code",
      "source": [
        "corpus[:5]"
      ],
      "metadata": {
        "id": "Ur-Vo7HVv7qm",
        "colab": {
          "base_uri": "https://localhost:8080/"
        },
        "outputId": "ebd175ec-a033-4d19-808e-92d4ffb06277"
      },
      "execution_count": 42,
      "outputs": [
        {
          "output_type": "execute_result",
          "data": {
            "text/plain": [
              "['ah why this boding start this sudden pain',\n",
              " 'that wings my pulse and shoots from vein to vein',\n",
              " 'what mean regardless of yon midnight bell',\n",
              " \"these earthborn visions saddening o'er my cell\",\n",
              " 'what strange disorder prompts these thoughts to glow']"
            ]
          },
          "metadata": {},
          "execution_count": 42
        }
      ]
    },
    {
      "cell_type": "code",
      "source": [
        "train_path = '/content/train_dataset.txt'\n",
        "test_path = '/content/test_dataset.txt'"
      ],
      "metadata": {
        "id": "6VMc37vvEebd"
      },
      "execution_count": 43,
      "outputs": []
    },
    {
      "cell_type": "code",
      "source": [
        "train, test = train_test_split(\n",
        "    df, \n",
        "    test_size=0.15, \n",
        "    shuffle=False\n",
        "    )"
      ],
      "metadata": {
        "id": "wPsOfwCGGw4o"
      },
      "execution_count": 45,
      "outputs": []
    },
    {
      "cell_type": "code",
      "source": [
        "train.to_csv(\n",
        "    r'train_dataset.txt', \n",
        "    header=None, \n",
        "    index=None, \n",
        "    sep=' ', \n",
        "    mode='a'\n",
        "    )\n",
        "\n",
        "test.to_csv(\n",
        "    r'test_dataset.txt', \n",
        "    header=None, \n",
        "    index=None, \n",
        "    sep=' ', \n",
        "    mode='a'\n",
        "    )"
      ],
      "metadata": {
        "id": "K0P4ucdhGUVf"
      },
      "execution_count": 46,
      "outputs": []
    },
    {
      "cell_type": "code",
      "source": [
        "def remove_double_qoutes(file_path: str) -> None: \n",
        "  \n",
        "    # Read the file\n",
        "    with open(file_path, 'r') as file:\n",
        "        text = file.read()\n",
        "\n",
        "    # Remove double quotes\n",
        "    text_without_quotes = text.replace('\"', '')\n",
        "\n",
        "    # Write the modified text back to the file\n",
        "    with open(file_path, 'w') as file:\n",
        "        file.write(text_without_quotes)"
      ],
      "metadata": {
        "id": "rZo9pNVDaN9i"
      },
      "execution_count": 56,
      "outputs": []
    },
    {
      "cell_type": "code",
      "source": [
        "remove_double_qoutes(train_path)\n",
        "remove_double_qoutes(test_path)"
      ],
      "metadata": {
        "id": "HuDNbTPtaMxq"
      },
      "execution_count": 57,
      "outputs": []
    },
    {
      "cell_type": "code",
      "source": [
        "# !pip install transformers==4.28.0"
      ],
      "metadata": {
        "id": "0Ox8x5OELv-7"
      },
      "execution_count": 58,
      "outputs": []
    },
    {
      "cell_type": "code",
      "source": [
        "def load_dataset(train_path, test_path, tokenizer):\n",
        "  \n",
        "    train_dataset = TextDataset(\n",
        "          tokenizer = gpt_tokenizer,\n",
        "          file_path = train_path,\n",
        "          block_size=128\n",
        "          )\n",
        "\n",
        "    test_dataset = TextDataset(\n",
        "          tokenizer = gpt_tokenizer,\n",
        "          file_path = test_path,\n",
        "          block_size=128\n",
        "          )\n",
        "\n",
        "    data_collator = DataCollatorForLanguageModeling(\n",
        "        tokenizer = gpt_tokenizer, \n",
        "        mlm = False,\n",
        "    )\n",
        "\n",
        "    return train_dataset,test_dataset,data_collator"
      ],
      "metadata": {
        "id": "TTvZgod1Ey1P"
      },
      "execution_count": 59,
      "outputs": []
    },
    {
      "cell_type": "code",
      "source": [
        "from transformers import Trainer, TrainingArguments, AutoModelWithLMHead\n",
        "from transformers import pipeline\n",
        "import shutil"
      ],
      "metadata": {
        "id": "RpATq--KY2HA"
      },
      "execution_count": 69,
      "outputs": []
    },
    {
      "cell_type": "code",
      "source": [
        "train_dataset, test_dataset, data_collator = load_dataset(train_path, test_path, gpt_tokenizer)"
      ],
      "metadata": {
        "colab": {
          "base_uri": "https://localhost:8080/"
        },
        "id": "o1e-WFDnFKH0",
        "outputId": "117411cc-edbe-4dc5-c7cf-922612116a07"
      },
      "execution_count": 61,
      "outputs": [
        {
          "output_type": "stream",
          "name": "stderr",
          "text": [
            "/usr/local/lib/python3.10/dist-packages/transformers/data/datasets/language_modeling.py:53: FutureWarning: This dataset will be removed from the library soon, preprocessing should be handled with the 🤗 Datasets library. You can have a look at this example script for pointers: https://github.com/huggingface/transformers/blob/main/examples/pytorch/language-modeling/run_mlm.py\n",
            "  warnings.warn(\n"
          ]
        }
      ]
    },
    {
      "cell_type": "code",
      "source": [
        "!pip install --upgrade accelerate"
      ],
      "metadata": {
        "colab": {
          "base_uri": "https://localhost:8080/"
        },
        "id": "2Y0E_8QGa7ZV",
        "outputId": "ab95e9a9-2a46-4b4f-d9e4-506ef751c45a"
      },
      "execution_count": 63,
      "outputs": [
        {
          "output_type": "stream",
          "name": "stdout",
          "text": [
            "Looking in indexes: https://pypi.org/simple, https://us-python.pkg.dev/colab-wheels/public/simple/\n",
            "Collecting accelerate\n",
            "  Downloading accelerate-0.19.0-py3-none-any.whl (219 kB)\n",
            "\u001b[2K     \u001b[90m━━━━━━━━━━━━━━━━━━━━━━━━━━━━━━━━━━━━━━━\u001b[0m \u001b[32m219.1/219.1 kB\u001b[0m \u001b[31m3.5 MB/s\u001b[0m eta \u001b[36m0:00:00\u001b[0m\n",
            "\u001b[?25hRequirement already satisfied: numpy>=1.17 in /usr/local/lib/python3.10/dist-packages (from accelerate) (1.22.4)\n",
            "Requirement already satisfied: packaging>=20.0 in /usr/local/lib/python3.10/dist-packages (from accelerate) (23.1)\n",
            "Requirement already satisfied: psutil in /usr/local/lib/python3.10/dist-packages (from accelerate) (5.9.5)\n",
            "Requirement already satisfied: pyyaml in /usr/local/lib/python3.10/dist-packages (from accelerate) (6.0)\n",
            "Requirement already satisfied: torch>=1.6.0 in /usr/local/lib/python3.10/dist-packages (from accelerate) (2.0.1+cu118)\n",
            "Requirement already satisfied: filelock in /usr/local/lib/python3.10/dist-packages (from torch>=1.6.0->accelerate) (3.12.0)\n",
            "Requirement already satisfied: typing-extensions in /usr/local/lib/python3.10/dist-packages (from torch>=1.6.0->accelerate) (4.5.0)\n",
            "Requirement already satisfied: sympy in /usr/local/lib/python3.10/dist-packages (from torch>=1.6.0->accelerate) (1.11.1)\n",
            "Requirement already satisfied: networkx in /usr/local/lib/python3.10/dist-packages (from torch>=1.6.0->accelerate) (3.1)\n",
            "Requirement already satisfied: jinja2 in /usr/local/lib/python3.10/dist-packages (from torch>=1.6.0->accelerate) (3.1.2)\n",
            "Requirement already satisfied: triton==2.0.0 in /usr/local/lib/python3.10/dist-packages (from torch>=1.6.0->accelerate) (2.0.0)\n",
            "Requirement already satisfied: cmake in /usr/local/lib/python3.10/dist-packages (from triton==2.0.0->torch>=1.6.0->accelerate) (3.25.2)\n",
            "Requirement already satisfied: lit in /usr/local/lib/python3.10/dist-packages (from triton==2.0.0->torch>=1.6.0->accelerate) (16.0.5)\n",
            "Requirement already satisfied: MarkupSafe>=2.0 in /usr/local/lib/python3.10/dist-packages (from jinja2->torch>=1.6.0->accelerate) (2.1.2)\n",
            "Requirement already satisfied: mpmath>=0.19 in /usr/local/lib/python3.10/dist-packages (from sympy->torch>=1.6.0->accelerate) (1.3.0)\n",
            "Installing collected packages: accelerate\n",
            "Successfully installed accelerate-0.19.0\n"
          ]
        }
      ]
    },
    {
      "cell_type": "code",
      "source": [
        "training_args = TrainingArguments(\n",
        "    #The output directory\n",
        "    output_dir = \"./gpt2-Poems\", \n",
        "    #overwrite the content of the output directory\n",
        "    overwrite_output_dir = True, \n",
        "    # number of training epochs\n",
        "    num_train_epochs = 15, \n",
        "    # batch size for training\n",
        "    per_device_train_batch_size=32,\n",
        "    # batch size for evaluation \n",
        "    per_device_eval_batch_size=64, \n",
        "    # Number of update steps between two evaluations. \n",
        "    eval_steps = 400, \n",
        "    # after # steps model is saved\n",
        "    save_steps=800, \n",
        "    # number of warmup steps for learning rate scheduler\n",
        "    warmup_steps=500,\n",
        "    )\n",
        "\n",
        "trainer = Trainer(\n",
        "    model=gpt_model,\n",
        "    args=training_args,\n",
        "    data_collator=data_collator,\n",
        "    train_dataset=train_dataset,\n",
        "    eval_dataset=test_dataset,\n",
        ")"
      ],
      "metadata": {
        "id": "Ja3Jyp3xFKEd"
      },
      "execution_count": 67,
      "outputs": []
    },
    {
      "cell_type": "code",
      "source": [
        "# trainer.train()"
      ],
      "metadata": {
        "colab": {
          "base_uri": "https://localhost:8080/",
          "height": 231
        },
        "id": "gOJSkPXmFKBZ",
        "outputId": "936cf76c-da16-497b-e92b-9c1522552d08"
      },
      "execution_count": 39,
      "outputs": [
        {
          "output_type": "stream",
          "name": "stderr",
          "text": [
            "/usr/local/lib/python3.10/dist-packages/transformers/optimization.py:391: FutureWarning: This implementation of AdamW is deprecated and will be removed in a future version. Use the PyTorch implementation torch.optim.AdamW instead, or set `no_deprecation_warning=True` to disable this warning\n",
            "  warnings.warn(\n"
          ]
        },
        {
          "output_type": "display_data",
          "data": {
            "text/plain": [
              "<IPython.core.display.HTML object>"
            ],
            "text/html": [
              "\n",
              "    <div>\n",
              "      \n",
              "      <progress value='540' max='540' style='width:300px; height:20px; vertical-align: middle;'></progress>\n",
              "      [540/540 09:56, Epoch 15/15]\n",
              "    </div>\n",
              "    <table border=\"1\" class=\"dataframe\">\n",
              "  <thead>\n",
              " <tr style=\"text-align: left;\">\n",
              "      <th>Step</th>\n",
              "      <th>Training Loss</th>\n",
              "    </tr>\n",
              "  </thead>\n",
              "  <tbody>\n",
              "    <tr>\n",
              "      <td>500</td>\n",
              "      <td>3.968900</td>\n",
              "    </tr>\n",
              "  </tbody>\n",
              "</table><p>"
            ]
          },
          "metadata": {}
        },
        {
          "output_type": "execute_result",
          "data": {
            "text/plain": [
              "TrainOutput(global_step=540, training_loss=3.9293535868326823, metrics={'train_runtime': 599.9279, 'train_samples_per_second': 28.753, 'train_steps_per_second': 0.9, 'total_flos': 1126821888000000.0, 'train_loss': 3.9293535868326823, 'epoch': 15.0})"
            ]
          },
          "metadata": {},
          "execution_count": 39
        }
      ]
    },
    {
      "cell_type": "code",
      "source": [
        "trainer.save_model('./gpt_for_poems')\n",
        "\n",
        "# Compress the folder into a zip file\n",
        "shutil.make_archive(\"/content/gpt_for_poems\", \"zip\", \"/content/gpt_for_poems\")\n"
      ],
      "metadata": {
        "colab": {
          "base_uri": "https://localhost:8080/",
          "height": 35
        },
        "id": "ht5uFPzbFJ-v",
        "outputId": "1f9d73e1-1b3b-44fa-f01d-bceb6ab10db6"
      },
      "execution_count": 40,
      "outputs": [
        {
          "output_type": "execute_result",
          "data": {
            "text/plain": [
              "'/content/gpt_for_poems.zip'"
            ],
            "application/vnd.google.colaboratory.intrinsic+json": {
              "type": "string"
            }
          },
          "metadata": {},
          "execution_count": 40
        }
      ]
    },
    {
      "cell_type": "code",
      "source": [
        "generator_ = pipeline(\n",
        "    'text-generation', \n",
        "    model='./gpt_for_poems', \n",
        "    tokenizer = gpt_tokenizer\n",
        "    )"
      ],
      "metadata": {
        "id": "KIeHAzwWF2vJ"
      },
      "execution_count": 42,
      "outputs": []
    },
    {
      "cell_type": "code",
      "source": [
        "max_words = 50  # Set the desired maximum number of words\n",
        "generator_ = pipeline(\n",
        "    'text-generation', \n",
        "    model='./gpt_for_poems', \n",
        "    tokenizer = gpt_tokenizer\n",
        "    )\n",
        "result = generator_('Love ', max_length = 60)[0]['generated_text']"
      ],
      "metadata": {
        "id": "ooFNp2pKEyuq"
      },
      "execution_count": 45,
      "outputs": []
    }
  ]
}