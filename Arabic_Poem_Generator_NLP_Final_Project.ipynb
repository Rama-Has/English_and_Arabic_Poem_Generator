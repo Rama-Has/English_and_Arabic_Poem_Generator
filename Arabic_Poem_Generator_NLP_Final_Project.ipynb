{
  "nbformat": 4,
  "nbformat_minor": 0,
  "metadata": {
    "colab": {
      "provenance": [],
      "gpuType": "T4",
      "include_colab_link": true
    },
    "kernelspec": {
      "name": "python3",
      "display_name": "Python 3"
    },
    "language_info": {
      "name": "python"
    },
    "accelerator": "GPU",
    "gpuClass": "standard"
  },
  "cells": [
    {
      "cell_type": "markdown",
      "metadata": {
        "id": "view-in-github",
        "colab_type": "text"
      },
      "source": [
        "<a href=\"https://colab.research.google.com/github/Rama-Has/Poem_Generator_Rama_Hasiba_12010022/blob/main/Arabic_Poem_Generator_NLP_Final_Project.ipynb\" target=\"_parent\"><img src=\"https://colab.research.google.com/assets/colab-badge.svg\" alt=\"Open In Colab\"/></a>"
      ]
    },
    {
      "cell_type": "markdown",
      "source": [
        "--------------------------------------------\n",
        "> # Arabic Poem Generator  \n",
        "\n",
        "\n"
      ],
      "metadata": {
        "id": "nbwf6zBw7EIz"
      }
    },
    {
      "cell_type": "code",
      "source": [
        "# %tensorflow_version 1.x\n",
        "# !pip install -q gpt-2-simple\n",
        "import gpt_2_simple as gpt2\n",
        "from datetime import datetime\n",
        "from google.colab import files"
      ],
      "metadata": {
        "id": "Y-mj-_FW7G1K"
      },
      "execution_count": null,
      "outputs": []
    },
    {
      "cell_type": "code",
      "source": [
        "gpt2.download_gpt2(model_name=\"124M\")"
      ],
      "metadata": {
        "colab": {
          "base_uri": "https://localhost:8080/"
        },
        "id": "jLkqFGfQ7Jbr",
        "outputId": "8f0ad017-4bf0-49ce-9aca-3e713b35ac3d"
      },
      "execution_count": null,
      "outputs": [
        {
          "output_type": "stream",
          "name": "stderr",
          "text": [
            "Fetching checkpoint: 1.05Mit [00:00, 332Mit/s]                                                      \n",
            "Fetching encoder.json: 1.05Mit [00:00, 5.78Mit/s]\n",
            "Fetching hparams.json: 1.05Mit [00:00, 791Mit/s]                                                    \n",
            "Fetching model.ckpt.data-00000-of-00001: 498Mit [00:09, 54.9Mit/s]                                  \n",
            "Fetching model.ckpt.index: 1.05Mit [00:00, 613Mit/s]                                                \n",
            "Fetching model.ckpt.meta: 1.05Mit [00:00, 5.43Mit/s]\n",
            "Fetching vocab.bpe: 1.05Mit [00:00, 6.39Mit/s]\n"
          ]
        }
      ]
    },
    {
      "cell_type": "code",
      "source": [
        "# gpt2.mount_gdrive()"
      ],
      "metadata": {
        "id": "CJNc74N274mT"
      },
      "execution_count": null,
      "outputs": []
    },
    {
      "cell_type": "code",
      "source": [
        "from google.colab import drive\n",
        "drive.mount('/content/drive', force_remount = True) "
      ],
      "metadata": {
        "colab": {
          "base_uri": "https://localhost:8080/"
        },
        "id": "UdIdCUqG786X",
        "outputId": "d4d0110c-e7e2-4a05-dc35-c9a6e2003c79"
      },
      "execution_count": 1,
      "outputs": [
        {
          "output_type": "stream",
          "name": "stdout",
          "text": [
            "Mounted at /content/drive\n"
          ]
        }
      ]
    },
    {
      "cell_type": "code",
      "source": [
        "!unzip -q \"/content/drive/MyDrive/Arabic Poem Comprehensive Dataset (APCD).zip\" -d \"/content/\""
      ],
      "metadata": {
        "colab": {
          "base_uri": "https://localhost:8080/"
        },
        "id": "oJ6ND2K3780K",
        "outputId": "fa8caed7-05b6-44db-dd0b-607d0d3f70bd"
      },
      "execution_count": 2,
      "outputs": [
        {
          "output_type": "stream",
          "name": "stdout",
          "text": [
            "replace /content/Arabic Poem Comprehensive Dataset (APCD).csv? [y]es, [n]o, [A]ll, [N]one, [r]ename: y\n"
          ]
        }
      ]
    },
    {
      "cell_type": "code",
      "source": [
        "import pandas as pd  \n",
        "data = pd.read_csv(\"/content/Arabic Poem Comprehensive Dataset (APCD).csv\")\n",
        "data"
      ],
      "metadata": {
        "colab": {
          "base_uri": "https://localhost:8080/",
          "height": 658
        },
        "id": "4e5i9Nsq9Hiz",
        "outputId": "441ef920-71cd-43f0-e285-8ed4739fe835"
      },
      "execution_count": 2,
      "outputs": [
        {
          "output_type": "execute_result",
          "data": {
            "text/plain": [
              "               العصر             الشاعر          الديوان القافية   البحر  \\\n",
              "0        قبل الإسلام  عمرو بنِ قُمَيئَة  الديوان الرئيسي       د  الطويل   \n",
              "1        قبل الإسلام  عمرو بنِ قُمَيئَة  الديوان الرئيسي       د  الطويل   \n",
              "2        قبل الإسلام  عمرو بنِ قُمَيئَة  الديوان الرئيسي       د  الطويل   \n",
              "3        قبل الإسلام  عمرو بنِ قُمَيئَة  الديوان الرئيسي       د  الطويل   \n",
              "4        قبل الإسلام  عمرو بنِ قُمَيئَة  الديوان الرئيسي       د  الطويل   \n",
              "...              ...                ...              ...     ...     ...   \n",
              "1831765       الحديث          شهاب غانم        شهاب غانم       ن  الخفيف   \n",
              "1831766       الحديث          شهاب غانم        شهاب غانم       ن  الخفيف   \n",
              "1831767       الحديث          شهاب غانم        شهاب غانم       ن  الخفيف   \n",
              "1831768       الحديث          شهاب غانم        شهاب غانم       ن  الخفيف   \n",
              "1831769       الحديث          شهاب غانم        شهاب غانم       ن  الخفيف   \n",
              "\n",
              "                                  الشطر الايسر  \\\n",
              "0         وَأَن تَجمَعا شَملي وَتَنتَظِرا غَدا   \n",
              "1        وَلا سُرعَتي يَوماً بِسابِقَةِ الرَدى   \n",
              "2        وَتَستَوجِبا مَنّاً عَلَيَّ وَتُحمَدا   \n",
              "3          تُؤامِرُني سِرّاً لِأَصرِمَ مَرثَدا   \n",
              "4         وَأَفرَعَ في لَومي مِراراً وَأَصعَدا   \n",
              "...                                        ...   \n",
              "1831765                    وأحلى قصيدة تَتَغنى   \n",
              "1831766                كحلم يغشى الجفون الوسنى   \n",
              "1831767                يتداعى وجداً ويخفق حسنا   \n",
              "1831768                 يدك الحدود سجناً فسجنا   \n",
              "1831769                 آه لو أدرك الغرام لجنا   \n",
              "\n",
              "                                   الشطر الايمن  \\\n",
              "0         خَليلَيَّ لا تَستَعجِلا أَن تَزَوَّدا   \n",
              "1           فَما لَبَثٌ يَوماً بِسابِقٍ مَغنَمٍ   \n",
              "2        وَإِن تُنظِراني اليَومَ أَقضِ لُبانَةً   \n",
              "3            لَعَمرُكَ ما نَفسٌ بِجِدٍ رَشيدَةٍ   \n",
              "4          وَإِن ظَهَرَت مِنهُ قَوارِصُ جَمَّةٌ   \n",
              "...                                         ...   \n",
              "1831765        هي أغلى ما أنشأ اللَّه في الدنيا   \n",
              "1831766                هي أغرودة الأغاريد تنساب   \n",
              "1831767                      هي شلال بهجة وبهاء   \n",
              "1831768             هي حلم الهوى ومنطلقي الباقي   \n",
              "1831769                 هي حبي العاتي وكل غرامي   \n",
              "\n",
              "                                                     البيت  \n",
              "0        خَليلَيَّ لا تَستَعجِلا أَن تَزَوَّدا    وَأَن...  \n",
              "1        فَما لَبَثٌ يَوماً بِسابِقٍ مَغنَمٍ    وَلا سُ...  \n",
              "2        وَإِن تُنظِراني اليَومَ أَقضِ لُبانَةً    وَتَ...  \n",
              "3        لَعَمرُكَ ما نَفسٌ بِجِدٍ رَشيدَةٍ    تُؤامِرُ...  \n",
              "4        وَإِن ظَهَرَت مِنهُ قَوارِصُ جَمَّةٌ    وَأَفر...  \n",
              "...                                                    ...  \n",
              "1831765  هي أغلى ما أنشأ اللَّه في الدنيا    وأحلى قصيد...  \n",
              "1831766  هي أغرودة الأغاريد تنساب    كحلم يغشى الجفون ا...  \n",
              "1831767      هي شلال بهجة وبهاء    يتداعى وجداً ويخفق حسنا  \n",
              "1831768  هي حلم الهوى ومنطلقي الباقي    يدك الحدود سجنا...  \n",
              "1831769  هي حبي العاتي وكل غرامي    آه لو أدرك الغرام لجنا  \n",
              "\n",
              "[1831770 rows x 8 columns]"
            ],
            "text/html": [
              "\n",
              "  <div id=\"df-ae953d1c-3e23-4950-bfe9-45c0a564b825\">\n",
              "    <div class=\"colab-df-container\">\n",
              "      <div>\n",
              "<style scoped>\n",
              "    .dataframe tbody tr th:only-of-type {\n",
              "        vertical-align: middle;\n",
              "    }\n",
              "\n",
              "    .dataframe tbody tr th {\n",
              "        vertical-align: top;\n",
              "    }\n",
              "\n",
              "    .dataframe thead th {\n",
              "        text-align: right;\n",
              "    }\n",
              "</style>\n",
              "<table border=\"1\" class=\"dataframe\">\n",
              "  <thead>\n",
              "    <tr style=\"text-align: right;\">\n",
              "      <th></th>\n",
              "      <th>العصر</th>\n",
              "      <th>الشاعر</th>\n",
              "      <th>الديوان</th>\n",
              "      <th>القافية</th>\n",
              "      <th>البحر</th>\n",
              "      <th>الشطر الايسر</th>\n",
              "      <th>الشطر الايمن</th>\n",
              "      <th>البيت</th>\n",
              "    </tr>\n",
              "  </thead>\n",
              "  <tbody>\n",
              "    <tr>\n",
              "      <th>0</th>\n",
              "      <td>قبل الإسلام</td>\n",
              "      <td>عمرو بنِ قُمَيئَة</td>\n",
              "      <td>الديوان الرئيسي</td>\n",
              "      <td>د</td>\n",
              "      <td>الطويل</td>\n",
              "      <td>وَأَن تَجمَعا شَملي وَتَنتَظِرا غَدا</td>\n",
              "      <td>خَليلَيَّ لا تَستَعجِلا أَن تَزَوَّدا</td>\n",
              "      <td>خَليلَيَّ لا تَستَعجِلا أَن تَزَوَّدا    وَأَن...</td>\n",
              "    </tr>\n",
              "    <tr>\n",
              "      <th>1</th>\n",
              "      <td>قبل الإسلام</td>\n",
              "      <td>عمرو بنِ قُمَيئَة</td>\n",
              "      <td>الديوان الرئيسي</td>\n",
              "      <td>د</td>\n",
              "      <td>الطويل</td>\n",
              "      <td>وَلا سُرعَتي يَوماً بِسابِقَةِ الرَدى</td>\n",
              "      <td>فَما لَبَثٌ يَوماً بِسابِقٍ مَغنَمٍ</td>\n",
              "      <td>فَما لَبَثٌ يَوماً بِسابِقٍ مَغنَمٍ    وَلا سُ...</td>\n",
              "    </tr>\n",
              "    <tr>\n",
              "      <th>2</th>\n",
              "      <td>قبل الإسلام</td>\n",
              "      <td>عمرو بنِ قُمَيئَة</td>\n",
              "      <td>الديوان الرئيسي</td>\n",
              "      <td>د</td>\n",
              "      <td>الطويل</td>\n",
              "      <td>وَتَستَوجِبا مَنّاً عَلَيَّ وَتُحمَدا</td>\n",
              "      <td>وَإِن تُنظِراني اليَومَ أَقضِ لُبانَةً</td>\n",
              "      <td>وَإِن تُنظِراني اليَومَ أَقضِ لُبانَةً    وَتَ...</td>\n",
              "    </tr>\n",
              "    <tr>\n",
              "      <th>3</th>\n",
              "      <td>قبل الإسلام</td>\n",
              "      <td>عمرو بنِ قُمَيئَة</td>\n",
              "      <td>الديوان الرئيسي</td>\n",
              "      <td>د</td>\n",
              "      <td>الطويل</td>\n",
              "      <td>تُؤامِرُني سِرّاً لِأَصرِمَ مَرثَدا</td>\n",
              "      <td>لَعَمرُكَ ما نَفسٌ بِجِدٍ رَشيدَةٍ</td>\n",
              "      <td>لَعَمرُكَ ما نَفسٌ بِجِدٍ رَشيدَةٍ    تُؤامِرُ...</td>\n",
              "    </tr>\n",
              "    <tr>\n",
              "      <th>4</th>\n",
              "      <td>قبل الإسلام</td>\n",
              "      <td>عمرو بنِ قُمَيئَة</td>\n",
              "      <td>الديوان الرئيسي</td>\n",
              "      <td>د</td>\n",
              "      <td>الطويل</td>\n",
              "      <td>وَأَفرَعَ في لَومي مِراراً وَأَصعَدا</td>\n",
              "      <td>وَإِن ظَهَرَت مِنهُ قَوارِصُ جَمَّةٌ</td>\n",
              "      <td>وَإِن ظَهَرَت مِنهُ قَوارِصُ جَمَّةٌ    وَأَفر...</td>\n",
              "    </tr>\n",
              "    <tr>\n",
              "      <th>...</th>\n",
              "      <td>...</td>\n",
              "      <td>...</td>\n",
              "      <td>...</td>\n",
              "      <td>...</td>\n",
              "      <td>...</td>\n",
              "      <td>...</td>\n",
              "      <td>...</td>\n",
              "      <td>...</td>\n",
              "    </tr>\n",
              "    <tr>\n",
              "      <th>1831765</th>\n",
              "      <td>الحديث</td>\n",
              "      <td>شهاب غانم</td>\n",
              "      <td>شهاب غانم</td>\n",
              "      <td>ن</td>\n",
              "      <td>الخفيف</td>\n",
              "      <td>وأحلى قصيدة تَتَغنى</td>\n",
              "      <td>هي أغلى ما أنشأ اللَّه في الدنيا</td>\n",
              "      <td>هي أغلى ما أنشأ اللَّه في الدنيا    وأحلى قصيد...</td>\n",
              "    </tr>\n",
              "    <tr>\n",
              "      <th>1831766</th>\n",
              "      <td>الحديث</td>\n",
              "      <td>شهاب غانم</td>\n",
              "      <td>شهاب غانم</td>\n",
              "      <td>ن</td>\n",
              "      <td>الخفيف</td>\n",
              "      <td>كحلم يغشى الجفون الوسنى</td>\n",
              "      <td>هي أغرودة الأغاريد تنساب</td>\n",
              "      <td>هي أغرودة الأغاريد تنساب    كحلم يغشى الجفون ا...</td>\n",
              "    </tr>\n",
              "    <tr>\n",
              "      <th>1831767</th>\n",
              "      <td>الحديث</td>\n",
              "      <td>شهاب غانم</td>\n",
              "      <td>شهاب غانم</td>\n",
              "      <td>ن</td>\n",
              "      <td>الخفيف</td>\n",
              "      <td>يتداعى وجداً ويخفق حسنا</td>\n",
              "      <td>هي شلال بهجة وبهاء</td>\n",
              "      <td>هي شلال بهجة وبهاء    يتداعى وجداً ويخفق حسنا</td>\n",
              "    </tr>\n",
              "    <tr>\n",
              "      <th>1831768</th>\n",
              "      <td>الحديث</td>\n",
              "      <td>شهاب غانم</td>\n",
              "      <td>شهاب غانم</td>\n",
              "      <td>ن</td>\n",
              "      <td>الخفيف</td>\n",
              "      <td>يدك الحدود سجناً فسجنا</td>\n",
              "      <td>هي حلم الهوى ومنطلقي الباقي</td>\n",
              "      <td>هي حلم الهوى ومنطلقي الباقي    يدك الحدود سجنا...</td>\n",
              "    </tr>\n",
              "    <tr>\n",
              "      <th>1831769</th>\n",
              "      <td>الحديث</td>\n",
              "      <td>شهاب غانم</td>\n",
              "      <td>شهاب غانم</td>\n",
              "      <td>ن</td>\n",
              "      <td>الخفيف</td>\n",
              "      <td>آه لو أدرك الغرام لجنا</td>\n",
              "      <td>هي حبي العاتي وكل غرامي</td>\n",
              "      <td>هي حبي العاتي وكل غرامي    آه لو أدرك الغرام لجنا</td>\n",
              "    </tr>\n",
              "  </tbody>\n",
              "</table>\n",
              "<p>1831770 rows × 8 columns</p>\n",
              "</div>\n",
              "      <button class=\"colab-df-convert\" onclick=\"convertToInteractive('df-ae953d1c-3e23-4950-bfe9-45c0a564b825')\"\n",
              "              title=\"Convert this dataframe to an interactive table.\"\n",
              "              style=\"display:none;\">\n",
              "        \n",
              "  <svg xmlns=\"http://www.w3.org/2000/svg\" height=\"24px\"viewBox=\"0 0 24 24\"\n",
              "       width=\"24px\">\n",
              "    <path d=\"M0 0h24v24H0V0z\" fill=\"none\"/>\n",
              "    <path d=\"M18.56 5.44l.94 2.06.94-2.06 2.06-.94-2.06-.94-.94-2.06-.94 2.06-2.06.94zm-11 1L8.5 8.5l.94-2.06 2.06-.94-2.06-.94L8.5 2.5l-.94 2.06-2.06.94zm10 10l.94 2.06.94-2.06 2.06-.94-2.06-.94-.94-2.06-.94 2.06-2.06.94z\"/><path d=\"M17.41 7.96l-1.37-1.37c-.4-.4-.92-.59-1.43-.59-.52 0-1.04.2-1.43.59L10.3 9.45l-7.72 7.72c-.78.78-.78 2.05 0 2.83L4 21.41c.39.39.9.59 1.41.59.51 0 1.02-.2 1.41-.59l7.78-7.78 2.81-2.81c.8-.78.8-2.07 0-2.86zM5.41 20L4 18.59l7.72-7.72 1.47 1.35L5.41 20z\"/>\n",
              "  </svg>\n",
              "      </button>\n",
              "      \n",
              "  <style>\n",
              "    .colab-df-container {\n",
              "      display:flex;\n",
              "      flex-wrap:wrap;\n",
              "      gap: 12px;\n",
              "    }\n",
              "\n",
              "    .colab-df-convert {\n",
              "      background-color: #E8F0FE;\n",
              "      border: none;\n",
              "      border-radius: 50%;\n",
              "      cursor: pointer;\n",
              "      display: none;\n",
              "      fill: #1967D2;\n",
              "      height: 32px;\n",
              "      padding: 0 0 0 0;\n",
              "      width: 32px;\n",
              "    }\n",
              "\n",
              "    .colab-df-convert:hover {\n",
              "      background-color: #E2EBFA;\n",
              "      box-shadow: 0px 1px 2px rgba(60, 64, 67, 0.3), 0px 1px 3px 1px rgba(60, 64, 67, 0.15);\n",
              "      fill: #174EA6;\n",
              "    }\n",
              "\n",
              "    [theme=dark] .colab-df-convert {\n",
              "      background-color: #3B4455;\n",
              "      fill: #D2E3FC;\n",
              "    }\n",
              "\n",
              "    [theme=dark] .colab-df-convert:hover {\n",
              "      background-color: #434B5C;\n",
              "      box-shadow: 0px 1px 3px 1px rgba(0, 0, 0, 0.15);\n",
              "      filter: drop-shadow(0px 1px 2px rgba(0, 0, 0, 0.3));\n",
              "      fill: #FFFFFF;\n",
              "    }\n",
              "  </style>\n",
              "\n",
              "      <script>\n",
              "        const buttonEl =\n",
              "          document.querySelector('#df-ae953d1c-3e23-4950-bfe9-45c0a564b825 button.colab-df-convert');\n",
              "        buttonEl.style.display =\n",
              "          google.colab.kernel.accessAllowed ? 'block' : 'none';\n",
              "\n",
              "        async function convertToInteractive(key) {\n",
              "          const element = document.querySelector('#df-ae953d1c-3e23-4950-bfe9-45c0a564b825');\n",
              "          const dataTable =\n",
              "            await google.colab.kernel.invokeFunction('convertToInteractive',\n",
              "                                                     [key], {});\n",
              "          if (!dataTable) return;\n",
              "\n",
              "          const docLinkHtml = 'Like what you see? Visit the ' +\n",
              "            '<a target=\"_blank\" href=https://colab.research.google.com/notebooks/data_table.ipynb>data table notebook</a>'\n",
              "            + ' to learn more about interactive tables.';\n",
              "          element.innerHTML = '';\n",
              "          dataTable['output_type'] = 'display_data';\n",
              "          await google.colab.output.renderOutput(dataTable, element);\n",
              "          const docLink = document.createElement('div');\n",
              "          docLink.innerHTML = docLinkHtml;\n",
              "          element.appendChild(docLink);\n",
              "        }\n",
              "      </script>\n",
              "    </div>\n",
              "  </div>\n",
              "  "
            ]
          },
          "metadata": {},
          "execution_count": 2
        }
      ]
    },
    {
      "cell_type": "code",
      "source": [
        "data = data[['البيت']]\n",
        "data"
      ],
      "metadata": {
        "colab": {
          "base_uri": "https://localhost:8080/",
          "height": 423
        },
        "id": "FMq6MDMRLFon",
        "outputId": "2880f505-15d6-494b-bb3d-8d8cbaa8ce4c"
      },
      "execution_count": 3,
      "outputs": [
        {
          "output_type": "execute_result",
          "data": {
            "text/plain": [
              "                                                     البيت\n",
              "0        خَليلَيَّ لا تَستَعجِلا أَن تَزَوَّدا    وَأَن...\n",
              "1        فَما لَبَثٌ يَوماً بِسابِقٍ مَغنَمٍ    وَلا سُ...\n",
              "2        وَإِن تُنظِراني اليَومَ أَقضِ لُبانَةً    وَتَ...\n",
              "3        لَعَمرُكَ ما نَفسٌ بِجِدٍ رَشيدَةٍ    تُؤامِرُ...\n",
              "4        وَإِن ظَهَرَت مِنهُ قَوارِصُ جَمَّةٌ    وَأَفر...\n",
              "...                                                    ...\n",
              "1831765  هي أغلى ما أنشأ اللَّه في الدنيا    وأحلى قصيد...\n",
              "1831766  هي أغرودة الأغاريد تنساب    كحلم يغشى الجفون ا...\n",
              "1831767      هي شلال بهجة وبهاء    يتداعى وجداً ويخفق حسنا\n",
              "1831768  هي حلم الهوى ومنطلقي الباقي    يدك الحدود سجنا...\n",
              "1831769  هي حبي العاتي وكل غرامي    آه لو أدرك الغرام لجنا\n",
              "\n",
              "[1831770 rows x 1 columns]"
            ],
            "text/html": [
              "\n",
              "  <div id=\"df-77bd1bfd-39d9-4c76-8bff-b893eca42e3f\">\n",
              "    <div class=\"colab-df-container\">\n",
              "      <div>\n",
              "<style scoped>\n",
              "    .dataframe tbody tr th:only-of-type {\n",
              "        vertical-align: middle;\n",
              "    }\n",
              "\n",
              "    .dataframe tbody tr th {\n",
              "        vertical-align: top;\n",
              "    }\n",
              "\n",
              "    .dataframe thead th {\n",
              "        text-align: right;\n",
              "    }\n",
              "</style>\n",
              "<table border=\"1\" class=\"dataframe\">\n",
              "  <thead>\n",
              "    <tr style=\"text-align: right;\">\n",
              "      <th></th>\n",
              "      <th>البيت</th>\n",
              "    </tr>\n",
              "  </thead>\n",
              "  <tbody>\n",
              "    <tr>\n",
              "      <th>0</th>\n",
              "      <td>خَليلَيَّ لا تَستَعجِلا أَن تَزَوَّدا    وَأَن...</td>\n",
              "    </tr>\n",
              "    <tr>\n",
              "      <th>1</th>\n",
              "      <td>فَما لَبَثٌ يَوماً بِسابِقٍ مَغنَمٍ    وَلا سُ...</td>\n",
              "    </tr>\n",
              "    <tr>\n",
              "      <th>2</th>\n",
              "      <td>وَإِن تُنظِراني اليَومَ أَقضِ لُبانَةً    وَتَ...</td>\n",
              "    </tr>\n",
              "    <tr>\n",
              "      <th>3</th>\n",
              "      <td>لَعَمرُكَ ما نَفسٌ بِجِدٍ رَشيدَةٍ    تُؤامِرُ...</td>\n",
              "    </tr>\n",
              "    <tr>\n",
              "      <th>4</th>\n",
              "      <td>وَإِن ظَهَرَت مِنهُ قَوارِصُ جَمَّةٌ    وَأَفر...</td>\n",
              "    </tr>\n",
              "    <tr>\n",
              "      <th>...</th>\n",
              "      <td>...</td>\n",
              "    </tr>\n",
              "    <tr>\n",
              "      <th>1831765</th>\n",
              "      <td>هي أغلى ما أنشأ اللَّه في الدنيا    وأحلى قصيد...</td>\n",
              "    </tr>\n",
              "    <tr>\n",
              "      <th>1831766</th>\n",
              "      <td>هي أغرودة الأغاريد تنساب    كحلم يغشى الجفون ا...</td>\n",
              "    </tr>\n",
              "    <tr>\n",
              "      <th>1831767</th>\n",
              "      <td>هي شلال بهجة وبهاء    يتداعى وجداً ويخفق حسنا</td>\n",
              "    </tr>\n",
              "    <tr>\n",
              "      <th>1831768</th>\n",
              "      <td>هي حلم الهوى ومنطلقي الباقي    يدك الحدود سجنا...</td>\n",
              "    </tr>\n",
              "    <tr>\n",
              "      <th>1831769</th>\n",
              "      <td>هي حبي العاتي وكل غرامي    آه لو أدرك الغرام لجنا</td>\n",
              "    </tr>\n",
              "  </tbody>\n",
              "</table>\n",
              "<p>1831770 rows × 1 columns</p>\n",
              "</div>\n",
              "      <button class=\"colab-df-convert\" onclick=\"convertToInteractive('df-77bd1bfd-39d9-4c76-8bff-b893eca42e3f')\"\n",
              "              title=\"Convert this dataframe to an interactive table.\"\n",
              "              style=\"display:none;\">\n",
              "        \n",
              "  <svg xmlns=\"http://www.w3.org/2000/svg\" height=\"24px\"viewBox=\"0 0 24 24\"\n",
              "       width=\"24px\">\n",
              "    <path d=\"M0 0h24v24H0V0z\" fill=\"none\"/>\n",
              "    <path d=\"M18.56 5.44l.94 2.06.94-2.06 2.06-.94-2.06-.94-.94-2.06-.94 2.06-2.06.94zm-11 1L8.5 8.5l.94-2.06 2.06-.94-2.06-.94L8.5 2.5l-.94 2.06-2.06.94zm10 10l.94 2.06.94-2.06 2.06-.94-2.06-.94-.94-2.06-.94 2.06-2.06.94z\"/><path d=\"M17.41 7.96l-1.37-1.37c-.4-.4-.92-.59-1.43-.59-.52 0-1.04.2-1.43.59L10.3 9.45l-7.72 7.72c-.78.78-.78 2.05 0 2.83L4 21.41c.39.39.9.59 1.41.59.51 0 1.02-.2 1.41-.59l7.78-7.78 2.81-2.81c.8-.78.8-2.07 0-2.86zM5.41 20L4 18.59l7.72-7.72 1.47 1.35L5.41 20z\"/>\n",
              "  </svg>\n",
              "      </button>\n",
              "      \n",
              "  <style>\n",
              "    .colab-df-container {\n",
              "      display:flex;\n",
              "      flex-wrap:wrap;\n",
              "      gap: 12px;\n",
              "    }\n",
              "\n",
              "    .colab-df-convert {\n",
              "      background-color: #E8F0FE;\n",
              "      border: none;\n",
              "      border-radius: 50%;\n",
              "      cursor: pointer;\n",
              "      display: none;\n",
              "      fill: #1967D2;\n",
              "      height: 32px;\n",
              "      padding: 0 0 0 0;\n",
              "      width: 32px;\n",
              "    }\n",
              "\n",
              "    .colab-df-convert:hover {\n",
              "      background-color: #E2EBFA;\n",
              "      box-shadow: 0px 1px 2px rgba(60, 64, 67, 0.3), 0px 1px 3px 1px rgba(60, 64, 67, 0.15);\n",
              "      fill: #174EA6;\n",
              "    }\n",
              "\n",
              "    [theme=dark] .colab-df-convert {\n",
              "      background-color: #3B4455;\n",
              "      fill: #D2E3FC;\n",
              "    }\n",
              "\n",
              "    [theme=dark] .colab-df-convert:hover {\n",
              "      background-color: #434B5C;\n",
              "      box-shadow: 0px 1px 3px 1px rgba(0, 0, 0, 0.15);\n",
              "      filter: drop-shadow(0px 1px 2px rgba(0, 0, 0, 0.3));\n",
              "      fill: #FFFFFF;\n",
              "    }\n",
              "  </style>\n",
              "\n",
              "      <script>\n",
              "        const buttonEl =\n",
              "          document.querySelector('#df-77bd1bfd-39d9-4c76-8bff-b893eca42e3f button.colab-df-convert');\n",
              "        buttonEl.style.display =\n",
              "          google.colab.kernel.accessAllowed ? 'block' : 'none';\n",
              "\n",
              "        async function convertToInteractive(key) {\n",
              "          const element = document.querySelector('#df-77bd1bfd-39d9-4c76-8bff-b893eca42e3f');\n",
              "          const dataTable =\n",
              "            await google.colab.kernel.invokeFunction('convertToInteractive',\n",
              "                                                     [key], {});\n",
              "          if (!dataTable) return;\n",
              "\n",
              "          const docLinkHtml = 'Like what you see? Visit the ' +\n",
              "            '<a target=\"_blank\" href=https://colab.research.google.com/notebooks/data_table.ipynb>data table notebook</a>'\n",
              "            + ' to learn more about interactive tables.';\n",
              "          element.innerHTML = '';\n",
              "          dataTable['output_type'] = 'display_data';\n",
              "          await google.colab.output.renderOutput(dataTable, element);\n",
              "          const docLink = document.createElement('div');\n",
              "          docLink.innerHTML = docLinkHtml;\n",
              "          element.appendChild(docLink);\n",
              "        }\n",
              "      </script>\n",
              "    </div>\n",
              "  </div>\n",
              "  "
            ]
          },
          "metadata": {},
          "execution_count": 3
        }
      ]
    },
    {
      "cell_type": "code",
      "source": [
        "print(f\"There are a atotal of {data.shape[0]} poem line in the dataset, I'll use the first 12 000 sample only\")"
      ],
      "metadata": {
        "colab": {
          "base_uri": "https://localhost:8080/"
        },
        "id": "fmHZX4mPLh0I",
        "outputId": "5c4aa803-89da-46dd-bc0c-36ff07f636d9"
      },
      "execution_count": 4,
      "outputs": [
        {
          "output_type": "stream",
          "name": "stdout",
          "text": [
            "There are a atotal of 1831770 poem line in the dataset, I'll use the first 12 000 sample only\n"
          ]
        }
      ]
    },
    {
      "cell_type": "code",
      "source": [
        "poems_lines = data['البيت'].to_list()[: 50000]\n",
        "poems_lines[0: 5]"
      ],
      "metadata": {
        "colab": {
          "base_uri": "https://localhost:8080/"
        },
        "id": "DripLdgZL9DU",
        "outputId": "15d81e1d-17d4-4e68-d035-72e90d62c6d7"
      },
      "execution_count": 7,
      "outputs": [
        {
          "output_type": "execute_result",
          "data": {
            "text/plain": [
              "['خَليلَيَّ لا تَستَعجِلا أَن تَزَوَّدا    وَأَن تَجمَعا شَملي وَتَنتَظِرا غَدا',\n",
              " 'فَما لَبَثٌ يَوماً بِسابِقٍ مَغنَمٍ    وَلا سُرعَتي يَوماً بِسابِقَةِ الرَدى',\n",
              " 'وَإِن تُنظِراني اليَومَ أَقضِ لُبانَةً    وَتَستَوجِبا مَنّاً عَلَيَّ وَتُحمَدا',\n",
              " 'لَعَمرُكَ ما نَفسٌ بِجِدٍ رَشيدَةٍ    تُؤامِرُني سِرّاً لِأَصرِمَ مَرثَدا',\n",
              " 'وَإِن ظَهَرَت مِنهُ قَوارِصُ جَمَّةٌ    وَأَفرَعَ في لَومي مِراراً وَأَصعَدا']"
            ]
          },
          "metadata": {},
          "execution_count": 7
        }
      ]
    },
    {
      "cell_type": "code",
      "source": [
        "import re\n",
        "# remove special characters\n",
        "ARABIC_PUNCTUATION = '''`÷×؛<>_()*&^%][ـ،/:\"؟.,'{}~¦+|!”…“–ـ'''\n",
        "\n",
        "def remove_arabic_punctuation(text: str):\n",
        "    translator = str.maketrans('', '', ARABIC_PUNCTUATION)\n",
        "    cleaned_text = text.translate(translator)\n",
        "    return cleaned_text\n",
        "\n",
        "def remove_multiple_spaces(text):\n",
        "    cleaned_text = re.sub(' +', ' ', text)\n",
        "    return cleaned_text"
      ],
      "metadata": {
        "id": "U_urzq5X9y3e"
      },
      "execution_count": 8,
      "outputs": []
    },
    {
      "cell_type": "code",
      "source": [
        "# !pip install pyarabic"
      ],
      "metadata": {
        "id": "3w56HVaYBLrn"
      },
      "execution_count": 9,
      "outputs": []
    },
    {
      "cell_type": "code",
      "source": [
        "# For arabic diacritics \n",
        "from pyarabic.araby import strip_tashkeel"
      ],
      "metadata": {
        "id": "O9H9xsH5AyiR"
      },
      "execution_count": 10,
      "outputs": []
    },
    {
      "cell_type": "markdown",
      "source": [
        "### Data Cleanning:\n",
        "  1. Remove strips\n",
        "  2. Remove arabic punctuation\n",
        "  3. Remove multiple spaces"
      ],
      "metadata": {
        "id": "bs8-jhi_Bs8X"
      }
    },
    {
      "cell_type": "code",
      "source": [
        "poems_lines = [strip_tashkeel(line) for line in poems_lines]\n",
        "poems_lines = [remove_arabic_punctuation(line) for line in poems_lines]\n",
        "poems_lines = [remove_multiple_spaces(line) for line in poems_lines]"
      ],
      "metadata": {
        "id": "j1eIb0qpCohe"
      },
      "execution_count": 10,
      "outputs": []
    },
    {
      "cell_type": "code",
      "source": [
        "poems_lines[0: 5]"
      ],
      "metadata": {
        "colab": {
          "base_uri": "https://localhost:8080/"
        },
        "id": "3mjp7cUJMJcc",
        "outputId": "d05727db-2b3e-4ae2-fa4f-4dccfcb3e09f"
      },
      "execution_count": 11,
      "outputs": [
        {
          "output_type": "execute_result",
          "data": {
            "text/plain": [
              "['خليلي لا تستعجلا أن تزودا وأن تجمعا شملي وتنتظرا غدا',\n",
              " 'فما لبث يوما بسابق مغنم ولا سرعتي يوما بسابقة الردى',\n",
              " 'وإن تنظراني اليوم أقض لبانة وتستوجبا منا علي وتحمدا',\n",
              " 'لعمرك ما نفس بجد رشيدة تؤامرني سرا لأصرم مرثدا',\n",
              " 'وإن ظهرت منه قوارص جمة وأفرع في لومي مرارا وأصعدا']"
            ]
          },
          "metadata": {},
          "execution_count": 11
        }
      ]
    },
    {
      "cell_type": "code",
      "source": [
        "# !pip install transformers"
      ],
      "metadata": {
        "id": "mMDxoIhCXiMi"
      },
      "execution_count": 12,
      "outputs": []
    },
    {
      "cell_type": "markdown",
      "source": [
        "# Finetune GPT-2"
      ],
      "metadata": {
        "id": "qNxkUQToXmHR"
      }
    },
    {
      "cell_type": "code",
      "source": [
        "#  data[['البيت']].head(12000).copy()"
      ],
      "metadata": {
        "id": "gRPDRvxMZSNN"
      },
      "execution_count": 13,
      "outputs": []
    },
    {
      "cell_type": "code",
      "source": [
        "poems_lines_df = data[['البيت']].head(30000).copy()\n",
        "poems_lines_df['البيت'] = poems_lines_df['البيت'].map(remove_arabic_punctuation)\n",
        "poems_lines_df['البيت'] = poems_lines_df['البيت'].map(strip_tashkeel)\n",
        "poems_lines_df['البيت'] = poems_lines_df['البيت'].map(remove_multiple_spaces)"
      ],
      "metadata": {
        "id": "umG7s16MZLLW"
      },
      "execution_count": 14,
      "outputs": []
    },
    {
      "cell_type": "code",
      "source": [
        "poems_lines_df = data[['البيت']].head(50000).copy()"
      ],
      "metadata": {
        "id": "BoLaNjkRy26s"
      },
      "execution_count": 22,
      "outputs": []
    },
    {
      "cell_type": "code",
      "source": [
        "poems_lines_df.to_csv(r'arabic_full_text.txt', header=None, index=None, sep=' ', mode='a')"
      ],
      "metadata": {
        "id": "YMHbJWRqZuA6"
      },
      "execution_count": 23,
      "outputs": []
    },
    {
      "cell_type": "code",
      "source": [
        "file_path = '/content/arabic_full_text.txt'"
      ],
      "metadata": {
        "id": "mo8JUCtSZkO9"
      },
      "execution_count": 24,
      "outputs": []
    },
    {
      "cell_type": "code",
      "source": [
        "from transformers import TextDataset, DataCollatorForLanguageModeling"
      ],
      "metadata": {
        "id": "87opB-QMYKUi"
      },
      "execution_count": 25,
      "outputs": []
    },
    {
      "cell_type": "code",
      "source": [
        "from sklearn.model_selection import train_test_split"
      ],
      "metadata": {
        "id": "MkQttx0GiUHA"
      },
      "execution_count": 26,
      "outputs": []
    },
    {
      "cell_type": "code",
      "source": [
        "train, test = train_test_split(poems_lines_df.head(50000), test_size=0.15, shuffle=False)"
      ],
      "metadata": {
        "id": "JjPri9P5iWCS"
      },
      "execution_count": 27,
      "outputs": []
    },
    {
      "cell_type": "code",
      "source": [
        "train.shape"
      ],
      "metadata": {
        "colab": {
          "base_uri": "https://localhost:8080/"
        },
        "id": "ZsHDb34-iYAD",
        "outputId": "cc3fe242-e471-460b-e6b3-3e602fb625a4"
      },
      "execution_count": 28,
      "outputs": [
        {
          "output_type": "execute_result",
          "data": {
            "text/plain": [
              "(42500, 1)"
            ]
          },
          "metadata": {},
          "execution_count": 28
        }
      ]
    },
    {
      "cell_type": "code",
      "source": [
        "train.columns"
      ],
      "metadata": {
        "colab": {
          "base_uri": "https://localhost:8080/"
        },
        "id": "dSX25ZFMigku",
        "outputId": "c7064f22-9070-4457-8d8c-3cdc80d0835a"
      },
      "execution_count": 29,
      "outputs": [
        {
          "output_type": "execute_result",
          "data": {
            "text/plain": [
              "Index(['البيت'], dtype='object')"
            ]
          },
          "metadata": {},
          "execution_count": 29
        }
      ]
    },
    {
      "cell_type": "code",
      "source": [
        "test.shape"
      ],
      "metadata": {
        "colab": {
          "base_uri": "https://localhost:8080/"
        },
        "id": "EyBkwfdKijfV",
        "outputId": "25407ee2-6774-4a89-aeb8-58840401c956"
      },
      "execution_count": 30,
      "outputs": [
        {
          "output_type": "execute_result",
          "data": {
            "text/plain": [
              "(7500, 1)"
            ]
          },
          "metadata": {},
          "execution_count": 30
        }
      ]
    },
    {
      "cell_type": "code",
      "source": [
        "train.to_csv(r'train_dataset.txt', header=None, index=None, sep=' ', mode='a')\n",
        "test.to_csv(r'test_dataset.txt', header=None, index=None, sep=' ', mode='a')"
      ],
      "metadata": {
        "id": "6sQxzg9einAz"
      },
      "execution_count": 31,
      "outputs": []
    },
    {
      "cell_type": "code",
      "source": [
        "train.head(3)"
      ],
      "metadata": {
        "colab": {
          "base_uri": "https://localhost:8080/",
          "height": 143
        },
        "id": "o6MRfd7qisE4",
        "outputId": "ee576710-be4c-4e82-9574-0651333df6da"
      },
      "execution_count": 32,
      "outputs": [
        {
          "output_type": "execute_result",
          "data": {
            "text/plain": [
              "                                                   البيت\n",
              "4042   وَالعارُ مَضّاضٌ وَلَيسَ بِخائِفٍ    مِن حَتفِ...\n",
              "1378   وَتُضحي الحُصونُ المُشمَخِرّاتُ في الذُرى    و...\n",
              "36951  لَم يَبقَ مِنهُم بَعدَهُم    إِلّا حَديثٌ أَو ..."
            ],
            "text/html": [
              "\n",
              "  <div id=\"df-c37818b2-886f-4524-8ec5-e89cd0cebbfc\">\n",
              "    <div class=\"colab-df-container\">\n",
              "      <div>\n",
              "<style scoped>\n",
              "    .dataframe tbody tr th:only-of-type {\n",
              "        vertical-align: middle;\n",
              "    }\n",
              "\n",
              "    .dataframe tbody tr th {\n",
              "        vertical-align: top;\n",
              "    }\n",
              "\n",
              "    .dataframe thead th {\n",
              "        text-align: right;\n",
              "    }\n",
              "</style>\n",
              "<table border=\"1\" class=\"dataframe\">\n",
              "  <thead>\n",
              "    <tr style=\"text-align: right;\">\n",
              "      <th></th>\n",
              "      <th>البيت</th>\n",
              "    </tr>\n",
              "  </thead>\n",
              "  <tbody>\n",
              "    <tr>\n",
              "      <th>4042</th>\n",
              "      <td>وَالعارُ مَضّاضٌ وَلَيسَ بِخائِفٍ    مِن حَتفِ...</td>\n",
              "    </tr>\n",
              "    <tr>\n",
              "      <th>1378</th>\n",
              "      <td>وَتُضحي الحُصونُ المُشمَخِرّاتُ في الذُرى    و...</td>\n",
              "    </tr>\n",
              "    <tr>\n",
              "      <th>36951</th>\n",
              "      <td>لَم يَبقَ مِنهُم بَعدَهُم    إِلّا حَديثٌ أَو ...</td>\n",
              "    </tr>\n",
              "  </tbody>\n",
              "</table>\n",
              "</div>\n",
              "      <button class=\"colab-df-convert\" onclick=\"convertToInteractive('df-c37818b2-886f-4524-8ec5-e89cd0cebbfc')\"\n",
              "              title=\"Convert this dataframe to an interactive table.\"\n",
              "              style=\"display:none;\">\n",
              "        \n",
              "  <svg xmlns=\"http://www.w3.org/2000/svg\" height=\"24px\"viewBox=\"0 0 24 24\"\n",
              "       width=\"24px\">\n",
              "    <path d=\"M0 0h24v24H0V0z\" fill=\"none\"/>\n",
              "    <path d=\"M18.56 5.44l.94 2.06.94-2.06 2.06-.94-2.06-.94-.94-2.06-.94 2.06-2.06.94zm-11 1L8.5 8.5l.94-2.06 2.06-.94-2.06-.94L8.5 2.5l-.94 2.06-2.06.94zm10 10l.94 2.06.94-2.06 2.06-.94-2.06-.94-.94-2.06-.94 2.06-2.06.94z\"/><path d=\"M17.41 7.96l-1.37-1.37c-.4-.4-.92-.59-1.43-.59-.52 0-1.04.2-1.43.59L10.3 9.45l-7.72 7.72c-.78.78-.78 2.05 0 2.83L4 21.41c.39.39.9.59 1.41.59.51 0 1.02-.2 1.41-.59l7.78-7.78 2.81-2.81c.8-.78.8-2.07 0-2.86zM5.41 20L4 18.59l7.72-7.72 1.47 1.35L5.41 20z\"/>\n",
              "  </svg>\n",
              "      </button>\n",
              "      \n",
              "  <style>\n",
              "    .colab-df-container {\n",
              "      display:flex;\n",
              "      flex-wrap:wrap;\n",
              "      gap: 12px;\n",
              "    }\n",
              "\n",
              "    .colab-df-convert {\n",
              "      background-color: #E8F0FE;\n",
              "      border: none;\n",
              "      border-radius: 50%;\n",
              "      cursor: pointer;\n",
              "      display: none;\n",
              "      fill: #1967D2;\n",
              "      height: 32px;\n",
              "      padding: 0 0 0 0;\n",
              "      width: 32px;\n",
              "    }\n",
              "\n",
              "    .colab-df-convert:hover {\n",
              "      background-color: #E2EBFA;\n",
              "      box-shadow: 0px 1px 2px rgba(60, 64, 67, 0.3), 0px 1px 3px 1px rgba(60, 64, 67, 0.15);\n",
              "      fill: #174EA6;\n",
              "    }\n",
              "\n",
              "    [theme=dark] .colab-df-convert {\n",
              "      background-color: #3B4455;\n",
              "      fill: #D2E3FC;\n",
              "    }\n",
              "\n",
              "    [theme=dark] .colab-df-convert:hover {\n",
              "      background-color: #434B5C;\n",
              "      box-shadow: 0px 1px 3px 1px rgba(0, 0, 0, 0.15);\n",
              "      filter: drop-shadow(0px 1px 2px rgba(0, 0, 0, 0.3));\n",
              "      fill: #FFFFFF;\n",
              "    }\n",
              "  </style>\n",
              "\n",
              "      <script>\n",
              "        const buttonEl =\n",
              "          document.querySelector('#df-c37818b2-886f-4524-8ec5-e89cd0cebbfc button.colab-df-convert');\n",
              "        buttonEl.style.display =\n",
              "          google.colab.kernel.accessAllowed ? 'block' : 'none';\n",
              "\n",
              "        async function convertToInteractive(key) {\n",
              "          const element = document.querySelector('#df-c37818b2-886f-4524-8ec5-e89cd0cebbfc');\n",
              "          const dataTable =\n",
              "            await google.colab.kernel.invokeFunction('convertToInteractive',\n",
              "                                                     [key], {});\n",
              "          if (!dataTable) return;\n",
              "\n",
              "          const docLinkHtml = 'Like what you see? Visit the ' +\n",
              "            '<a target=\"_blank\" href=https://colab.research.google.com/notebooks/data_table.ipynb>data table notebook</a>'\n",
              "            + ' to learn more about interactive tables.';\n",
              "          element.innerHTML = '';\n",
              "          dataTable['output_type'] = 'display_data';\n",
              "          await google.colab.output.renderOutput(dataTable, element);\n",
              "          const docLink = document.createElement('div');\n",
              "          docLink.innerHTML = docLinkHtml;\n",
              "          element.appendChild(docLink);\n",
              "        }\n",
              "      </script>\n",
              "    </div>\n",
              "  </div>\n",
              "  "
            ]
          },
          "metadata": {},
          "execution_count": 32
        }
      ]
    },
    {
      "cell_type": "code",
      "source": [
        "from transformers import AutoTokenizer\n",
        "\n",
        "tokenizer = AutoTokenizer.from_pretrained(\"aubmindlab/aragpt2-base\")\n",
        "\n",
        "train_path = '/content/train_dataset.txt'\n",
        "test_path = '/content/test_dataset.txt'"
      ],
      "metadata": {
        "id": "7D4XhdHwjMI8"
      },
      "execution_count": 33,
      "outputs": []
    },
    {
      "cell_type": "code",
      "source": [
        "def load_dataset(train_path,test_path,tokenizer):\n",
        "    train_dataset = TextDataset(\n",
        "          tokenizer=tokenizer,\n",
        "          file_path=train_path,\n",
        "          block_size=128)\n",
        "\n",
        "    test_dataset = TextDataset(\n",
        "          tokenizer=tokenizer,\n",
        "          file_path=test_path,\n",
        "          block_size=128)\n",
        "\n",
        "    data_collator = DataCollatorForLanguageModeling(\n",
        "        tokenizer=tokenizer, mlm=False,\n",
        "    )\n",
        "    return train_dataset,test_dataset,data_collator"
      ],
      "metadata": {
        "id": "S7Vy8i5GYLH6"
      },
      "execution_count": 34,
      "outputs": []
    },
    {
      "cell_type": "code",
      "source": [
        "train_dataset,test_dataset,data_collator = load_dataset(train_path,test_path,tokenizer)\n",
        "\n",
        "\n",
        "from transformers import Trainer, TrainingArguments, AutoModelWithLMHead\n"
      ],
      "metadata": {
        "colab": {
          "base_uri": "https://localhost:8080/"
        },
        "id": "KxzfJsmTaBm2",
        "outputId": "70822a61-7016-464f-cd50-a8d09b4e83b2"
      },
      "execution_count": 35,
      "outputs": [
        {
          "output_type": "stream",
          "name": "stderr",
          "text": [
            "/usr/local/lib/python3.10/dist-packages/transformers/data/datasets/language_modeling.py:53: FutureWarning: This dataset will be removed from the library soon, preprocessing should be handled with the 🤗 Datasets library. You can have a look at this example script for pointers: https://github.com/huggingface/transformers/blob/main/examples/pytorch/language-modeling/run_mlm.py\n",
            "  warnings.warn(\n"
          ]
        }
      ]
    },
    {
      "cell_type": "code",
      "source": [
        "# !pip install --upgrade accelerate"
      ],
      "metadata": {
        "id": "ZPgFzfJ2kYj-"
      },
      "execution_count": 28,
      "outputs": []
    },
    {
      "cell_type": "code",
      "source": [
        "# !pip install git+https://github.com/huggingface/accelerate\n"
      ],
      "metadata": {
        "id": "mIjuMcdEmEFy"
      },
      "execution_count": 72,
      "outputs": []
    },
    {
      "cell_type": "code",
      "source": [
        "# !pip install transformers==4.28.0\n"
      ],
      "metadata": {
        "id": "PwwzRfXKmviH"
      },
      "execution_count": 29,
      "outputs": []
    },
    {
      "cell_type": "code",
      "source": [
        "model = AutoModelWithLMHead.from_pretrained(\"aubmindlab/aragpt2-base\")\n",
        "\n",
        "training_args = TrainingArguments(\n",
        "    output_dir = \"./gpt2-araPoems\", #The output directory\n",
        "    overwrite_output_dir = True, #overwrite the content of the output directory\n",
        "    num_train_epochs = 15, # number of training epochs\n",
        "    per_device_train_batch_size=32, # batch size for training\n",
        "    per_device_eval_batch_size=64,  # batch size for evaluation\n",
        "    eval_steps = 400, # Number of update steps between two evaluations.\n",
        "    save_steps=800, # after # steps model is saved\n",
        "    warmup_steps=500,# number of warmup steps for learning rate scheduler\n",
        "    )\n",
        "\n",
        "trainer = Trainer(\n",
        "    model=model,\n",
        "    args=training_args,\n",
        "    data_collator=data_collator,\n",
        "    train_dataset=train_dataset,\n",
        "    eval_dataset=test_dataset,\n",
        ")"
      ],
      "metadata": {
        "id": "f2MEHBmNjZnF"
      },
      "execution_count": 50,
      "outputs": []
    },
    {
      "cell_type": "code",
      "source": [
        "trainer.train()"
      ],
      "metadata": {
        "colab": {
          "base_uri": "https://localhost:8080/",
          "height": 213
        },
        "id": "lwukyOF-oS-f",
        "outputId": "d96fa3e1-8097-4983-94d0-2bc7c8508d4c"
      },
      "execution_count": 51,
      "outputs": [
        {
          "output_type": "stream",
          "name": "stderr",
          "text": [
            "/usr/local/lib/python3.10/dist-packages/transformers/optimization.py:391: FutureWarning: This implementation of AdamW is deprecated and will be removed in a future version. Use the PyTorch implementation torch.optim.AdamW instead, or set `no_deprecation_warning=True` to disable this warning\n",
            "  warnings.warn(\n"
          ]
        },
        {
          "output_type": "display_data",
          "data": {
            "text/plain": [
              "<IPython.core.display.HTML object>"
            ],
            "text/html": [
              "\n",
              "    <div>\n",
              "      \n",
              "      <progress value='660' max='660' style='width:300px; height:20px; vertical-align: middle;'></progress>\n",
              "      [660/660 13:30, Epoch 15/15]\n",
              "    </div>\n",
              "    <table border=\"1\" class=\"dataframe\">\n",
              "  <thead>\n",
              " <tr style=\"text-align: left;\">\n",
              "      <th>Step</th>\n",
              "      <th>Training Loss</th>\n",
              "    </tr>\n",
              "  </thead>\n",
              "  <tbody>\n",
              "    <tr>\n",
              "      <td>500</td>\n",
              "      <td>6.511200</td>\n",
              "    </tr>\n",
              "  </tbody>\n",
              "</table><p>"
            ]
          },
          "metadata": {}
        },
        {
          "output_type": "execute_result",
          "data": {
            "text/plain": [
              "TrainOutput(global_step=660, training_loss=6.18901025020715, metrics={'train_runtime': 811.2851, 'train_samples_per_second': 25.681, 'train_steps_per_second': 0.814, 'total_flos': 1361004871680000.0, 'train_loss': 6.18901025020715, 'epoch': 15.0})"
            ]
          },
          "metadata": {},
          "execution_count": 51
        }
      ]
    },
    {
      "cell_type": "code",
      "source": [
        "trainer.save_model('./aragpt_model__15_epoch')\n",
        "\n",
        "from google.colab import files\n",
        "import shutil\n",
        "\n",
        "# Compress the folder into a zip file\n",
        "shutil.make_archive(\"/content/aragpt_model__15_epoch\", \"zip\", \"/content/aragpt_model__15_epoch\")\n"
      ],
      "metadata": {
        "colab": {
          "base_uri": "https://localhost:8080/",
          "height": 35
        },
        "id": "3UQz9rejzOmz",
        "outputId": "88e9a2ac-bd56-436a-d596-9eb07d4b5899"
      },
      "execution_count": 53,
      "outputs": [
        {
          "output_type": "execute_result",
          "data": {
            "text/plain": [
              "'/content/aragpt_model__15_epoch.zip'"
            ],
            "application/vnd.google.colaboratory.intrinsic+json": {
              "type": "string"
            }
          },
          "metadata": {},
          "execution_count": 53
        }
      ]
    },
    {
      "cell_type": "code",
      "source": [
        "from transformers import pipeline"
      ],
      "metadata": {
        "id": "i5o-K8XQrDd3"
      },
      "execution_count": 41,
      "outputs": []
    },
    {
      "cell_type": "code",
      "source": [
        "generator_ = pipeline('text-generation', model='./aragpt_model__15_epoch', tokenizer='aubmindlab/aragpt2-base')"
      ],
      "metadata": {
        "id": "PERIViJyrHEa"
      },
      "execution_count": 54,
      "outputs": []
    },
    {
      "cell_type": "code",
      "source": [
        "max_words = 50  # Set the desired maximum number of words\n",
        "\n",
        "result = generator_('الليل ', max_length = 60)[0]['generated_text']"
      ],
      "metadata": {
        "colab": {
          "base_uri": "https://localhost:8080/"
        },
        "id": "JqKIO2e6rG8c",
        "outputId": "f03654a2-97c0-40e8-a752-a9abee729cc1"
      },
      "execution_count": 61,
      "outputs": [
        {
          "output_type": "stream",
          "name": "stderr",
          "text": [
            "Setting `pad_token_id` to `eos_token_id`:0 for open-end generation.\n"
          ]
        }
      ]
    },
    {
      "cell_type": "code",
      "source": [
        "print(result)"
      ],
      "metadata": {
        "colab": {
          "base_uri": "https://localhost:8080/"
        },
        "id": "l1H8duI0rSAM",
        "outputId": "584e7a3b-4c14-455e-f908-26cb1f1c1c58"
      },
      "execution_count": 62,
      "outputs": [
        {
          "output_type": "stream",
          "name": "stdout",
          "text": [
            "الليل يبيتون على الفوارس والأسياف\"\n",
            "\"إذا لم يكن من الدهر إلا أن يكون في الناس مواهبه وأن تكون الدنيا عنده غمام\"\n",
            "لما انجلت عنه الشمس عن وجهه حتى أضاءت منه ضوء النهار\"\n",
            "ألا يا ابن أبي العاصي إن\n"
          ]
        }
      ]
    },
    {
      "cell_type": "code",
      "source": [
        "data"
      ],
      "metadata": {
        "colab": {
          "base_uri": "https://localhost:8080/",
          "height": 423
        },
        "id": "gDvqqJ1xrShN",
        "outputId": "59c6131a-dbd7-4763-9d49-e24a838d82eb"
      },
      "execution_count": 40,
      "outputs": [
        {
          "output_type": "execute_result",
          "data": {
            "text/plain": [
              "                                                     البيت\n",
              "0        خَليلَيَّ لا تَستَعجِلا أَن تَزَوَّدا    وَأَن...\n",
              "1        فَما لَبَثٌ يَوماً بِسابِقٍ مَغنَمٍ    وَلا سُ...\n",
              "2        وَإِن تُنظِراني اليَومَ أَقضِ لُبانَةً    وَتَ...\n",
              "3        لَعَمرُكَ ما نَفسٌ بِجِدٍ رَشيدَةٍ    تُؤامِرُ...\n",
              "4        وَإِن ظَهَرَت مِنهُ قَوارِصُ جَمَّةٌ    وَأَفر...\n",
              "...                                                    ...\n",
              "1831765  هي أغلى ما أنشأ اللَّه في الدنيا    وأحلى قصيد...\n",
              "1831766  هي أغرودة الأغاريد تنساب    كحلم يغشى الجفون ا...\n",
              "1831767      هي شلال بهجة وبهاء    يتداعى وجداً ويخفق حسنا\n",
              "1831768  هي حلم الهوى ومنطلقي الباقي    يدك الحدود سجنا...\n",
              "1831769  هي حبي العاتي وكل غرامي    آه لو أدرك الغرام لجنا\n",
              "\n",
              "[1831770 rows x 1 columns]"
            ],
            "text/html": [
              "\n",
              "  <div id=\"df-e2a1a196-84e5-4f01-b973-eb51ed009cb5\">\n",
              "    <div class=\"colab-df-container\">\n",
              "      <div>\n",
              "<style scoped>\n",
              "    .dataframe tbody tr th:only-of-type {\n",
              "        vertical-align: middle;\n",
              "    }\n",
              "\n",
              "    .dataframe tbody tr th {\n",
              "        vertical-align: top;\n",
              "    }\n",
              "\n",
              "    .dataframe thead th {\n",
              "        text-align: right;\n",
              "    }\n",
              "</style>\n",
              "<table border=\"1\" class=\"dataframe\">\n",
              "  <thead>\n",
              "    <tr style=\"text-align: right;\">\n",
              "      <th></th>\n",
              "      <th>البيت</th>\n",
              "    </tr>\n",
              "  </thead>\n",
              "  <tbody>\n",
              "    <tr>\n",
              "      <th>0</th>\n",
              "      <td>خَليلَيَّ لا تَستَعجِلا أَن تَزَوَّدا    وَأَن...</td>\n",
              "    </tr>\n",
              "    <tr>\n",
              "      <th>1</th>\n",
              "      <td>فَما لَبَثٌ يَوماً بِسابِقٍ مَغنَمٍ    وَلا سُ...</td>\n",
              "    </tr>\n",
              "    <tr>\n",
              "      <th>2</th>\n",
              "      <td>وَإِن تُنظِراني اليَومَ أَقضِ لُبانَةً    وَتَ...</td>\n",
              "    </tr>\n",
              "    <tr>\n",
              "      <th>3</th>\n",
              "      <td>لَعَمرُكَ ما نَفسٌ بِجِدٍ رَشيدَةٍ    تُؤامِرُ...</td>\n",
              "    </tr>\n",
              "    <tr>\n",
              "      <th>4</th>\n",
              "      <td>وَإِن ظَهَرَت مِنهُ قَوارِصُ جَمَّةٌ    وَأَفر...</td>\n",
              "    </tr>\n",
              "    <tr>\n",
              "      <th>...</th>\n",
              "      <td>...</td>\n",
              "    </tr>\n",
              "    <tr>\n",
              "      <th>1831765</th>\n",
              "      <td>هي أغلى ما أنشأ اللَّه في الدنيا    وأحلى قصيد...</td>\n",
              "    </tr>\n",
              "    <tr>\n",
              "      <th>1831766</th>\n",
              "      <td>هي أغرودة الأغاريد تنساب    كحلم يغشى الجفون ا...</td>\n",
              "    </tr>\n",
              "    <tr>\n",
              "      <th>1831767</th>\n",
              "      <td>هي شلال بهجة وبهاء    يتداعى وجداً ويخفق حسنا</td>\n",
              "    </tr>\n",
              "    <tr>\n",
              "      <th>1831768</th>\n",
              "      <td>هي حلم الهوى ومنطلقي الباقي    يدك الحدود سجنا...</td>\n",
              "    </tr>\n",
              "    <tr>\n",
              "      <th>1831769</th>\n",
              "      <td>هي حبي العاتي وكل غرامي    آه لو أدرك الغرام لجنا</td>\n",
              "    </tr>\n",
              "  </tbody>\n",
              "</table>\n",
              "<p>1831770 rows × 1 columns</p>\n",
              "</div>\n",
              "      <button class=\"colab-df-convert\" onclick=\"convertToInteractive('df-e2a1a196-84e5-4f01-b973-eb51ed009cb5')\"\n",
              "              title=\"Convert this dataframe to an interactive table.\"\n",
              "              style=\"display:none;\">\n",
              "        \n",
              "  <svg xmlns=\"http://www.w3.org/2000/svg\" height=\"24px\"viewBox=\"0 0 24 24\"\n",
              "       width=\"24px\">\n",
              "    <path d=\"M0 0h24v24H0V0z\" fill=\"none\"/>\n",
              "    <path d=\"M18.56 5.44l.94 2.06.94-2.06 2.06-.94-2.06-.94-.94-2.06-.94 2.06-2.06.94zm-11 1L8.5 8.5l.94-2.06 2.06-.94-2.06-.94L8.5 2.5l-.94 2.06-2.06.94zm10 10l.94 2.06.94-2.06 2.06-.94-2.06-.94-.94-2.06-.94 2.06-2.06.94z\"/><path d=\"M17.41 7.96l-1.37-1.37c-.4-.4-.92-.59-1.43-.59-.52 0-1.04.2-1.43.59L10.3 9.45l-7.72 7.72c-.78.78-.78 2.05 0 2.83L4 21.41c.39.39.9.59 1.41.59.51 0 1.02-.2 1.41-.59l7.78-7.78 2.81-2.81c.8-.78.8-2.07 0-2.86zM5.41 20L4 18.59l7.72-7.72 1.47 1.35L5.41 20z\"/>\n",
              "  </svg>\n",
              "      </button>\n",
              "      \n",
              "  <style>\n",
              "    .colab-df-container {\n",
              "      display:flex;\n",
              "      flex-wrap:wrap;\n",
              "      gap: 12px;\n",
              "    }\n",
              "\n",
              "    .colab-df-convert {\n",
              "      background-color: #E8F0FE;\n",
              "      border: none;\n",
              "      border-radius: 50%;\n",
              "      cursor: pointer;\n",
              "      display: none;\n",
              "      fill: #1967D2;\n",
              "      height: 32px;\n",
              "      padding: 0 0 0 0;\n",
              "      width: 32px;\n",
              "    }\n",
              "\n",
              "    .colab-df-convert:hover {\n",
              "      background-color: #E2EBFA;\n",
              "      box-shadow: 0px 1px 2px rgba(60, 64, 67, 0.3), 0px 1px 3px 1px rgba(60, 64, 67, 0.15);\n",
              "      fill: #174EA6;\n",
              "    }\n",
              "\n",
              "    [theme=dark] .colab-df-convert {\n",
              "      background-color: #3B4455;\n",
              "      fill: #D2E3FC;\n",
              "    }\n",
              "\n",
              "    [theme=dark] .colab-df-convert:hover {\n",
              "      background-color: #434B5C;\n",
              "      box-shadow: 0px 1px 3px 1px rgba(0, 0, 0, 0.15);\n",
              "      filter: drop-shadow(0px 1px 2px rgba(0, 0, 0, 0.3));\n",
              "      fill: #FFFFFF;\n",
              "    }\n",
              "  </style>\n",
              "\n",
              "      <script>\n",
              "        const buttonEl =\n",
              "          document.querySelector('#df-e2a1a196-84e5-4f01-b973-eb51ed009cb5 button.colab-df-convert');\n",
              "        buttonEl.style.display =\n",
              "          google.colab.kernel.accessAllowed ? 'block' : 'none';\n",
              "\n",
              "        async function convertToInteractive(key) {\n",
              "          const element = document.querySelector('#df-e2a1a196-84e5-4f01-b973-eb51ed009cb5');\n",
              "          const dataTable =\n",
              "            await google.colab.kernel.invokeFunction('convertToInteractive',\n",
              "                                                     [key], {});\n",
              "          if (!dataTable) return;\n",
              "\n",
              "          const docLinkHtml = 'Like what you see? Visit the ' +\n",
              "            '<a target=\"_blank\" href=https://colab.research.google.com/notebooks/data_table.ipynb>data table notebook</a>'\n",
              "            + ' to learn more about interactive tables.';\n",
              "          element.innerHTML = '';\n",
              "          dataTable['output_type'] = 'display_data';\n",
              "          await google.colab.output.renderOutput(dataTable, element);\n",
              "          const docLink = document.createElement('div');\n",
              "          docLink.innerHTML = docLinkHtml;\n",
              "          element.appendChild(docLink);\n",
              "        }\n",
              "      </script>\n",
              "    </div>\n",
              "  </div>\n",
              "  "
            ]
          },
          "metadata": {},
          "execution_count": 40
        }
      ]
    },
    {
      "cell_type": "code",
      "source": [
        "# sess = gpt2.start_tf_sess()\n",
        "\n",
        "# gpt2.finetune(sess,\n",
        "#               dataset= \" \\n\".join(poems_lines),\n",
        "#               model_name='124M',\n",
        "#               steps=2000,\n",
        "#               restore_from='fresh',\n",
        "#               run_name='run1',\n",
        "#               print_every=50,\n",
        "#               sample_every=200,\n",
        "#               save_every=500\n",
        "#               )"
      ],
      "metadata": {
        "id": "B5ctEdukNGIV"
      },
      "execution_count": null,
      "outputs": []
    },
    {
      "cell_type": "code",
      "source": [
        "# import gpt_2_simple as gpt2\n",
        "\n",
        "# import tensorflow as tf\n",
        "# Download the GPT-2 model (run only once)\n",
        "# gpt2.download_gpt2(model_name='124M')\n",
        "\n",
        "# Load the fine-tuning data\n",
        "# data_path = 'path/to/your/preprocessed_data.txt'  # Replace with the path to your preprocessed data\n",
        "# # Clear the TensorFlow graph\n",
        "# # Clear the TensorFlow graph\n",
        "# tf.compat.v1.reset_default_graph()\n",
        "# sess = gpt2.start_tf_sess()\n",
        "# gpt2.finetune(sess,\n",
        "#               dataset = poems_lines[0: 12000],\n",
        "#               model_name='124M',\n",
        "#               steps=1000)\n",
        "\n",
        "# # Save the fine-tuned model\n",
        "# gpt2.save_model(sess, './aragpt2')\n",
        "\n",
        "# # Generate text using the fine-tuned model\n",
        "# generated_text = gpt2.generate(sess, prefix='الليل', length=100)\n",
        "# print(generated_text)\n"
      ],
      "metadata": {
        "id": "mschkGfmV7En"
      },
      "execution_count": null,
      "outputs": []
    },
    {
      "cell_type": "markdown",
      "source": [
        "--------------------------------------------\n",
        "# **Another solution**"
      ],
      "metadata": {
        "id": "C8aNr6v8zRku"
      }
    },
    {
      "cell_type": "code",
      "source": [
        "from google.colab import drive\n",
        "drive.mount('/content/drive', force_remount = True) "
      ],
      "metadata": {
        "colab": {
          "base_uri": "https://localhost:8080/"
        },
        "id": "YgdLIIKD4BbE",
        "outputId": "6a1d8efa-47ba-485d-9fd5-313e28b7380b"
      },
      "execution_count": null,
      "outputs": [
        {
          "output_type": "stream",
          "name": "stdout",
          "text": [
            "Mounted at /content/drive\n"
          ]
        }
      ]
    },
    {
      "cell_type": "code",
      "source": [
        "import numpy as np\n",
        "# import torch\n",
        "# from torch import nn\n",
        "# import torch.nn.functional as F"
      ],
      "metadata": {
        "id": "z1U9M3VQcgkM"
      },
      "execution_count": null,
      "outputs": []
    },
    {
      "cell_type": "markdown",
      "source": [
        "## Load Data"
      ],
      "metadata": {
        "id": "qfq2nC011SLr"
      }
    },
    {
      "cell_type": "code",
      "source": [
        "# open text file and read in data as `text`\n",
        "with open('/content/all_data.txt', 'r',encoding=\"utf-8\") as f:\n",
        "    text = f.read()"
      ],
      "metadata": {
        "id": "faAMEqaA1Q2D"
      },
      "execution_count": null,
      "outputs": []
    },
    {
      "cell_type": "code",
      "source": [
        "text[:100]"
      ],
      "metadata": {
        "colab": {
          "base_uri": "https://localhost:8080/",
          "height": 36
        },
        "id": "nziwigdl1WJi",
        "outputId": "1d50aee7-c7a0-40f1-8e98-de5b4c6fe5c0"
      },
      "execution_count": null,
      "outputs": [
        {
          "output_type": "execute_result",
          "data": {
            "text/plain": [
              "'بدت تختال في حُلل الجمالِ\\n\\nوجادت بالزيارة والوصال\\n\\nتميس فلا يعادلها قضيب\\n\\nوإن ترنو تداعب بالنصال\\n\\nبم'"
            ],
            "application/vnd.google.colaboratory.intrinsic+json": {
              "type": "string"
            }
          },
          "metadata": {},
          "execution_count": 9
        }
      ]
    },
    {
      "cell_type": "markdown",
      "source": [
        "## Tokenization"
      ],
      "metadata": {
        "id": "Qa0jwCJ01e9M"
      }
    },
    {
      "cell_type": "code",
      "source": [
        "# encode the text and map each character to an integer and vice versa\n",
        "\n",
        "# we create two dictionaries:\n",
        "# 1. int2char, which maps integers to characters\n",
        "# 2. char2int, which maps characters to unique integers\n",
        "chars = tuple(set(text))\n",
        "int2char = dict(enumerate(chars))\n",
        "char2int = {ch: ii for ii, ch in int2char.items()}\n",
        "\n",
        "# encode the text\n",
        "encoded = np.array([char2int[ch] for ch in text])"
      ],
      "metadata": {
        "id": "3q76eu2P1XC7"
      },
      "execution_count": null,
      "outputs": []
    },
    {
      "cell_type": "code",
      "source": [
        "encoded[:100]"
      ],
      "metadata": {
        "colab": {
          "base_uri": "https://localhost:8080/"
        },
        "id": "GdMrqlqP1W_Y",
        "outputId": "c48a9023-39c9-4e53-90eb-40b92336c801"
      },
      "execution_count": null,
      "outputs": [
        {
          "output_type": "execute_result",
          "data": {
            "text/plain": [
              "array([21, 10, 34, 38, 34, 39, 34, 23, 31, 38, 44, 52, 38, 68, 22, 31, 31,\n",
              "       38, 23, 31,  3, 14, 23, 31, 73, 75, 75, 16,  3, 23, 10, 34, 38, 21,\n",
              "       23, 31, 62, 52, 23, 47, 11, 38, 16, 23, 31, 16, 51, 23, 31, 75, 75,\n",
              "       34, 14, 52,  4, 38, 44, 31, 23, 38, 52, 40, 23, 10, 31, 27, 23, 38,\n",
              "       74, 67, 52, 21, 75, 75, 16, 79, 76, 38, 34, 47, 76, 16, 38, 34, 10,\n",
              "       23, 40, 21, 38, 21, 23, 31, 76, 51, 23, 31, 75, 75, 21, 14])"
            ]
          },
          "metadata": {},
          "execution_count": 11
        }
      ]
    },
    {
      "cell_type": "markdown",
      "source": [
        "## Pre-processing the data\n",
        "\n",
        "in char-RNN, the LSTM expects an input that is one-hot encoded for more about one-hot-encoding, check out this post"
      ],
      "metadata": {
        "id": "SIRQKFaf1loV"
      }
    },
    {
      "cell_type": "code",
      "source": [
        "def one_hot_encode(arr, n_labels):\n",
        "    \n",
        "    # Initialize the the encoded array\n",
        "    one_hot = np.zeros((arr.size, n_labels), dtype=np.float32)\n",
        "    \n",
        "    # Fill the appropriate elements with ones\n",
        "    one_hot[np.arange(one_hot.shape[0]), arr.flatten()] = 1.\n",
        "    \n",
        "    # Finally reshape it to get back to the original array\n",
        "    one_hot = one_hot.reshape((*arr.shape, n_labels))\n",
        "    \n",
        "    return one_hot"
      ],
      "metadata": {
        "id": "yVATqvHK1W8x"
      },
      "execution_count": null,
      "outputs": []
    },
    {
      "cell_type": "code",
      "source": [
        "def get_batches(arr, batch_size, seq_length):\n",
        "\n",
        "    batch_size_total = batch_size * seq_length\n",
        "    # total number of batches we can make\n",
        "    n_batches = len(arr)//batch_size_total\n",
        "    \n",
        "    # Keep only enough characters to make full batches\n",
        "    arr = arr[:n_batches * batch_size_total]\n",
        "    # Reshape into batch_size rows\n",
        "    arr = arr.reshape((batch_size, -1))\n",
        "    \n",
        "    # iterate through the array, one sequence at a time\n",
        "    for n in range(0, arr.shape[1], seq_length):\n",
        "        # The features\n",
        "        x = arr[:, n:n+seq_length]\n",
        "        # The targets, shifted by one\n",
        "        y = np.zeros_like(x)\n",
        "        try:\n",
        "            y[:, :-1], y[:, -1] = x[:, 1:], arr[:, n+seq_length]\n",
        "        except IndexError:\n",
        "            y[:, :-1], y[:, -1] = x[:, 1:], arr[:, 0]\n",
        "        yield x, y"
      ],
      "metadata": {
        "id": "KO_56h4i1W6J"
      },
      "execution_count": null,
      "outputs": []
    },
    {
      "cell_type": "markdown",
      "source": [
        "## Visualise the output\n",
        "\n",
        "let's try to get batches out of the 100 character of encoded data and see what's happening"
      ],
      "metadata": {
        "id": "gkoFc7UF1za2"
      }
    },
    {
      "cell_type": "code",
      "source": [
        "batches = get_batches(encoded, 8, 50)\n",
        "x, y = next(batches)\n",
        "# printing out the first 10 items in a sequence\n",
        "print('x\\n', x[:10, :10])\n",
        "print('\\ny\\n', y[:10, :10])"
      ],
      "metadata": {
        "colab": {
          "base_uri": "https://localhost:8080/"
        },
        "id": "df_9L2AM1W3k",
        "outputId": "907abb33-c136-4dcf-86d7-506087d8d805"
      },
      "execution_count": null,
      "outputs": [
        {
          "output_type": "stream",
          "name": "stdout",
          "text": [
            "x\n",
            " [[21 10 34 38 34 39 34 23 31 38]\n",
            " [76 29 38 14 23 38 68 23 31 34]\n",
            " [51 29 68 29 16 76 23 38 44 29]\n",
            " [47 74 22 38 23 31 40 22 52 16]\n",
            " [44 29 17 29 76 61 29 17 16 23]\n",
            " [17 47 67 73 38  0 29 76 62 23]\n",
            " [27 23 76 22 27 23 75 75 68 34]\n",
            " [16 27  3 47 34 27 38 31 23 38]]\n",
            "\n",
            "y\n",
            " [[10 34 38 34 39 34 23 31 38 44]\n",
            " [29 38 14 23 38 68 23 31 34 73]\n",
            " [29 68 29 16 76 23 38 44 29 17]\n",
            " [74 22 38 23 31 40 22 52 16 76]\n",
            " [29 17 29 76 61 29 17 16 23 38]\n",
            " [47 67 73 38  0 29 76 62 23 65]\n",
            " [23 76 22 27 23 75 75 68 34 53]\n",
            " [27  3 47 34 27 38 31 23 38 34]]\n"
          ]
        }
      ]
    },
    {
      "cell_type": "markdown",
      "source": [
        "## Defining the network"
      ],
      "metadata": {
        "id": "yHXCBv8X15Xz"
      }
    },
    {
      "cell_type": "code",
      "source": [
        "# from google.colab import drive\n",
        "# drive.mount('/content/drive', force_remount = True) "
      ],
      "metadata": {
        "id": "6Qc1UfXS3ilu"
      },
      "execution_count": null,
      "outputs": []
    },
    {
      "cell_type": "code",
      "source": [
        "import tensorflow as tf\n",
        "\n",
        "# Define the model architecture\n",
        "vocab_size = 82\n",
        "hidden_units = 512\n",
        "num_layers = 5\n",
        "dropout_rate = 0.5\n",
        "\n",
        "model = tf.keras.Sequential([\n",
        "    tf.keras.layers.Embedding(vocab_size, hidden_units),\n",
        "    tf.keras.layers.LSTM(hidden_units, return_sequences=True, dropout=dropout_rate, recurrent_dropout=dropout_rate),\n",
        "    tf.keras.layers.Dropout(dropout_rate),\n",
        "    tf.keras.layers.Dense(vocab_size)\n",
        "])\n",
        "\n",
        "# Compile the model\n",
        "model.compile(loss=tf.keras.losses.SparseCategoricalCrossentropy(from_logits=True),\n",
        "              optimizer='adam',\n",
        "              metrics=['accuracy'])\n"
      ],
      "metadata": {
        "colab": {
          "base_uri": "https://localhost:8080/"
        },
        "id": "KxXDHGro1W02",
        "outputId": "5ec0668b-e5ac-4940-8004-470e98ad56f6"
      },
      "execution_count": null,
      "outputs": [
        {
          "output_type": "stream",
          "name": "stderr",
          "text": [
            "WARNING:tensorflow:Layer lstm will not use cuDNN kernels since it doesn't meet the criteria. It will use a generic GPU kernel as fallback when running on GPU.\n"
          ]
        }
      ]
    },
    {
      "cell_type": "code",
      "source": [
        "model.fit(encoded,,epochs=100, verbose=1)"
      ],
      "metadata": {
        "id": "aO6wmtmj1WyW"
      },
      "execution_count": null,
      "outputs": []
    },
    {
      "cell_type": "code",
      "source": [],
      "metadata": {
        "id": "obijmXh81WuA"
      },
      "execution_count": null,
      "outputs": []
    },
    {
      "cell_type": "code",
      "source": [],
      "metadata": {
        "id": "Hh9OkXuW1Wmr"
      },
      "execution_count": null,
      "outputs": []
    }
  ]
}